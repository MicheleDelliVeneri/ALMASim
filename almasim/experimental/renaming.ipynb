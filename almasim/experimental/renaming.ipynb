{
 "cells": [
  {
   "cell_type": "code",
   "execution_count": 1,
   "metadata": {},
   "outputs": [
    {
     "name": "stdout",
     "output_type": "stream",
     "text": [
      "Rinominato: dirty-cube_0.fits -> WMH5_uid___A001_X121_X24b_mock.fits\n",
      "Rinominato: dirty-cube_1.fits -> J0842+1218_uid___A001_X2fb_X3ec_mock.fits\n",
      "Rinominato: dirty-cube_2.fits -> PJ065-26_uid___A001_X2fb_X3e4_mock.fits\n",
      "Rinominato: dirty-cube_3.fits -> J1306+0356_uid___A001_X2fb_X40c_mock.fits\n"
     ]
    }
   ],
   "source": [
    "import os\n",
    "import re\n",
    "\n",
    "# Directory with files\n",
    "directory_renaming = r\"C:\\Users\\lsann\\Desktop\\Simulation\\Test21\"\n",
    "\n",
    "# Reading and extracting parameters from sim_params\n",
    "def estrai_parametri_sim(file_path):\n",
    "    with open(file_path, 'r') as file:\n",
    "        contenuto = file.read()\n",
    "        \n",
    "        # Extract source name\n",
    "        source_name = re.search(r\"Source Name: (.+)\", contenuto).group(1).strip()\n",
    "        \n",
    "        # Extract and change member ouid\n",
    "        member_ouid = re.search(r\"Member OUID: \\\"(.+)\\\"\", contenuto).group(1).strip()\n",
    "        member_ouid = member_ouid.replace(\":\", \"_\").replace(\"/\", \"_\")\n",
    "    \n",
    "    return source_name, member_ouid\n",
    "\n",
    "# Renaming files with same base name\n",
    "def crea_nome_univoco(base_path, nome_file):\n",
    "    counter = 1\n",
    "    nome_base, estensione = os.path.splitext(nome_file)\n",
    "    nuovo_nome = nome_file\n",
    "    \n",
    "    # Cycling for renaming file with same name\n",
    "    while os.path.exists(os.path.join(base_path, nuovo_nome)):\n",
    "        nuovo_nome = f\"{nome_base}({counter}){estensione}\"\n",
    "        counter += 1\n",
    "        \n",
    "    return nuovo_nome\n",
    "\n",
    "for filename in os.listdir(directory_renaming):\n",
    "    # Finding sim_params\n",
    "    if filename.startswith('sim_params_') and filename.endswith('.txt'):\n",
    "        # Number of sim_params\n",
    "        numero = filename.split('_')[-1].split('.')[0]\n",
    "        \n",
    "        # Path to sim_params\n",
    "        sim_params_path = os.path.join(directory_renaming, filename)\n",
    "        \n",
    "        # Extrating member ouid and source name from sim_params\n",
    "        source_name, member_ouid = estrai_parametri_sim(sim_params_path)\n",
    "        \n",
    "        # New name source+memberouid\n",
    "        base_nome = f\"{source_name}_{member_ouid}_mock.fits\"\n",
    "        \n",
    "        # Matching files\n",
    "        dirty_cube_filename = f\"dirty-cube_{numero}.fits\"\n",
    "        dirty_cube_path = os.path.join(directory_renaming, dirty_cube_filename)\n",
    "        \n",
    "        # Verify pre-exisiting files\n",
    "        if os.path.exists(dirty_cube_path):\n",
    "            # new_name\n",
    "            nuovo_nome = crea_nome_univoco(directory_renaming, base_nome)\n",
    "            \n",
    "            # Path\n",
    "            nuovo_dirty_cube_path = os.path.join(directory_renaming, nuovo_nome)\n",
    "            \n",
    "            # Renaming\n",
    "            os.rename(dirty_cube_path, nuovo_dirty_cube_path)\n",
    "            print(f\"Rinominato: {dirty_cube_filename} -> {nuovo_nome}\")\n",
    "        else:\n",
    "            print(f\"File non trovato: {dirty_cube_filename}\")\n"
   ]
  }
 ],
 "metadata": {
  "kernelspec": {
   "display_name": "Python 3",
   "language": "python",
   "name": "python3"
  },
  "language_info": {
   "codemirror_mode": {
    "name": "ipython",
    "version": 3
   },
   "file_extension": ".py",
   "mimetype": "text/x-python",
   "name": "python",
   "nbconvert_exporter": "python",
   "pygments_lexer": "ipython3",
   "version": "3.12.4"
  }
 },
 "nbformat": 4,
 "nbformat_minor": 2
}
