{
 "cells": [
  {
   "cell_type": "code",
   "execution_count": 1,
   "metadata": {},
   "outputs": [],
   "source": [
    "import numpy as np\n",
    "import pandas as pd\n",
    "import matplotlib.pyplot as plt\n",
    "import seaborn as sns\n",
    "from astropy import units as U\n",
    "from astropy import constants as const\n",
    "from astropy.coordinates import SkyCoord\n",
    "import astropy.units as U"
   ]
  },
  {
   "cell_type": "code",
   "execution_count": 17,
   "metadata": {},
   "outputs": [
    {
     "name": "stderr",
     "output_type": "stream",
     "text": [
      "/var/folders/66/76q50s015tq8wc5qz1pvg7y40000gn/T/ipykernel_1122/55381802.py:1: DtypeWarning: Columns (35) have mixed types. Specify dtype option on import or set low_memory=False.\n",
      "  observation_metadata = pd.read_csv('all_alma_data.csv')\n"
     ]
    },
    {
     "name": "stdout",
     "output_type": "stream",
     "text": [
      "(81999,) (37906,)\n",
      "<class 'pandas.core.frame.DataFrame'>\n",
      "Int64Index: 35089 entries, 4 to 81998\n",
      "Data columns (total 12 columns):\n",
      " #   Column                       Non-Null Count  Dtype  \n",
      "---  ------                       --------------  -----  \n",
      " 0   spatial_resolution [arcsec]  35089 non-null  float64\n",
      " 1   integration_time [s]         35089 non-null  float64\n",
      " 2   frequency_min [m]            35089 non-null  float64\n",
      " 3   frequency_max [m]            35089 non-null  float64\n",
      " 4   frequency_resolution [m]     35089 non-null  float64\n",
      " 5   bandwidth [MHz]              35089 non-null  float64\n",
      " 6   frequency [Ghz]              35089 non-null  float64\n",
      " 7   frequency_support            35089 non-null  object \n",
      " 8   velocity_resolution [Km/s]   35089 non-null  float64\n",
      " 9   ra [deg]                     35089 non-null  float64\n",
      " 10  dec [deg]                    35089 non-null  float64\n",
      " 11  t_resolution                 35089 non-null  float64\n",
      "dtypes: float64(11), object(1)\n",
      "memory usage: 3.5+ MB\n"
     ]
    },
    {
     "name": "stderr",
     "output_type": "stream",
     "text": [
      "/var/folders/66/76q50s015tq8wc5qz1pvg7y40000gn/T/ipykernel_1122/55381802.py:42: SettingWithCopyWarning: \n",
      "A value is trying to be set on a copy of a slice from a DataFrame.\n",
      "Try using .loc[row_indexer,col_indexer] = value instead\n",
      "\n",
      "See the caveats in the documentation: https://pandas.pydata.org/pandas-docs/stable/user_guide/indexing.html#returning-a-view-versus-a-copy\n",
      "  observation_dist['J2000 coordinates'] = coords\n",
      "/var/folders/66/76q50s015tq8wc5qz1pvg7y40000gn/T/ipykernel_1122/55381802.py:43: SettingWithCopyWarning: \n",
      "A value is trying to be set on a copy of a slice from a DataFrame.\n",
      "Try using .loc[row_indexer,col_indexer] = value instead\n",
      "\n",
      "See the caveats in the documentation: https://pandas.pydata.org/pandas-docs/stable/user_guide/indexing.html#returning-a-view-versus-a-copy\n",
      "  observation_dist['frequency_resolution [MHz]'] = freq_res\n"
     ]
    }
   ],
   "source": [
    "observation_metadata = pd.read_csv('all_alma_data.csv')\n",
    "observation_metadata = observation_metadata[['s_resolution', 't_exptime', 'em_min', 't_resolution',\n",
    "                        'em_max', 'em_resolution', 'spatial_resolution', 'bandwidth', \n",
    "                        'frequency', 'frequency_support', 'velocity_resolution', 'sensitivity_10kms', \n",
    "                        'cont_sensitivity_bandwidth', 'scan_intent', 's_ra', 's_dec']]\n",
    "observation_metadata = observation_metadata.dropna()\n",
    "\n",
    "scan_intents = observation_metadata['scan_intent'].values\n",
    "ids = []\n",
    "for i, scan in enumerate(scan_intents):\n",
    "    if 'TARGET' in scan:\n",
    "        ids.append(i)\n",
    "ids = np.array(ids)\n",
    "print(scan_intents.shape, ids.shape)\n",
    "\n",
    "observation_metadata = observation_metadata.iloc[ids, :]\n",
    "observation_metadata = observation_metadata[(observation_metadata['s_resolution'] == observation_metadata['spatial_resolution'])]\n",
    "observation_metadata = observation_metadata.drop(columns=['s_resolution'])     \n",
    "observation_metadata = observation_metadata[['spatial_resolution', 't_exptime', 'em_min','em_max', 'em_resolution', \n",
    "            'bandwidth', 'frequency', 'frequency_support', 'velocity_resolution', 's_ra', 's_dec', 't_resolution']]\n",
    "observation_metadata['velocity_resolution'] = observation_metadata['velocity_resolution'] * 10**(-3)\n",
    "\n",
    "observation_metadata = observation_metadata.rename(columns={'spatial_resolution': 'spatial_resolution [arcsec]',\n",
    "                                                            't_exptime': 'integration_time [s]',\n",
    "                                                            'em_resolution': 'frequency_resolution [m]',\n",
    "                                                            'bandwidth': 'bandwidth [MHz]',\n",
    "                                                            'frequency': 'frequency [Ghz]',\n",
    "                                                            'velocity_resolution': 'velocity_resolution [Km/s]',\n",
    "                                                            'em_min': 'frequency_min [m]', 'em_max': 'frequency_max [m]',\n",
    "                                                            's_ra': 'ra [deg]', 's_dec': 'dec [deg]'})\n",
    "freq_sup = observation_metadata['frequency_support'].values\n",
    "observation_metadata['bandwidth [MHz]'] = observation_metadata['bandwidth [MHz]'].values * 10**(-6)\n",
    "freq_res = [int(float(f.split(',')[1][:-3]))* 10 ** (-3)  for f in freq_sup]\n",
    "\n",
    "observation_metadata.info()\n",
    "\n",
    "coords = SkyCoord(ra=observation_metadata['ra [deg]'], dec=observation_metadata['dec [deg]'], unit='deg').to_string('hmsdms')\n",
    "b = 'J2000 '\n",
    "coords = [b + i for i in coords]\n",
    "observation_dist = observation_metadata[['spatial_resolution [arcsec]', 'integration_time [s]', \n",
    "                                        'velocity_resolution [Km/s]', 'ra [deg]', 'dec [deg]', 'bandwidth [MHz]']]\n",
    "observation_dist['J2000 coordinates'] = coords\n",
    "observation_dist['frequency_resolution [MHz]'] = freq_res\n",
    "observation_dist.to_csv('obs_configurations.csv', index=False)\n"
   ]
  },
  {
   "cell_type": "code",
   "execution_count": 19,
   "metadata": {},
   "outputs": [
    {
     "data": {
      "text/plain": [
       "array([  58.59375,   62.5    ,  117.1875 ,  125.     ,  234.375  ,\n",
       "        250.     ,  468.75   ,  500.     ,  937.5    , 1000.     ,\n",
       "       1875.     , 1937.5    , 1992.1875 , 2000.     ])"
      ]
     },
     "execution_count": 19,
     "metadata": {},
     "output_type": "execute_result"
    }
   ],
   "source": [
    "np.unique(observation_dist['bandwidth [MHz]'])"
   ]
  },
  {
   "cell_type": "code",
   "execution_count": null,
   "metadata": {},
   "outputs": [],
   "source": [
    "obs_params = pd.read_csv('obs_configurations.csv')\n",
    "obs_params.info()"
   ]
  },
  {
   "cell_type": "code",
   "execution_count": null,
   "metadata": {},
   "outputs": [],
   "source": [
    "\n",
    "plt.hist(freq_res)"
   ]
  },
  {
   "cell_type": "code",
   "execution_count": null,
   "metadata": {},
   "outputs": [],
   "source": [
    "observation_dist['s_ra'].values[:10]"
   ]
  },
  {
   "cell_type": "code",
   "execution_count": null,
   "metadata": {},
   "outputs": [],
   "source": [
    "c = const.c.to(U.km / U.s).value\n",
    "print(c)\n",
    "restfreq = 1.420405752\n",
    "restvel = c * ((restfreq - observation_metadata['frequency [GHz]']) / restfreq)\n",
    "observation_metadata['restvel'] = restvel"
   ]
  },
  {
   "cell_type": "code",
   "execution_count": null,
   "metadata": {},
   "outputs": [],
   "source": [
    "sns.set_style('whitegrid')\n",
    "sns.set_context('talk')\n",
    "sns.set_palette('colorblind')\n",
    "\n",
    "\n",
    "for column in observation_metadata.columns:\n",
    "    fig, ax = plt.subplots(figsize=(5, 5))\n",
    "    sns.histplot(x=column, data=observation_metadata, kde=False, ax=ax)\n",
    "    plt.show()\n",
    "    print(np.mean(observation_metadata[column]), np.std(observation_metadata[column]))\n"
   ]
  }
 ],
 "metadata": {
  "kernelspec": {
   "display_name": "astrodl",
   "language": "python",
   "name": "python3"
  },
  "language_info": {
   "codemirror_mode": {
    "name": "ipython",
    "version": 3
   },
   "file_extension": ".py",
   "mimetype": "text/x-python",
   "name": "python",
   "nbconvert_exporter": "python",
   "pygments_lexer": "ipython3",
   "version": "3.9.13"
  },
  "orig_nbformat": 4,
  "vscode": {
   "interpreter": {
    "hash": "477d09a635aaeb7a7e6209645e64bac9255ac994af43fe54104f69ab9c61de70"
   }
  }
 },
 "nbformat": 4,
 "nbformat_minor": 2
}
