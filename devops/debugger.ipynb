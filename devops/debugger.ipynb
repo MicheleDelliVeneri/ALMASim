{
 "cells": [
  {
   "cell_type": "code",
   "execution_count": 1,
   "metadata": {},
   "outputs": [],
   "source": [
    "import numpy as np \n",
    "import pandas as pd\n",
    "import matplotlib.pyplot as plt\n",
    "from astropy.io import fits\n",
    "import tempfile\n",
    "temp_dir = tempfile.TemporaryDirectory()\n",
    "from casatasks import simobserve, tclean, exportfits\n",
    "import os\n",
    "import shutil\n",
    "from casatools import table\n",
    "from astropy.constants import c\n",
    "from astropy.time import Time\n",
    "import astropy.units as U\n",
    "from martini.sources import TNGSource\n",
    "from martini import DataCube, Martini\n",
    "from martini.beams import GaussianBeam\n",
    "from martini.noise import GaussianNoise\n",
    "from martini.spectral_models import GaussianSpectrum\n",
    "from martini.sph_kernels import AdaptiveKernel, GaussianKernel, CubicSplineKernel, DiracDeltaKernel\n",
    "from natsort import natsorted\n",
    "import math\n",
    "from math import pi\n",
    "from tqdm import tqdm\n",
    "import time\n",
    "from time import strftime, gmtime\n",
    "import dask\n",
    "os.environ['MPLCONFIGDIR'] = temp_dir.name"
   ]
  },
  {
   "cell_type": "code",
   "execution_count": 2,
   "metadata": {},
   "outputs": [],
   "source": [
    "def load_fits(inFile):\n",
    "    hdu_list = fits.open(inFile)\n",
    "    data = hdu_list[0].data\n",
    "    header = hdu_list[0].header\n",
    "    hdu_list.close()\n",
    "    return data, header\n",
    "\n"
   ]
  },
  {
   "cell_type": "code",
   "execution_count": 3,
   "metadata": {},
   "outputs": [
    {
     "name": "stdout",
     "output_type": "stream",
     "text": [
      "(1280, 1880, 1880)\n"
     ]
    }
   ],
   "source": [
    "i = 0\n",
    "datadir = '/media/storage/sims'\n",
    "clean, clean_header = load_fits(datadir + '/clean_cube_{}.fits'.format(i))\n",
    "#dirty, dirty_header = load_fits(datadir + '/dirty_cube_{}.fits'.format(i))\n",
    "print(clean.shape)\n"
   ]
  },
  {
   "cell_type": "code",
   "execution_count": 7,
   "metadata": {},
   "outputs": [
    {
     "name": "stdout",
     "output_type": "stream",
     "text": [
      "['RA', 'DEC', 'FREQ', 'STOKES']\n",
      "['RA', 'DEC', 'FREQ', 'STOKES']\n"
     ]
    },
    {
     "name": "stderr",
     "output_type": "stream",
     "text": [
      "WARNING: FITSFixedWarning: 'datfix' made the change 'Set MJD-OBS to 56657.696420 from DATE-OBS'. [astropy.wcs.wcs]\n",
      "WARNING: FITSFixedWarning: 'obsfix' made the change 'Set OBSGEO-L to   -67.754929 from OBSGEO-[XYZ].\n",
      "Set OBSGEO-B to   -23.022886 from OBSGEO-[XYZ].\n",
      "Set OBSGEO-H to     5053.796 from OBSGEO-[XYZ]'. [astropy.wcs.wcs]\n"
     ]
    }
   ],
   "source": [
    "from astropy.wcs import WCS\n",
    "from spectral_cube import SpectralCube\n",
    "wcs = WCS(dirty_header)\n",
    "print(wcs.axis_type_names)\n",
    "dirty_cube = SpectralCube(dirty[0], wcs=WCS(dirty_header).dropaxis(3))\n"
   ]
  }
 ],
 "metadata": {
  "kernelspec": {
   "display_name": "casa6.5",
   "language": "python",
   "name": "python3"
  },
  "language_info": {
   "codemirror_mode": {
    "name": "ipython",
    "version": 3
   },
   "file_extension": ".py",
   "mimetype": "text/x-python",
   "name": "python",
   "nbconvert_exporter": "python",
   "pygments_lexer": "ipython3",
   "version": "3.8.16"
  },
  "orig_nbformat": 4
 },
 "nbformat": 4,
 "nbformat_minor": 2
}
