{
 "cells": [
  {
   "cell_type": "code",
   "execution_count": 69,
   "metadata": {},
   "outputs": [],
   "source": [
    "import numpy as np\n",
    "import pandas as pd\n",
    "import matplotlib.pyplot as plt\n",
    "import seaborn as sns\n",
    "from astropy import units as U\n",
    "from astropy import constants as const\n",
    "from astropy.coordinates import SkyCoord\n",
    "import astropy.units as U\n",
    "import astropy \n",
    "from astropy.io import fits\n",
    "import seaborn as sns\n",
    "import os"
   ]
  },
  {
   "cell_type": "code",
   "execution_count": 59,
   "metadata": {},
   "outputs": [
    {
     "name": "stderr",
     "output_type": "stream",
     "text": [
      "/var/folders/66/76q50s015tq8wc5qz1pvg7y40000gn/T/ipykernel_31753/970427404.py:1: DtypeWarning: Columns (35) have mixed types. Specify dtype option on import or set low_memory=False.\n",
      "  data = pd.read_csv('all_alma_data.csv')\n"
     ]
    }
   ],
   "source": [
    "data = pd.read_csv('all_alma_data.csv')\n"
   ]
  },
  {
   "cell_type": "code",
   "execution_count": 99,
   "metadata": {},
   "outputs": [
    {
     "name": "stdout",
     "output_type": "stream",
     "text": [
      "['J501', 'J502', 'J503', 'J504', 'J506', 'N601', 'N602', 'N603', 'N605']\n",
      "<class 'list'>\n",
      "<class 'list'>\n"
     ]
    }
   ],
   "source": [
    "observation_metadata = data[['s_resolution', 't_exptime', 'em_min', 't_resolution',\n",
    "                        'em_max', 'em_resolution', 'spatial_resolution', 'bandwidth', \n",
    "                        'frequency', 'frequency_support', 'velocity_resolution', 'sensitivity_10kms', \n",
    "                        'cont_sensitivity_bandwidth', 'scan_intent', 's_ra', 's_dec', 'antenna_arrays']]\n",
    "observation_metadata = observation_metadata.dropna()\n",
    "scan_intents = observation_metadata['scan_intent'].values\n",
    "ids = []\n",
    "for i, scan in enumerate(scan_intents):\n",
    "    if scan == 'TARGET':\n",
    "        ids.append(i)\n",
    "ids = np.array(ids)\n",
    "observation_metadata = observation_metadata.iloc[ids, :]\n",
    "observation_metadata = observation_metadata[(observation_metadata['s_resolution'] == observation_metadata['spatial_resolution'])]\n",
    "observation_metadata = observation_metadata.drop(columns=['s_resolution'])     \n",
    "observation_metadata = observation_metadata[['spatial_resolution', 't_exptime', 'em_min','em_max', 'em_resolution', \n",
    "            'bandwidth', 'frequency', 'frequency_support', 'velocity_resolution', 's_ra', 's_dec', 't_resolution', 'antenna_arrays']]\n",
    "\n",
    "observation_metadata['velocity_resolution'] = observation_metadata['velocity_resolution'] * 10**(-3)\n",
    "observation_metadata = observation_metadata.rename(columns={'spatial_resolution': 'spatial_resolution [arcsec]',\n",
    "                                                            't_exptime': 'integration_time [s]',\n",
    "                                                            'em_resolution': 'frequency_resolution [m]',\n",
    "                                                            'bandwidth': 'bandwidth [MHz]',\n",
    "                                                            'frequency': 'frequency [GHz]',\n",
    "                                                            'velocity_resolution': 'velocity_resolution [Km/s]',\n",
    "                                                            'em_min': 'frequency_min [m]', 'em_max': 'frequency_max [m]',\n",
    "                                                            's_ra': 'ra [deg]', 's_dec': 'dec [deg]'})\n",
    "observation_metadata['bandwidth [MHz]'] = observation_metadata['bandwidth [MHz]'].values * 10**(-6)\n",
    "coords = SkyCoord(ra=observation_metadata['ra [deg]'], dec=observation_metadata['dec [deg]'], unit='deg').to_string('hmsdms')\n",
    "freq_sup = observation_metadata['frequency_support'].values\n",
    "freq_res = [int(float(f.split(',')[1][:-3]))* 10 ** (-3)  for f in freq_sup]\n",
    "observation_metadata['frequency_resolution [MHz]'] = freq_res\n",
    "b = 'J2000 '\n",
    "coords = [b + i for i in coords]\n",
    "observation_metadata['coords'] = coords\n",
    "antenna_arrays = observation_metadata['antenna_arrays'].values\n",
    "antenna_arrays = [[a.split(':')[0] for a in antenna_arrays[i].split(' ')] for i in range(len(antenna_arrays))]\n",
    "print(antenna_arrays[0])\n",
    "print(type(antenna_arrays[0]))\n",
    "observation_metadata['pads'] = antenna_arrays\n",
    "to_save = observation_metadata[['spatial_resolution [arcsec]', 'integration_time [s]', \n",
    "                                        'velocity_resolution [Km/s]', 'ra [deg]', 'dec [deg]', 'bandwidth [MHz]', 'frequency [GHz]', 'pads']]\n",
    "to_save.to_csv('obs_configurations.csv', index=False)"
   ]
  },
  {
   "cell_type": "code",
   "execution_count": 109,
   "metadata": {},
   "outputs": [
    {
     "name": "stdout",
     "output_type": "stream",
     "text": [
      "<class 'str'>\n",
      "['A001', 'A003', 'A004', 'A006', 'A007', 'A008', 'A011', 'A015', 'A017', 'A020', 'A021', 'A029', 'A037', 'A038', 'A046', 'A050', 'A053', 'A067', 'A068', 'A069', 'A070', 'A071', 'A072', 'A075', 'A077', 'A082', 'A137', 'A138', 'T701']\n",
      "<class 'str'>\n"
     ]
    }
   ],
   "source": [
    "def create_antennas_dict():\n",
    "    antenna_file = open('/Users/michele/Documents/GitHub/ALMASim/alma.all.cfg', 'r')\n",
    "    antenna_dict = {}\n",
    "    for line in antenna_file:\n",
    "        if '#' not in line:\n",
    "            x, y, z, dim, pad = line.split()\n",
    "            antenna_dict[pad] = [x, y, z, dim]\n",
    "    antenna_file.close()\n",
    "    return antenna_dict\n",
    "\n",
    "antenna_dict = create_antennas_dict()\n",
    "\n",
    "obs_db = pd.read_csv('obs_configurations.csv')\n",
    "n = 10\n",
    "print(type(obs_db['pads'].values[0]))\n",
    "params = obs_db.sample(n=n, axis=0)\n",
    "antenna_configs = params['pads'].values\n",
    "spatial_res = params['spatial_resolution [arcsec]'].values\n",
    "test_config = antenna_configs[0]\n",
    "print(test_config)\n",
    "print(type(test_config))\n"
   ]
  },
  {
   "cell_type": "code",
   "execution_count": 110,
   "metadata": {},
   "outputs": [
    {
     "name": "stdout",
     "output_type": "stream",
     "text": [
      "['A001', 'A003', 'A004', 'A006', 'A007', 'A008', 'A011', 'A015', 'A017', 'A020', 'A021', 'A029', 'A037', 'A038', 'A046', 'A050', 'A053', 'A067', 'A068', 'A069', 'A070', 'A071', 'A072', 'A075', 'A077', 'A082', 'A137', 'A138', 'T701']\n"
     ]
    }
   ],
   "source": [
    "test_config = test_config[1:-1].split(', ')\n",
    "test_config = [a[1:-1] for a in test_config]\n",
    "print(test_config)"
   ]
  },
  {
   "cell_type": "code",
   "execution_count": 111,
   "metadata": {},
   "outputs": [
    {
     "name": "stdout",
     "output_type": "stream",
     "text": [
      "A001\n",
      "5.606192499 7.646657746 -2.087775605 12.\n",
      "A003\n",
      "16.9413543 28.41476916 -2.082643323 12.\n",
      "A004\n",
      "34.07993959 -3.391862608 -2.089849501 12.\n",
      "A006\n",
      "60.44668677 -1.065310291 -2.089494285 12.\n",
      "A007\n",
      "55.4353013 19.72317522 -2.087556286 12.\n",
      "A008\n",
      "48.98284 33.32294429 -2.489031714 12.\n",
      "A011\n",
      "77.32651615 -15.4773776 -2.239047365 12.\n",
      "A015\n",
      "50.24060942 60.83113893 -2.48917588 12.\n",
      "A017\n",
      "32.78896049 35.44741771 -2.087282025 12.\n",
      "A020\n",
      "-21.55636298 -2.392685398 -1.689675267 12.\n",
      "A021\n",
      "-4.25931373 28.22428908 -2.088522333 12.\n",
      "A029\n",
      "-31.50495352 64.57049807 -1.887558625 12.\n",
      "A037\n",
      "-11.83400494 -26.27567729 -2.084995641 12.\n",
      "A038\n",
      "-40.99650541 -44.71276927 -1.693272277 12.\n",
      "A046\n",
      "2.833032901 -41.76763393 -2.090960204 12.\n",
      "A050\n",
      "24.45367016 -43.93559429 -2.086322948 12.\n",
      "A053\n",
      "-5.974014263 -101.9648369 -1.586918413 12.\n",
      "A067\n",
      "123.8238479 22.29677914 -3.742713407 12.\n",
      "A068\n",
      "-101.0065464 69.23582577 -0.398483196 12.\n",
      "A069\n",
      "-120.0516036 -69.06984556 0.167789404 12.\n",
      "A070\n",
      "147.5980027 -42.46823003 -3.846486286 12.\n",
      "A071\n",
      "-79.3666209 137.789982 -0.263593251 12.\n",
      "A072\n",
      "128.5951114 120.4390771 -5.432641687 12.\n",
      "A075\n",
      "-23.148965 201.3332118 -1.285612532 12.\n",
      "A077\n",
      "199.050332 63.47818478 -3.115220941 12.\n",
      "A082\n",
      "250.4523669 -39.94240546 -7.474984034 12.\n",
      "A137\n",
      "52.54480729 160.5842592 -3.114563612 12.\n",
      "A138\n",
      "0.55709678 -200.2305382 3.194599986 12.\n",
      "T701\n",
      "-47.70744001 178.2504006 -2.088880573 12.\n"
     ]
    }
   ],
   "source": [
    "beginning_lines = ['# observatory=ALMA', '# coordsys=LOC (local tangent plane)', '# x y z diam pad#']\n",
    "i = 0\n",
    "with open(os.path.join('/Users/michele/Documents/GitHub/ALMASim/antenna_config', 'antenna_config_{}.cfg'.format(str(i))), 'w') as f:\n",
    "    for line in beginning_lines:\n",
    "        f.write(line)\n",
    "        f.write('\\n')\n",
    "    for antenna in test_config:\n",
    "        print(antenna)\n",
    "        x, y, z, dim = antenna_dict[antenna]\n",
    "        print(x, y, z, dim)\n",
    "        f.write('{} {} {} {} {}'.format(x, y, z, dim, antenna))\n",
    "        f.write('\\n')\n",
    "    f.close()"
   ]
  }
 ],
 "metadata": {
  "kernelspec": {
   "display_name": "astrodl",
   "language": "python",
   "name": "python3"
  },
  "language_info": {
   "codemirror_mode": {
    "name": "ipython",
    "version": 3
   },
   "file_extension": ".py",
   "mimetype": "text/x-python",
   "name": "python",
   "nbconvert_exporter": "python",
   "pygments_lexer": "ipython3",
   "version": "3.9.16"
  },
  "orig_nbformat": 4,
  "vscode": {
   "interpreter": {
    "hash": "477d09a635aaeb7a7e6209645e64bac9255ac994af43fe54104f69ab9c61de70"
   }
  }
 },
 "nbformat": 4,
 "nbformat_minor": 2
}
