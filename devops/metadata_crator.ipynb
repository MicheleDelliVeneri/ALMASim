{
 "cells": [
  {
   "cell_type": "code",
   "execution_count": 1,
   "metadata": {},
   "outputs": [],
   "source": [
    "import numpy as np\n",
    "import pandas as pd\n",
    "import matplotlib.pyplot as plt\n",
    "import seaborn as sns\n",
    "from astropy import units as U\n",
    "from astropy import constants as const\n",
    "from astropy.coordinates import SkyCoord\n",
    "import astropy.units as U\n",
    "import astropy \n",
    "from astropy.io import fits\n",
    "import seaborn as sns\n",
    "import os"
   ]
  },
  {
   "cell_type": "code",
   "execution_count": 59,
   "metadata": {},
   "outputs": [
    {
     "name": "stderr",
     "output_type": "stream",
     "text": [
      "/var/folders/66/76q50s015tq8wc5qz1pvg7y40000gn/T/ipykernel_31753/970427404.py:1: DtypeWarning: Columns (35) have mixed types. Specify dtype option on import or set low_memory=False.\n",
      "  data = pd.read_csv('all_alma_data.csv')\n"
     ]
    }
   ],
   "source": [
    "data = pd.read_csv('all_alma_data.csv')\n"
   ]
  },
  {
   "cell_type": "code",
   "execution_count": 99,
   "metadata": {},
   "outputs": [
    {
     "name": "stdout",
     "output_type": "stream",
     "text": [
      "['J501', 'J502', 'J503', 'J504', 'J506', 'N601', 'N602', 'N603', 'N605']\n",
      "<class 'list'>\n",
      "<class 'list'>\n"
     ]
    }
   ],
   "source": [
    "observation_metadata = data[['s_resolution', 't_exptime', 'em_min', 't_resolution',\n",
    "                        'em_max', 'em_resolution', 'spatial_resolution', 'bandwidth', \n",
    "                        'frequency', 'frequency_support', 'velocity_resolution', 'sensitivity_10kms', \n",
    "                        'cont_sensitivity_bandwidth', 'scan_intent', 's_ra', 's_dec', 'antenna_arrays']]\n",
    "observation_metadata = observation_metadata.dropna()\n",
    "scan_intents = observation_metadata['scan_intent'].values\n",
    "ids = []\n",
    "for i, scan in enumerate(scan_intents):\n",
    "    if scan == 'TARGET':\n",
    "        ids.append(i)\n",
    "ids = np.array(ids)\n",
    "observation_metadata = observation_metadata.iloc[ids, :]\n",
    "observation_metadata = observation_metadata[(observation_metadata['s_resolution'] == observation_metadata['spatial_resolution'])]\n",
    "observation_metadata = observation_metadata.drop(columns=['s_resolution'])     \n",
    "observation_metadata = observation_metadata[['spatial_resolution', 't_exptime', 'em_min','em_max', 'em_resolution', \n",
    "            'bandwidth', 'frequency', 'frequency_support', 'velocity_resolution', 's_ra', 's_dec', 't_resolution', 'antenna_arrays']]\n",
    "\n",
    "observation_metadata['velocity_resolution'] = observation_metadata['velocity_resolution'] * 10**(-3)\n",
    "observation_metadata = observation_metadata.rename(columns={'spatial_resolution': 'spatial_resolution [arcsec]',\n",
    "                                                            't_exptime': 'integration_time [s]',\n",
    "                                                            'em_resolution': 'frequency_resolution [m]',\n",
    "                                                            'bandwidth': 'bandwidth [MHz]',\n",
    "                                                            'frequency': 'frequency [GHz]',\n",
    "                                                            'velocity_resolution': 'velocity_resolution [Km/s]',\n",
    "                                                            'em_min': 'frequency_min [m]', 'em_max': 'frequency_max [m]',\n",
    "                                                            's_ra': 'ra [deg]', 's_dec': 'dec [deg]'})\n",
    "observation_metadata['bandwidth [MHz]'] = observation_metadata['bandwidth [MHz]'].values * 10**(-6)\n",
    "coords = SkyCoord(ra=observation_metadata['ra [deg]'], dec=observation_metadata['dec [deg]'], unit='deg').to_string('hmsdms')\n",
    "freq_sup = observation_metadata['frequency_support'].values\n",
    "freq_res = [int(float(f.split(',')[1][:-3]))* 10 ** (-3)  for f in freq_sup]\n",
    "observation_metadata['frequency_resolution [MHz]'] = freq_res\n",
    "b = 'J2000 '\n",
    "coords = [b + i for i in coords]\n",
    "observation_metadata['coords'] = coords\n",
    "observation_metadata.rename(columns={'coords': 'coords [J2000]'}, inplace=True)\n",
    "antenna_arrays = observation_metadata['antenna_arrays'].values\n",
    "antenna_arrays = [[a.split(':')[0] for a in antenna_arrays[i].split(' ')] for i in range(len(antenna_arrays))]\n",
    "print(antenna_arrays[0])\n",
    "print(type(antenna_arrays[0]))\n",
    "observation_metadata['pads'] = antenna_arrays\n",
    "to_save = observation_metadata[['spatial_resolution [arcsec]', 'integration_time [s]', \n",
    "                                'velocity_resolution [Km/s]', 'ra [deg]', 'dec [deg]', \n",
    "                                'bandwidth [MHz]', 'frequency [GHz]', 'pads', \n",
    "                                'frequency_resolution [MHz]', 'coords [J2000]']]\n",
    "to_save.to_csv('obs_configurations.csv', index=False)"
   ]
  },
  {
   "cell_type": "code",
   "execution_count": 2,
   "metadata": {},
   "outputs": [
    {
     "name": "stdout",
     "output_type": "stream",
     "text": [
      "<class 'str'>\n",
      "['A001', 'A002', 'A003', 'A006', 'A007', 'A008', 'A009', 'A010', 'A011', 'A015', 'A016', 'A017', 'A019', 'A022', 'A023', 'A024', 'A025', 'A026', 'A027', 'A033', 'A034', 'A035', 'A036', 'A039', 'A040', 'A041', 'A042', 'A043', 'A044', 'A045', 'A047', 'A048', 'A049', 'A050', 'A058', 'A060', 'A062', 'A066', 'A068', 'A069', 'A070', 'A070', 'A072', 'A073', 'A074', 'A075', 'A075', 'A076', 'A082', 'A083', 'A083', 'A085', 'A088', 'A088']\n",
      "<class 'str'>\n"
     ]
    }
   ],
   "source": [
    "def create_antennas_dict():\n",
    "    antenna_file = open('/Users/michele/Documents/GitHub/ALMASim/alma.all.cfg', 'r')\n",
    "    antenna_dict = {}\n",
    "    for line in antenna_file:\n",
    "        if '#' not in line:\n",
    "            x, y, z, dim, pad = line.split()\n",
    "            antenna_dict[pad] = [x, y, z, dim]\n",
    "    antenna_file.close()\n",
    "    return antenna_dict\n",
    "\n",
    "antenna_dict = create_antennas_dict()\n",
    "\n",
    "obs_db = pd.read_csv('obs_configurations.csv')\n",
    "n = 10\n",
    "print(type(obs_db['pads'].values[0]))\n",
    "params = obs_db.sample(n=n, axis=0)\n",
    "antenna_configs = params['pads'].values\n",
    "spatial_res = params['spatial_resolution [arcsec]'].values\n",
    "test_config = antenna_configs[0]\n",
    "print(test_config)\n",
    "print(type(test_config))\n"
   ]
  },
  {
   "cell_type": "code",
   "execution_count": 3,
   "metadata": {},
   "outputs": [
    {
     "name": "stdout",
     "output_type": "stream",
     "text": [
      "['A001', 'A002', 'A003', 'A006', 'A007', 'A008', 'A009', 'A010', 'A011', 'A015', 'A016', 'A017', 'A019', 'A022', 'A023', 'A024', 'A025', 'A026', 'A027', 'A033', 'A034', 'A035', 'A036', 'A039', 'A040', 'A041', 'A042', 'A043', 'A044', 'A045', 'A047', 'A048', 'A049', 'A050', 'A058', 'A060', 'A062', 'A066', 'A068', 'A069', 'A070', 'A070', 'A072', 'A073', 'A074', 'A075', 'A075', 'A076', 'A082', 'A083', 'A083', 'A085', 'A088', 'A088']\n"
     ]
    }
   ],
   "source": [
    "test_config = test_config[1:-1].split(', ')\n",
    "test_config = [a[1:-1] for a in test_config]\n",
    "print(test_config)"
   ]
  },
  {
   "cell_type": "code",
   "execution_count": 4,
   "metadata": {},
   "outputs": [
    {
     "name": "stdout",
     "output_type": "stream",
     "text": [
      "A001\n",
      "5.606192499 7.646657746 -2.087775605 12.\n",
      "A002\n",
      "22.0465959 10.78995868 -2.085737713 12.\n",
      "A003\n",
      "16.9413543 28.41476916 -2.082643323 12.\n",
      "A006\n",
      "60.44668677 -1.065310291 -2.089494285 12.\n",
      "A007\n",
      "55.4353013 19.72317522 -2.087556286 12.\n",
      "A008\n",
      "48.98284 33.32294429 -2.489031714 12.\n",
      "A009\n",
      "29.66575936 56.57212469 -2.485582693 12.\n",
      "A010\n",
      "18.60625963 66.83839826 -2.201563745 12.\n",
      "A011\n",
      "77.32651615 -15.4773776 -2.239047365 12.\n",
      "A015\n",
      "50.24060942 60.83113893 -2.48917588 12.\n",
      "A016\n",
      "18.88013306 86.49162757 -2.293650599 12.\n",
      "A017\n",
      "32.78896049 35.44741771 -2.087282025 12.\n",
      "A019\n",
      "-10.80422027 9.190034675 -2.089364764 12.\n",
      "A022\n",
      "-4.143362048 67.65676897 -2.086146954 12.\n",
      "A023\n",
      "-19.90369337 52.82680653 -1.892119601 12.\n",
      "A024\n",
      "-34.9743094 35.74249598 -1.889014917 12.\n",
      "A025\n",
      "-45.02243039 15.50531007 -1.695748426 12.\n",
      "A026\n",
      "-47.37263533 -11.86280086 -1.683028077 12.\n",
      "A027\n",
      "-53.64302244 -25.56059112 -1.693641822 12.\n",
      "A033\n",
      "-65.93883391 -34.60348784 -1.392588547 12.\n",
      "A034\n",
      "-37.4023229 2.226137174 -1.685258226 12.\n",
      "A035\n",
      "13.45860758 -5.790196849 -2.087805181 12.\n",
      "A036\n",
      "24.10057423 -25.95933768 -2.08466565 12.\n",
      "A039\n",
      "-24.6896592 -50.75077976 -1.690241707 12.\n",
      "A040\n",
      "-2.83937534 -57.46182237 -2.089550149 12.\n",
      "A041\n",
      "16.40689162 -58.20857192 -2.090157864 12.\n",
      "A042\n",
      "41.88285181 -42.88590519 -2.589812557 12.\n",
      "A043\n",
      "56.60599032 -46.13511078 -2.593038181 12.\n",
      "A044\n",
      "-40.56702918 -59.97433877 -1.085672637 12.\n",
      "A045\n",
      "-24.00541606 -66.42052338 -1.089403038 12.\n",
      "A047\n",
      "19.84640161 -74.19632399 -2.086621635 12.\n",
      "A048\n",
      "37.97693003 -68.54627004 -2.585660279 12.\n",
      "A049\n",
      "69.85249282 -53.51969612 -3.086582473 12.\n",
      "A050\n",
      "24.45367016 -43.93559429 -2.086322948 12.\n",
      "A058\n",
      "-5.850273514 -125.9985379 -1.590364043 12.\n",
      "A060\n",
      "34.21077978 -142.4552365 -1.286659541 12.\n",
      "A062\n",
      "-40.04395462 -108.5404061 -1.038689681 12.\n",
      "A066\n",
      "-15.21068338 103.7095627 -2.289149353 12.\n",
      "A068\n",
      "-101.0065464 69.23582577 -0.398483196 12.\n",
      "A069\n",
      "-120.0516036 -69.06984556 0.167789404 12.\n",
      "A070\n",
      "147.5980027 -42.46823003 -3.846486286 12.\n",
      "A070\n",
      "147.5980027 -42.46823003 -3.846486286 12.\n",
      "A072\n",
      "128.5951114 120.4390771 -5.432641687 12.\n",
      "A073\n",
      "-165.6487132 -4.288936302 0.46489784 12.\n",
      "A074\n",
      "143.2167721 -127.5928998 -4.234277821 12.\n",
      "A075\n",
      "-23.148965 201.3332118 -1.285612532 12.\n",
      "A075\n",
      "-23.148965 201.3332118 -1.285612532 12.\n",
      "A076\n",
      "-96.57074895 -181.6859377 1.192297168 12.\n",
      "A082\n",
      "250.4523669 -39.94240546 -7.474984034 12.\n",
      "A083\n",
      "-162.1188964 212.815264 3.172450857 12.\n",
      "A083\n",
      "-162.1188964 212.815264 3.172450857 12.\n",
      "A085\n",
      "189.1065815 228.8136291 -7.59598497 12.\n",
      "A088\n",
      "-31.66540786 293.0053335 -0.346553047 12.\n",
      "A088\n",
      "-31.66540786 293.0053335 -0.346553047 12.\n"
     ]
    }
   ],
   "source": [
    "beginning_lines = ['# observatory=ALMA', '# coordsys=LOC (local tangent plane)', '# x y z diam pad#']\n",
    "i = 0\n",
    "with open(os.path.join('/Users/michele/Documents/GitHub/ALMASim/antenna_config', 'antenna_config_{}.cfg'.format(str(i))), 'w') as f:\n",
    "    for line in beginning_lines:\n",
    "        f.write(line)\n",
    "        f.write('\\n')\n",
    "    for antenna in test_config:\n",
    "        print(antenna)\n",
    "        x, y, z, dim = antenna_dict[antenna]\n",
    "        print(x, y, z, dim)\n",
    "        f.write('{} {} {} {} {}'.format(x, y, z, dim, antenna))\n",
    "        f.write('\\n')\n",
    "    f.close()"
   ]
  },
  {
   "cell_type": "code",
   "execution_count": 12,
   "metadata": {},
   "outputs": [
    {
     "name": "stdout",
     "output_type": "stream",
     "text": [
      "<class 'pandas.core.frame.DataFrame'>\n",
      "RangeIndex: 32887 entries, 0 to 32886\n",
      "Data columns (total 10 columns):\n",
      " #   Column                       Non-Null Count  Dtype  \n",
      "---  ------                       --------------  -----  \n",
      " 0   spatial_resolution [arcsec]  32887 non-null  float64\n",
      " 1   integration_time [s]         32887 non-null  float64\n",
      " 2   velocity_resolution [Km/s]   32887 non-null  float64\n",
      " 3   ra [deg]                     32887 non-null  float64\n",
      " 4   dec [deg]                    32887 non-null  float64\n",
      " 5   bandwidth [MHz]              32887 non-null  float64\n",
      " 6   frequency [GHz]              32887 non-null  float64\n",
      " 7   pads                         32887 non-null  object \n",
      " 8   frequency_resolution [MHz]   32887 non-null  float64\n",
      " 9   coords [J2000]               32887 non-null  object \n",
      "dtypes: float64(8), object(2)\n",
      "memory usage: 2.5+ MB\n"
     ]
    }
   ],
   "source": [
    "metadata = pd.read_csv('/Users/michele/Documents/GitHub/ALMASim/obs_configurations.csv')\n",
    "metadata.info()"
   ]
  },
  {
   "cell_type": "code",
   "execution_count": 14,
   "metadata": {},
   "outputs": [
    {
     "name": "stdout",
     "output_type": "stream",
     "text": [
      "10.08\n",
      "1303.1263158694924\n"
     ]
    },
    {
     "data": {
      "image/png": "[encoded data removed]",
      "text/plain": [
       "<Figure size 640x480 with 1 Axes>"
      ]
     },
     "metadata": {},
     "output_type": "display_data"
    }
   ],
   "source": [
    "sns.histplot(metadata, x='integration_time [s]')\n",
    "print(np.min(metadata['integration_time [s]'].values))\n",
    "print(np.mean(metadata['integration_time [s]'].values))"
   ]
  }
 ],
 "metadata": {
  "kernelspec": {
   "display_name": "astrodl",
   "language": "python",
   "name": "python3"
  },
  "language_info": {
   "codemirror_mode": {
    "name": "ipython",
    "version": 3
   },
   "file_extension": ".py",
   "mimetype": "text/x-python",
   "name": "python",
   "nbconvert_exporter": "python",
   "pygments_lexer": "ipython3",
   "version": "3.9.16"
  },
  "orig_nbformat": 4,
  "vscode": {
   "interpreter": {
    "hash": "477d09a635aaeb7a7e6209645e64bac9255ac994af43fe54104f69ab9c61de70"
   }
  }
 },
 "nbformat": 4,
 "nbformat_minor": 2
}
