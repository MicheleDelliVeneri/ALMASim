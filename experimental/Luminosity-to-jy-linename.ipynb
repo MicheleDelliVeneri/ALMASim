{
 "cells": [
  {
   "cell_type": "code",
   "execution_count": 5,
   "metadata": {},
   "outputs": [],
   "source": [
    "import pandas as pd\n",
    "import numpy as np\n",
    "import os\n",
    "import matplotlib.pyplot as plt\n",
    "from scipy.stats import t\n",
    "from scipy.optimize import curve_fit\n",
    "\n",
    "parent_dir=os.path.dirname(os.getcwd())\n"
   ]
  },
  {
   "cell_type": "code",
   "execution_count": 9,
   "metadata": {},
   "outputs": [
    {
     "data": {
      "text/html": [
       "<div>\n",
       "<style scoped>\n",
       "    .dataframe tbody tr th:only-of-type {\n",
       "        vertical-align: middle;\n",
       "    }\n",
       "\n",
       "    .dataframe tbody tr th {\n",
       "        vertical-align: top;\n",
       "    }\n",
       "\n",
       "    .dataframe thead th {\n",
       "        text-align: right;\n",
       "    }\n",
       "</style>\n",
       "<table border=\"1\" class=\"dataframe\">\n",
       "  <thead>\n",
       "    <tr style=\"text-align: right;\">\n",
       "      <th></th>\n",
       "      <th>line_emission</th>\n",
       "      <th>rest_freq(GHz)</th>\n",
       "    </tr>\n",
       "  </thead>\n",
       "  <tbody>\n",
       "    <tr>\n",
       "      <th>0</th>\n",
       "      <td>CO(1-0)</td>\n",
       "      <td>115,271</td>\n",
       "    </tr>\n",
       "    <tr>\n",
       "      <th>1</th>\n",
       "      <td>CO(2-1)</td>\n",
       "      <td>230,538</td>\n",
       "    </tr>\n",
       "    <tr>\n",
       "      <th>2</th>\n",
       "      <td>H(1-0)</td>\n",
       "      <td>14,405</td>\n",
       "    </tr>\n",
       "    <tr>\n",
       "      <th>3</th>\n",
       "      <td>H(2-1)</td>\n",
       "      <td>28,20536</td>\n",
       "    </tr>\n",
       "    <tr>\n",
       "      <th>4</th>\n",
       "      <td>O(3-2)</td>\n",
       "      <td>5387,475</td>\n",
       "    </tr>\n",
       "  </tbody>\n",
       "</table>\n",
       "</div>"
      ],
      "text/plain": [
       "  line_emission rest_freq(GHz)\n",
       "0       CO(1-0)        115,271\n",
       "1       CO(2-1)        230,538\n",
       "2        H(1-0)         14,405\n",
       "3        H(2-1)       28,20536\n",
       "4        O(3-2)       5387,475"
      ]
     },
     "execution_count": 9,
     "metadata": {},
     "output_type": "execute_result"
    }
   ],
   "source": [
    "import pandas as pd\n",
    "def read_line_emission_csv(path_line_emission_csv):\n",
    "    \"\"\"\n",
    "    Input: Path to file.csv within there are the line emission's rest frequency.\n",
    "    Output: Dataframe with line names and rest frequencies.\n",
    "    \"\"\"\n",
    "    db_line = pd.read_csv(path_line_emission_csv, sep = \"\\t\")\n",
    "    return db_line\n",
    "db_line = read_line_emission_csv(os.path.join(parent_dir, 'metadata', 'line_emission.csv'))\n",
    "db_line"
   ]
  },
  {
   "cell_type": "code",
   "execution_count": 19,
   "metadata": {},
   "outputs": [
    {
     "data": {
      "text/html": [
       "<div>\n",
       "<style scoped>\n",
       "    .dataframe tbody tr th:only-of-type {\n",
       "        vertical-align: middle;\n",
       "    }\n",
       "\n",
       "    .dataframe tbody tr th {\n",
       "        vertical-align: top;\n",
       "    }\n",
       "\n",
       "    .dataframe thead th {\n",
       "        text-align: right;\n",
       "    }\n",
       "</style>\n",
       "<table border=\"1\" class=\"dataframe\">\n",
       "  <thead>\n",
       "    <tr style=\"text-align: right;\">\n",
       "      <th></th>\n",
       "      <th>line_emission</th>\n",
       "      <th>rest_freq(GHz)</th>\n",
       "    </tr>\n",
       "  </thead>\n",
       "  <tbody>\n",
       "    <tr>\n",
       "      <th>0</th>\n",
       "      <td>CO(1-0)</td>\n",
       "      <td>115,271</td>\n",
       "    </tr>\n",
       "  </tbody>\n",
       "</table>\n",
       "</div>"
      ],
      "text/plain": [
       "  line_emission rest_freq(GHz)\n",
       "0       CO(1-0)        115,271"
      ]
     },
     "execution_count": 19,
     "metadata": {},
     "output_type": "execute_result"
    }
   ],
   "source": [
    "def get_line_rest_frequency(line_name):\n",
    "    \"\"\"\n",
    "    Takes as input the line name and extract from the dataframe the rest frequency of said line\n",
    "\n",
    "    Input:\n",
    "    line_name (str): The line name of the wanted rest frequency.\n",
    "\n",
    "    Output:\n",
    "    rest_frequency (float): The rest frequency of the selected line name.\n",
    "    \"\"\"\n",
    "    db_line = read_line_emission_csv(os.path.join(parent_dir, 'metadata', 'line_emission.csv'))\n",
    "    if line_name not in db_line[\"line_emission\"].to_list():\n",
    "        raise ValueError(f\"The line name, '{line_name}', cannot be found in the dataframe.\")\n",
    "    if line_name == 'CO(1-0)':\n",
    "        rest_frequency = db_line.loc[db_line[\"line_emission\"] == line_name]\n",
    "    elif line_name == 'CO(2-1)':\n",
    "        rest_frequency = db_line.loc[db_line[\"line_emission\"] == line_name]\n",
    "    elif line_name == \"H(1-0)\":\n",
    "        rest_frequency = db_line.loc[db_line[\"line_emission\"] == line_name]\n",
    "    elif line_name == \"H(2-1)\":\n",
    "        rest_frequency = db_line.loc[db_line[\"line_emission\"] == line_name]\n",
    "    elif line_name == 'O(3-2=)':\n",
    "        rest_frequency = db_line.loc[db_line[\"line_emission\"] == line_name]\n",
    "    return rest_frequency\n",
    "line_name = input(\"Chose the line emission name among the following lines: CO(1-0), CO(2-1), H(1-0), H(2-1), O(3-2)\")\n",
    "rest_frequency = get_line_rest_frequency(line_name)\n",
    "rest_frequency"
   ]
  },
  {
   "cell_type": "code",
   "execution_count": null,
   "metadata": {},
   "outputs": [],
   "source": [
    "def luminosity_to_jy(velocity, data, line_name):\n",
    "        \"\"\"\n",
    "        This function takes as input a pandas db containing luminosities in K km s-1 pc2, redshifts, and luminosity distances in Mpc, \n",
    "        and returns the brightness values in Jy, for the choosen line emission name.\n",
    "        \n",
    "        Parameters:\n",
    "        velocity (float): The velocity dispersion assumed for the line (Km s-1).\n",
    "        data (pandas.DataFrame): A pandas DataFrame containing the data.\n",
    "        line_name (str): The choosen line emission name.\n",
    "\n",
    "        Output:\n",
    "        sigma: numpy.ndarray: An array of brightness values in Jy.\n",
    "\n",
    "        \"\"\"\n",
    "        if line_name == 'CO(1-0)':\n",
    "                rest_frequency = get_line_rest_frequency(line_name)\n",
    "                alpha = 3.255 * 10**7\n",
    "                sigma = (data['Luminosity(K km s-1 pc2)'] * ( (1 + data['#redshift']) * rest_frequency **2)) / (alpha * velocity * (data['luminosity distance(Mpc)']**2))\n",
    "        elif line_name == 'CO(2-1)':\n",
    "                rest_frequency = get_line_rest_frequency(line_name)\n",
    "                alpha = 3.255 * 10**7\n",
    "                sigma = (data['Luminosity(K km s-1 pc2)'] * ( (1 + data['#redshift']) * rest_frequency **2)) / (alpha * velocity * (data['luminosity distance(Mpc)']**2))\n",
    "        elif line_name == \"H(1-0)\":\n",
    "                rest_frequency = get_line_rest_frequency(line_name)\n",
    "                alpha = \n",
    "\n",
    "        elif line_name == \"H(2-1)\":\n",
    "                rest_frequency = get_line_rest_frequency(line_name) \n",
    "                alpha = \n",
    "\n",
    "        elif line_name == 'O(0-3)':\n",
    "                rest_frequency = get_line_rest_frequency(line_name)\n",
    "                alpha =\n",
    "                 \n",
    "        return sigma"
   ]
  },
  {
   "cell_type": "code",
   "execution_count": null,
   "metadata": {},
   "outputs": [],
   "source": [
    "def exponential_func(x, a, b):\n",
    "        \"\"\"\n",
    "        Exponential function used to fit the data.\n",
    "        \"\"\"\n",
    "        return a * np.exp(-b * x)"
   ]
  }
 ],
 "metadata": {
  "kernelspec": {
   "display_name": "base",
   "language": "python",
   "name": "python3"
  },
  "language_info": {
   "codemirror_mode": {
    "name": "ipython",
    "version": 3
   },
   "file_extension": ".py",
   "mimetype": "text/x-python",
   "name": "python",
   "nbconvert_exporter": "python",
   "pygments_lexer": "ipython3",
   "version": "3.11.7"
  }
 },
 "nbformat": 4,
 "nbformat_minor": 2
}
