{
 "cells": [
  {
   "cell_type": "code",
   "execution_count": 44,
   "metadata": {},
   "outputs": [
    {
     "name": "stdout",
     "output_type": "stream",
     "text": [
      "Current working directory: /home/sannino/ALMASim/experimental\n",
      "Path to the parent directory: /home/sannino/ALMASim\n"
     ]
    }
   ],
   "source": [
    "import pandas as pd\n",
    "import matplotlib.pyplot as plt\n",
    "import os\n",
    "import numpy as np\n",
    "from astropy.cosmology import FlatLambdaCDM\n",
    "from astropy import units as U\n",
    "from scipy.constants import c\n",
    "import sys\n",
    "from math import pi\n",
    "from astropy.cosmology import FlatLambdaCDM \n",
    "from matplotlib.animation import FuncAnimation\n",
    "from tqdm import tqdm\n",
    "\n",
    "current_path = os.getcwd()\n",
    "parent_dir = os.path.dirname(current_path)\n",
    "print(\"Current working directory:\", current_path)\n",
    "print(\"Path to the parent directory:\",parent_dir)"
   ]
  },
  {
   "cell_type": "code",
   "execution_count": 45,
   "metadata": {},
   "outputs": [],
   "source": [
    "def get_band_range(band):\n",
    "    if band == 1:\n",
    "        return (31, 45)\n",
    "    elif band == 2:\n",
    "        return (67, 90)\n",
    "    elif band == 3:\n",
    "        return (84, 116)\n",
    "    elif band == 4:\n",
    "        return (125, 163)\n",
    "    elif band == 5:\n",
    "        return (163, 211)\n",
    "    elif band == 6:\n",
    "        return (211, 275)\n",
    "    elif band == 7:\n",
    "        return (275, 373)\n",
    "    elif band == 8:\n",
    "        return (385, 500)\n",
    "    elif band == 9:\n",
    "        return (602, 720)\n",
    "    elif band == 10:\n",
    "        return (787, 950)\n",
    "\n",
    "def get_band_central_freq(band):\n",
    "    \"\"\"\n",
    "    Takes as input the band number and returns its central frequency in GHz\n",
    "    \"\"\"\n",
    "    if band == 1:\n",
    "        return 38\n",
    "    elif band == 2:\n",
    "        return 78.5\n",
    "    elif band == 3:\n",
    "        return 100\n",
    "    elif band == 4:\n",
    "        return  143\n",
    "    elif band == 5:\n",
    "        return  217\n",
    "    elif band == 6:\n",
    "        return 250\n",
    "    elif band == 7:\n",
    "        return 353\n",
    "    elif band == 8:\n",
    "        return 545\n",
    "    elif band == 9:\n",
    "        return 650\n",
    "    elif band == 10:\n",
    "        return 850"
   ]
  },
  {
   "cell_type": "code",
   "execution_count": 46,
   "metadata": {},
   "outputs": [],
   "source": [
    "def read_line_emission_csv(path_line_emission_csv, sep=\";\"):\n",
    "    \"\"\"\n",
    "    Read the csv file in which are stored the line emission's rest frequency.\n",
    "    \n",
    "    Parameter: \n",
    "    path_line_emission_csv (str): Path to file.csv within there are the line emission's rest frequency.\n",
    "    \n",
    "    Return:\n",
    "    pd.DataFrame : Dataframe with line names and rest frequencies.\n",
    "    \"\"\"\n",
    "    db_line = pd.read_csv(path_line_emission_csv, sep = sep)\n",
    "    return db_line\n"
   ]
  },
  {
   "cell_type": "code",
   "execution_count": 47,
   "metadata": {},
   "outputs": [],
   "source": [
    "def cont_finder(cont_frequencies,line_frequency):\n",
    "    #cont_frequencies=sed['GHz'].values\n",
    "    distances = np.abs(cont_frequencies - np.ones(len(cont_frequencies))*line_frequency)\n",
    "    return np.argmin(distances)"
   ]
  },
  {
   "cell_type": "code",
   "execution_count": 48,
   "metadata": {},
   "outputs": [],
   "source": [
    "def normalize_sed(sed, lum_infrared, solid_angle, cont_sens, freq_min, freq_max):\n",
    "    so_to_erg_s = 3.846e+33 # Solar luminosity to erg/s -XX\n",
    "    lum_infrared_erg_s = lum_infrared * so_to_erg_s  # luminosity in erg/s -XX\n",
    "    sed['Jy'] = lum_infrared_erg_s * sed['erg/s/Hz'] * 1e+23 / solid_angle\n",
    "    cont_mask = (sed['GHz'] >= freq_min) & (sed['GHz'] <= freq_max)\n",
    "    cont_fluxes = sed[cont_mask]['Jy'].values\n",
    "    min_ = np.min(cont_fluxes)\n",
    "    print('Minimum continum flux: {:.2e}'.format(min_))\n",
    "    print('Continum sensitivity: {:.2e}'.format(cont_sens))\n",
    "    lum_save = lum_infrared\n",
    "    while min_ > cont_sens:\n",
    "        lum_infrared -= 0.1 * lum_infrared\n",
    "        lum_infrared_erg_s = so_to_erg_s * lum_infrared\n",
    "        sed['Jy'] = lum_infrared_erg_s * sed['erg/s/Hz'] * 1e+23 / solid_angle\n",
    "        cont_mask = (sed['GHz'] >= freq_min) & (sed['GHz'] <= freq_max)\n",
    "        cont_fluxes = sed[cont_mask]['Jy'].values\n",
    "        min_ = np.min(cont_fluxes)\n",
    "    \n",
    "    if lum_save != lum_infrared:\n",
    "        print('To match the desired SNR, luminosity has been set to {:.2e}'.format(lum_infrared))\n",
    "    return sed, lum_infrared_erg_s, lum_infrared\n",
    "\n",
    "def sed_reading(type_, path, cont_sens, freq_min, freq_max, lum_infrared=None, redshift=None):\n",
    "    cosmo = FlatLambdaCDM(H0=70 * U.km / U.s / U.Mpc, Tcmb0=2.725 * U.K, Om0=0.3)\n",
    "    if type_ == \"extended\" or type_ == 'diffuse' or type_ == 'galaxy-zoo':\n",
    "        file_path = os.path.join(path, 'SED_low_z_warm_star_forming_galaxy.dat')\n",
    "        if redshift is None:\n",
    "            redshift = 10**(-4)\n",
    "        if lum_infrared is None: \n",
    "            lum_infrared = 1e+12 # luminosity in solar luminosities\n",
    "    elif type_ == \"point\" or type_ == \"gaussian\":\n",
    "        file_path = os.path.join(path, 'SED_low_z_type2_AGN.dat')\n",
    "        if redshift is None:\n",
    "            redshift = 0.05\n",
    "        if lum_infrared is None:\n",
    "            lum_infrared = 1e+12 # luminosity in solar luminosities\n",
    "    else:\n",
    "        return \"Not valid type\"\n",
    "    # L (erg/s/Hz) = 4 pi d^2(cm) * 10^-23 Flux (Jy)\n",
    "    #  Flux (Jy) =L (erg/s/Hz) * 10^23 /  * 4 pi d^2(cm)\n",
    "    # To normalize we multiply by lum_infrared_jy\n",
    "    distance_Mpc = cosmo.luminosity_distance(redshift).value # distance in Mpc\n",
    "    Mpc_to_cm = 3.086e+24 # Mpc to cm\n",
    "    distance_cm = distance_Mpc * Mpc_to_cm # distance in cm  -XX\n",
    "    solid_angle = 4 * pi  * distance_cm**2 # solid angle in cm^2 -XX\n",
    "    # Load the SED\n",
    "    sed = pd.read_csv(file_path, sep=\"\\s+\")\n",
    "    # Convert to GHz\n",
    "    sed['GHz'] = sed['um'].apply(lambda x: (x* U.um).to(U.GHz, equivalencies=U.spectral()).value)\n",
    "    # Re normalize the SED and convert to Jy from erg/s/Hz\n",
    "    sed, lum_infrared_erg_s, lum_infrared = normalize_sed(sed, lum_infrared, solid_angle, cont_sens, freq_min, freq_max)\n",
    "    #  Flux (Jy) =L (erg/s/Hz) * 10^23 /  * 4 pi d^2(cm)\n",
    "    flux_infrared = lum_infrared_erg_s * 1e+23 / solid_angle # Jy * Hz \n",
    "    #flux_infrared_jy = flux_infrared  / (sed['GHz'].values * U.GHz).to(U.Hz).value  # Jy\n",
    "    sed.drop(columns=['um', 'erg/s/Hz'], inplace=True)\n",
    "    sed = sed.sort_values(by='GHz', ascending=True) \n",
    "    return sed, flux_infrared, lum_infrared"
   ]
  },
  {
   "cell_type": "code",
   "execution_count": 49,
   "metadata": {},
   "outputs": [],
   "source": [
    "def process_spectral_data(type_, master_path, redshift, central_frequency, delta_freq, \n",
    "    source_frequency, n_channels, lum_infrared, cont_sens, line_names=None, n_lines=None):\n",
    "    \"\"\"\n",
    "    Process spectral data based on the type of source, wavelength conversion,\n",
    "    line ratios, and given frequency bands.\n",
    "    \n",
    "    Prameters:\n",
    "    \n",
    "    redshift: Redshift value to adjust the spectral lines and cont.\n",
    "    central_frequency: Central frequency of the observation band (GHz).\n",
    "    delta_freq: Bandwidth around the central frequency (GHz).\n",
    "    source_frequency: Frequency of the source obtained from metadata (GHz).\n",
    "    lines: Optional list of line names provided by the user.\n",
    "    n_lines: Number of additional lines to consider if lines is None.\n",
    "\n",
    "    Output:\n",
    "\n",
    "\n",
    "    \"\"\"\n",
    "    # Define the frequency range based on central frequency and bandwidth\n",
    "    freq_min = central_frequency - delta_freq / 2\n",
    "    freq_max = central_frequency + delta_freq / 2\n",
    "    freq_step = delta_freq / n_channels\n",
    "    save_freq_min = freq_min\n",
    "    save_freq_max = freq_max\n",
    "    start_redshift = redshift\n",
    "    # Example data: Placeholder for cont and lines from SED processing\n",
    "    sed, flux_infrared, lum_infrared = sed_reading(type_,os.path.join(master_path,'brightnes'), cont_sens, freq_min, freq_max, lum_infrared)\n",
    "    # Placeholder for line data: line_name, observed_frequency (GHz), line_ratio, line_error\n",
    "    db_line = read_line_emission_csv(os.path.join(master_path,'brightnes','temporary_update.csv'), sep=',')\n",
    "    # Shift the cont and line frequencies by (1 + redshift)\n",
    "    sed['GHz'] = sed['GHz'] / (1 + redshift)\n",
    "    filtered_lines = db_line.copy()\n",
    "    filtered_lines.drop(filtered_lines.index, inplace=True)\n",
    "    if line_names is None:\n",
    "        if n_lines != None:\n",
    "            n = n_lines\n",
    "        else:\n",
    "            n = 1\n",
    "    else:\n",
    "        n = len(line_names)\n",
    "\n",
    "    fwhms = [np.random.randint(3, 10) for i in range(n)]\n",
    "    fwhms_freq = fwhms * U.GHz * freq_step\n",
    "    max_fwhm = np.max(fwhms_freq)\n",
    "    pbar = tqdm(desc='Searching lines....', total=n)\n",
    "    initial_len = len(filtered_lines)\n",
    "    while len(filtered_lines) < n:\n",
    "        r_len = len(filtered_lines)\n",
    "        filtered_lines = db_line.copy()\n",
    "        filtered_lines.drop(filtered_lines.index, inplace=True)\n",
    "        db_line['shifted_freq(GHz)'] = db_line['freq(GHz)'] / (1 + redshift)\n",
    "        line_mask = (db_line['shifted_freq(GHz)'].astype(float) - max_fwhm >= freq_min) & (db_line['shifted_freq(GHz)'].astype(float) + max_fwhm <= freq_max)\n",
    "        filtered_lines = db_line[line_mask]\n",
    "        if len(filtered_lines) < n:\n",
    "            n_possible = (db_line['shifted_freq(GHz)'].astype(float) + max_fwhm <= freq_max).sum() + (db_line['shifted_freq(GHz)'].astype(float) - max_fwhm >= freq_min).sum()\n",
    "            ##if n_possible != 0:\n",
    "            #    redshift += 0.01\n",
    "            #freq_min -= freq_min / 10\n",
    "            #freq_max += freq_max / 10\n",
    "            redshift += 0.01\n",
    "            #print(n_possible)\n",
    "        #pbar.set_description(\"Increasing Redshift{}\".format(redshift))\n",
    "        if len(filtered_lines) > r_len:\n",
    "            pbar.update(1)   \n",
    "        recorded_length = len(filtered_lines)\n",
    "    pbar.update(1) \n",
    "    pbar.close()\n",
    "    if redshift != start_redshift:\n",
    "        print('Redshift increased to match the desired number of lines.')\n",
    "    #if len(filtered_lines) > initial_len:\n",
    "    #    print('Warning: Bandwidth increased to match the desired number of lines.')\n",
    "    #    increment = freq_max - save_freq_max\n",
    "    #    freq_max += increment\n",
    "    #    freq_min -= increment\n",
    "    #    print('New Bandwidth: {} GHz'.format(round(freq_max - freq_min, 3)))\n",
    "    #req_max += freq_max / 10      \n",
    "    if type(line_names) == list or isinstance(line_names, np.ndarray):\n",
    "        user_lines = filtered_lines[np.isin(filtered_lines['Line'], line_names)]\n",
    "        if len(user_lines) != len(line_names):\n",
    "            print('Warning: Selected lines do not fall in the provided band, automaticaly computing most probable lines.')\n",
    "            # Find rows in filtered_lines that are not already in user_lines\n",
    "            additional_lines = filtered_lines[~filtered_lines.index.isin(user_lines.index)]\n",
    "            # Add rows from filtered_lines to user_lines until the length matches len(line_names)\n",
    "            num_additional_rows = len(line_names) - len(user_lines)\n",
    "            additional_lines = additional_lines.iloc[:num_additional_rows]  # Ensure we only select the required number of rows\n",
    "            # Add additional_lines to user_lines\n",
    "            user_lines = pd.concat([user_lines, additional_lines])\n",
    "            filtered_lines = user_lines\n",
    "        else:\n",
    "            filtered_lines = user_lines\n",
    "    print('Injecting {} lines'.format(len(filtered_lines)))\n",
    "    filtered_lines['distance'] = np.abs(filtered_lines['shifted_freq(GHz)'].astype(float) - source_frequency)\n",
    "    filtered_lines.sort_values(by='distance', inplace=True)\n",
    "    cont_mask = (sed['GHz'] >= freq_min) & (sed['GHz'] <= freq_max)\n",
    "    cont_fluxes = sed[cont_mask]['Jy'].values\n",
    "    cont_frequencies = sed[cont_mask]['GHz'].values\n",
    "    if n_lines != None:\n",
    "        if n_lines > len(filtered_lines):\n",
    "            print(f'Warning: Cant insert {n_lines}, injecting {len(filtered_lines)}.')\n",
    "        else:\n",
    "            filtered_lines = filtered_lines.head(n_lines)\n",
    "    line_names = filtered_lines['Line'].values\n",
    "    cs = filtered_lines['c'].values\n",
    "    cdeltas = filtered_lines['err_c'].values\n",
    "    line_ratios = np.array([np.random.normal(c, cd) for c, cd in zip(cs, cdeltas)])\n",
    "    # Get the index of the continuum where the line fall\n",
    "    #line_indexes = filtered_lines['shifted_freq(GHz)'].apply(lambda x: cont_finder(cont_frequencies, float(x)))\n",
    "    # Line Flux (integrated over the line) = Cont_flux + 10^(log(L_infrared / line_width_in_Hz) + c)\n",
    "    line_frequencies =  filtered_lines['shifted_freq(GHz)'].values \n",
    "    line_rest_frequencies = filtered_lines['freq(GHz)'].values * U.GHz \n",
    "    new_cont_freq = np.linspace(freq_min, freq_max, n_channels)\n",
    "    if len(cont_fluxes) > 1: \n",
    "        int_cont_fluxes = np.interp(new_cont_freq, cont_frequencies, cont_fluxes)\n",
    "    else:\n",
    "        int_cont_fluxes = np.ones(n_channels) * cont_fluxes[0]\n",
    "    line_indexes = filtered_lines['shifted_freq(GHz)'].apply(lambda x: cont_finder(new_cont_freq, float(x)))\n",
    "    freq_steps = np.array([new_cont_freq[line_index + fwhm] - new_cont_freq[line_index] for fwhm, line_index in zip(fwhms, line_indexes)]) * U.GHz\n",
    "    freq_steps = freq_steps.to(U.Hz).value\n",
    "    #line_fluxes = int_cont_fluxes[line_indexes] + (10**(np.log10(flux_infrared)  + line_ratios) / freq_steps)\n",
    "    line_fluxes = 10**(np.log10(flux_infrared)  + line_ratios) / freq_steps\n",
    "    line_flux_errors = (10**(np.log10(flux_infrared) + line_ratios) / freq_steps) * np.log(10) * cdeltas \n",
    "    bandwidth = freq_max - freq_min\n",
    "    freq_support = bandwidth / n_channels\n",
    "    return int_cont_fluxes, line_fluxes,line_flux_errors, line_names, redshift, line_frequencies, line_indexes, n_channels, bandwidth, freq_support, new_cont_freq, fwhms, lum_infrared, cs, freq_step, max_fwhm, filtered_lines"
   ]
  },
  {
   "cell_type": "code",
   "execution_count": 50,
   "metadata": {},
   "outputs": [],
   "source": [
    "def luminosity_to_jy(velocity, data,  redshift):\n",
    "    \n",
    "        \"\"\"\n",
    "        This function takes as input a pandas db containing luminosities in K km s-1 pc2, redshifts, and luminosity distances in Mpc, \n",
    "        and returns the brightness values in Jy.\n",
    "        \n",
    "        Parameters:\n",
    "        velocity (float): The velocity dispersion assumed for the line (Km s-1).\n",
    "        data (pandas.DataFrame): A pandas DataFrame containing the data.\n",
    "        rest_frequency (float): The rest frequency of the line in GHz. Defaults to 115.27 GHz for CO(1-0).\n",
    "\n",
    "        Output:\n",
    "        sigma: numpy.ndarray: An array of brightness values in Jy.\n",
    "\n",
    "        \"\"\"\n",
    "        alpha = 3.255 * 10**7 / 10**9\n",
    "        cosmo = FlatLambdaCDM(H0=70 * U.km / U.s / U.Mpc, Tcmb0=2.725 * U.K, Om0=0.3)\n",
    "        # Intensity: 10^9 K km s−1 pc2\n",
    "        sigma = (data['Intensity'] * ((1 + redshift)**3 * data['freq(GHz)'] **2)) / (alpha * velocity * cosmo.luminosity_distance(redshift).value**2)\n",
    "        error_sigma = (data['Error']* ((1 + redshift)**3 * data['freq(GHz)'] **2))/ (alpha * velocity * cosmo.luminosity_distance(redshift).value**2)\n",
    "        return sigma, error_sigma\n"
   ]
  },
  {
   "cell_type": "code",
   "execution_count": 53,
   "metadata": {},
   "outputs": [
    {
     "name": "stdout",
     "output_type": "stream",
     "text": [
      "Minimum continum flux: 9.68e-03\n",
      "Continum sensitivity: 1.00e-03\n",
      "To match the desired SNR, luminosity has been set to 9.85e+10\n"
     ]
    },
    {
     "name": "stderr",
     "output_type": "stream",
     "text": [
      "Searching lines....: 2it [00:00, 1649.68it/s]             "
     ]
    },
    {
     "name": "stdout",
     "output_type": "stream",
     "text": [
      "Injecting 6 lines\n"
     ]
    },
    {
     "name": "stderr",
     "output_type": "stream",
     "text": [
      "\n",
      "/tmp/ipykernel_564731/2778515627.py:93: SettingWithCopyWarning: \n",
      "A value is trying to be set on a copy of a slice from a DataFrame.\n",
      "Try using .loc[row_indexer,col_indexer] = value instead\n",
      "\n",
      "See the caveats in the documentation: https://pandas.pydata.org/pandas-docs/stable/user_guide/indexing.html#returning-a-view-versus-a-copy\n",
      "  filtered_lines['distance'] = np.abs(filtered_lines['shifted_freq(GHz)'].astype(float) - source_frequency)\n",
      "/tmp/ipykernel_564731/2778515627.py:94: SettingWithCopyWarning: \n",
      "A value is trying to be set on a copy of a slice from a DataFrame\n",
      "\n",
      "See the caveats in the documentation: https://pandas.pydata.org/pandas-docs/stable/user_guide/indexing.html#returning-a-view-versus-a-copy\n",
      "  filtered_lines.sort_values(by='distance', inplace=True)\n"
     ]
    },
    {
     "ename": "IndexError",
     "evalue": "only integers, slices (`:`), ellipsis (`...`), numpy.newaxis (`None`) and integer or boolean arrays are valid indices",
     "output_type": "error",
     "traceback": [
      "\u001b[0;31m---------------------------------------------------------------------------\u001b[0m",
      "\u001b[0;31mIndexError\u001b[0m                                Traceback (most recent call last)",
      "Cell \u001b[0;32mIn[53], line 22\u001b[0m\n\u001b[1;32m     20\u001b[0m line_emission_data[\u001b[38;5;124m'\u001b[39m\u001b[38;5;124mshifted_freq(GHz)\u001b[39m\u001b[38;5;124m'\u001b[39m] \u001b[38;5;241m=\u001b[39m line_emission_data[\u001b[38;5;124m'\u001b[39m\u001b[38;5;124mfreq(GHz)\u001b[39m\u001b[38;5;124m'\u001b[39m] \u001b[38;5;241m/\u001b[39m (\u001b[38;5;241m1\u001b[39m \u001b[38;5;241m+\u001b[39m redshift)\n\u001b[1;32m     21\u001b[0m line_name2\u001b[38;5;241m=\u001b[39mfiltered_lines[\u001b[38;5;124m'\u001b[39m\u001b[38;5;124mLine\u001b[39m\u001b[38;5;124m'\u001b[39m]\u001b[38;5;241m.\u001b[39mvalues\n\u001b[0;32m---> 22\u001b[0m sigma,error_sigma \u001b[38;5;241m=\u001b[39m \u001b[43mluminosity_to_jy\u001b[49m\u001b[43m(\u001b[49m\u001b[43mvelocity\u001b[49m\u001b[43m,\u001b[49m\u001b[43m \u001b[49m\u001b[43mline_name2\u001b[49m\u001b[43m,\u001b[49m\u001b[43m \u001b[49m\u001b[43mredshift\u001b[49m\u001b[43m)\u001b[49m\n\u001b[1;32m     24\u001b[0m output_file_path \u001b[38;5;241m=\u001b[39m os\u001b[38;5;241m.\u001b[39mpath\u001b[38;5;241m.\u001b[39mjoin(current_path, \u001b[38;5;124m'\u001b[39m\u001b[38;5;124mluminosity_comparison.txt\u001b[39m\u001b[38;5;124m'\u001b[39m)\n\u001b[1;32m     26\u001b[0m \u001b[38;5;28;01mwith\u001b[39;00m \u001b[38;5;28mopen\u001b[39m(output_file_path, \u001b[38;5;124m'\u001b[39m\u001b[38;5;124mw\u001b[39m\u001b[38;5;124m'\u001b[39m) \u001b[38;5;28;01mas\u001b[39;00m file:\n",
      "Cell \u001b[0;32mIn[50], line 19\u001b[0m, in \u001b[0;36mluminosity_to_jy\u001b[0;34m(velocity, data, redshift)\u001b[0m\n\u001b[1;32m     17\u001b[0m cosmo \u001b[38;5;241m=\u001b[39m FlatLambdaCDM(H0\u001b[38;5;241m=\u001b[39m\u001b[38;5;241m70\u001b[39m \u001b[38;5;241m*\u001b[39m U\u001b[38;5;241m.\u001b[39mkm \u001b[38;5;241m/\u001b[39m U\u001b[38;5;241m.\u001b[39ms \u001b[38;5;241m/\u001b[39m U\u001b[38;5;241m.\u001b[39mMpc, Tcmb0\u001b[38;5;241m=\u001b[39m\u001b[38;5;241m2.725\u001b[39m \u001b[38;5;241m*\u001b[39m U\u001b[38;5;241m.\u001b[39mK, Om0\u001b[38;5;241m=\u001b[39m\u001b[38;5;241m0.3\u001b[39m)\n\u001b[1;32m     18\u001b[0m \u001b[38;5;66;03m# Intensity: 10^9 K km s−1 pc2\u001b[39;00m\n\u001b[0;32m---> 19\u001b[0m sigma \u001b[38;5;241m=\u001b[39m (\u001b[43mdata\u001b[49m\u001b[43m[\u001b[49m\u001b[38;5;124;43m'\u001b[39;49m\u001b[38;5;124;43mIntensity\u001b[39;49m\u001b[38;5;124;43m'\u001b[39;49m\u001b[43m]\u001b[49m \u001b[38;5;241m*\u001b[39m ((\u001b[38;5;241m1\u001b[39m \u001b[38;5;241m+\u001b[39m redshift)\u001b[38;5;241m*\u001b[39m\u001b[38;5;241m*\u001b[39m\u001b[38;5;241m3\u001b[39m \u001b[38;5;241m*\u001b[39m data[\u001b[38;5;124m'\u001b[39m\u001b[38;5;124mfreq(GHz)\u001b[39m\u001b[38;5;124m'\u001b[39m] \u001b[38;5;241m*\u001b[39m\u001b[38;5;241m*\u001b[39m\u001b[38;5;241m2\u001b[39m)) \u001b[38;5;241m/\u001b[39m (alpha \u001b[38;5;241m*\u001b[39m velocity \u001b[38;5;241m*\u001b[39m cosmo\u001b[38;5;241m.\u001b[39mluminosity_distance(redshift)\u001b[38;5;241m.\u001b[39mvalue\u001b[38;5;241m*\u001b[39m\u001b[38;5;241m*\u001b[39m\u001b[38;5;241m2\u001b[39m)\n\u001b[1;32m     20\u001b[0m error_sigma \u001b[38;5;241m=\u001b[39m (data[\u001b[38;5;124m'\u001b[39m\u001b[38;5;124mError\u001b[39m\u001b[38;5;124m'\u001b[39m]\u001b[38;5;241m*\u001b[39m ((\u001b[38;5;241m1\u001b[39m \u001b[38;5;241m+\u001b[39m redshift)\u001b[38;5;241m*\u001b[39m\u001b[38;5;241m*\u001b[39m\u001b[38;5;241m3\u001b[39m \u001b[38;5;241m*\u001b[39m data[\u001b[38;5;124m'\u001b[39m\u001b[38;5;124mfreq(GHz)\u001b[39m\u001b[38;5;124m'\u001b[39m] \u001b[38;5;241m*\u001b[39m\u001b[38;5;241m*\u001b[39m\u001b[38;5;241m2\u001b[39m))\u001b[38;5;241m/\u001b[39m (alpha \u001b[38;5;241m*\u001b[39m velocity \u001b[38;5;241m*\u001b[39m cosmo\u001b[38;5;241m.\u001b[39mluminosity_distance(redshift)\u001b[38;5;241m.\u001b[39mvalue\u001b[38;5;241m*\u001b[39m\u001b[38;5;241m*\u001b[39m\u001b[38;5;241m2\u001b[39m)\n\u001b[1;32m     21\u001b[0m \u001b[38;5;28;01mreturn\u001b[39;00m sigma, error_sigma\n",
      "\u001b[0;31mIndexError\u001b[0m: only integers, slices (`:`), ellipsis (`...`), numpy.newaxis (`None`) and integer or boolean arrays are valid indices"
     ]
    }
   ],
   "source": [
    "type_ = 'point'\n",
    "master_path = parent_dir\n",
    "redshift = 0.5\n",
    "band = 6\n",
    "central_frequency = get_band_central_freq(band)   # in GHz\n",
    "delta_freq = 40  # in GHz\n",
    "source_frequency = central_frequency # in GHz\n",
    "n_channels = 256\n",
    "lum_infrared = 1e12  # Infrared Luminosity\n",
    "cont_sens = 1e-3  # Continuum sensibility\n",
    "line_names = None  # List of lines name\n",
    "n_lines = None  # Number of lines\n",
    "velocity = 300  # Velocity dispersion in Km s-1\n",
    "freq_min = central_frequency - delta_freq / 2\n",
    "freq_max = central_frequency + delta_freq / 2\n",
    "# Comparison\n",
    "cont_fluxes, line_fluxes, line_flux_errors, line_namess, redshift, line_frequencies, line_indexes, n_channels, bandwidth, freq_support, new_cont_freq, fwhms, lum_infrared, cs, freq_steps, max_fwhm, filtered_lines = process_spectral_data(\n",
    "    type_, master_path, redshift, central_frequency, delta_freq, source_frequency, n_channels, lum_infrared, cont_sens, line_names, n_lines)\n",
    "line_emission_data = pd.read_csv(os.path.join(parent_dir,'brightnes','temporary_update.csv'))\n",
    "line_emission_data['shifted_freq(GHz)'] = line_emission_data['freq(GHz)'] / (1 + redshift)\n",
    "line_name2=filtered_lines['Line'].values\n",
    "sigma,error_sigma = luminosity_to_jy(velocity, filtered_lines, redshift)\n",
    "\n",
    "output_file_path = os.path.join(current_path, 'luminosity_comparison.txt')\n",
    "\n",
    "with open(output_file_path, 'w') as file:\n",
    "    for i, (flux_psd, flux_lum_to_jy) in enumerate(zip(line_fluxes, sigma)):\n",
    "        file.write(f\"Line {line_names[i]}:\\n\")\n",
    "        file.write(f\"Line {line_name2[i]}:\\n\")\n",
    "        file.write(f\"Luminosity given by process_spectral_data: {flux_psd:.2e} Jy\\n\")\n",
    "        file.write(f\"Luminosity given by luminosity_to_jy: {flux_lum_to_jy:.2e} Jy\\n\")\n",
    "        file.write(f\"Infrared Luminosity: {lum_infrared:.2e}\\n\")\n",
    "        file.write(f\"c value: {cs[i]:.2e}\\n\")\n",
    "        file.write(f\"Frequency steps value: {freq_steps:.2e}\\n\")\n",
    "        file.write(\"\\n\")\n",
    "\n"
   ]
  },
  {
   "cell_type": "code",
   "execution_count": null,
   "metadata": {},
   "outputs": [
    {
     "name": "stdout",
     "output_type": "stream",
     "text": [
      "Minimum continum flux: 4.32e-03\n",
      "Continum sensitivity: 1.00e-03\n",
      "To match the desired SNR, luminosity has been set to 2.29e+11\n"
     ]
    },
    {
     "name": "stderr",
     "output_type": "stream",
     "text": [
      "Searching lines....: 2it [00:00, 1727.47it/s]             "
     ]
    },
    {
     "name": "stdout",
     "output_type": "stream",
     "text": [
      "Injecting 1 lines\n"
     ]
    },
    {
     "name": "stderr",
     "output_type": "stream",
     "text": [
      "\n",
      "/tmp/ipykernel_564731/4238865280.py:93: SettingWithCopyWarning: \n",
      "A value is trying to be set on a copy of a slice from a DataFrame.\n",
      "Try using .loc[row_indexer,col_indexer] = value instead\n",
      "\n",
      "See the caveats in the documentation: https://pandas.pydata.org/pandas-docs/stable/user_guide/indexing.html#returning-a-view-versus-a-copy\n",
      "  filtered_lines['distance'] = np.abs(filtered_lines['shifted_freq(GHz)'].astype(float) - source_frequency)\n",
      "/tmp/ipykernel_564731/4238865280.py:94: SettingWithCopyWarning: \n",
      "A value is trying to be set on a copy of a slice from a DataFrame\n",
      "\n",
      "See the caveats in the documentation: https://pandas.pydata.org/pandas-docs/stable/user_guide/indexing.html#returning-a-view-versus-a-copy\n",
      "  filtered_lines.sort_values(by='distance', inplace=True)\n"
     ]
    },
    {
     "name": "stdout",
     "output_type": "stream",
     "text": [
      "Minimum continum flux: 1.03e-03\n",
      "Continum sensitivity: 1.00e-03\n",
      "To match the desired SNR, luminosity has been set to 2.06e+11\n"
     ]
    },
    {
     "name": "stderr",
     "output_type": "stream",
     "text": [
      "Searching lines....: 2it [00:00, 1769.00it/s]             "
     ]
    },
    {
     "name": "stdout",
     "output_type": "stream",
     "text": [
      "Injecting 1 lines\n"
     ]
    },
    {
     "name": "stderr",
     "output_type": "stream",
     "text": [
      "\n"
     ]
    },
    {
     "name": "stdout",
     "output_type": "stream",
     "text": [
      "Minimum continum flux: 9.66e-04\n",
      "Continum sensitivity: 1.00e-03\n"
     ]
    },
    {
     "name": "stderr",
     "output_type": "stream",
     "text": [
      "Searching lines....: 2it [00:00, 1611.33it/s]             "
     ]
    },
    {
     "name": "stdout",
     "output_type": "stream",
     "text": [
      "Injecting 1 lines\n"
     ]
    },
    {
     "name": "stderr",
     "output_type": "stream",
     "text": [
      "\n"
     ]
    },
    {
     "name": "stdout",
     "output_type": "stream",
     "text": [
      "Minimum continum flux: 1.01e-03\n",
      "Continum sensitivity: 1.00e-03\n",
      "To match the desired SNR, luminosity has been set to 1.85e+11\n"
     ]
    },
    {
     "name": "stderr",
     "output_type": "stream",
     "text": [
      "Searching lines....: 2it [00:00, 1129.32it/s]             "
     ]
    },
    {
     "name": "stdout",
     "output_type": "stream",
     "text": [
      "Injecting 1 lines\n"
     ]
    },
    {
     "name": "stderr",
     "output_type": "stream",
     "text": [
      "\n"
     ]
    },
    {
     "name": "stdout",
     "output_type": "stream",
     "text": [
      "Minimum continum flux: 9.40e-04\n",
      "Continum sensitivity: 1.00e-03\n"
     ]
    },
    {
     "name": "stderr",
     "output_type": "stream",
     "text": [
      "Searching lines....: 2it [00:00, 599.74it/s]              "
     ]
    },
    {
     "name": "stdout",
     "output_type": "stream",
     "text": [
      "Injecting 1 lines\n"
     ]
    },
    {
     "name": "stderr",
     "output_type": "stream",
     "text": [
      "\n"
     ]
    },
    {
     "name": "stdout",
     "output_type": "stream",
     "text": [
      "Minimum continum flux: 9.72e-04\n",
      "Continum sensitivity: 1.00e-03\n"
     ]
    },
    {
     "name": "stderr",
     "output_type": "stream",
     "text": [
      "Searching lines....: 2it [00:00, 622.39it/s]              "
     ]
    },
    {
     "name": "stdout",
     "output_type": "stream",
     "text": [
      "Injecting 1 lines\n"
     ]
    },
    {
     "name": "stderr",
     "output_type": "stream",
     "text": [
      "\n"
     ]
    },
    {
     "name": "stdout",
     "output_type": "stream",
     "text": [
      "Minimum continum flux: 1.01e-03\n",
      "Continum sensitivity: 1.00e-03\n",
      "To match the desired SNR, luminosity has been set to 1.67e+11\n"
     ]
    },
    {
     "name": "stderr",
     "output_type": "stream",
     "text": [
      "Searching lines....: 2it [00:00, 1015.20it/s]             "
     ]
    },
    {
     "name": "stdout",
     "output_type": "stream",
     "text": [
      "Injecting 1 lines\n"
     ]
    },
    {
     "name": "stderr",
     "output_type": "stream",
     "text": [
      "\n"
     ]
    },
    {
     "name": "stdout",
     "output_type": "stream",
     "text": [
      "Minimum continum flux: 9.32e-04\n",
      "Continum sensitivity: 1.00e-03\n"
     ]
    },
    {
     "name": "stderr",
     "output_type": "stream",
     "text": [
      "Searching lines....: 2it [00:00, 1708.13it/s]             "
     ]
    },
    {
     "name": "stdout",
     "output_type": "stream",
     "text": [
      "Injecting 1 lines\n"
     ]
    },
    {
     "name": "stderr",
     "output_type": "stream",
     "text": [
      "\n"
     ]
    },
    {
     "name": "stdout",
     "output_type": "stream",
     "text": [
      "Minimum continum flux: 9.60e-04\n",
      "Continum sensitivity: 1.00e-03\n"
     ]
    },
    {
     "name": "stderr",
     "output_type": "stream",
     "text": [
      "Searching lines....: 2it [00:00, 520.45it/s]              "
     ]
    },
    {
     "name": "stdout",
     "output_type": "stream",
     "text": [
      "Injecting 1 lines\n"
     ]
    },
    {
     "name": "stderr",
     "output_type": "stream",
     "text": [
      "\n"
     ]
    },
    {
     "name": "stdout",
     "output_type": "stream",
     "text": [
      "Minimum continum flux: 9.86e-04\n",
      "Continum sensitivity: 1.00e-03\n"
     ]
    },
    {
     "name": "stderr",
     "output_type": "stream",
     "text": [
      "Searching lines....: 2it [00:00, 593.84it/s]              "
     ]
    },
    {
     "name": "stdout",
     "output_type": "stream",
     "text": [
      "Injecting 1 lines\n"
     ]
    },
    {
     "name": "stderr",
     "output_type": "stream",
     "text": [
      "\n"
     ]
    },
    {
     "name": "stdout",
     "output_type": "stream",
     "text": [
      "Minimum continum flux: 1.01e-03\n",
      "Continum sensitivity: 1.00e-03\n",
      "To match the desired SNR, luminosity has been set to 1.50e+11\n"
     ]
    },
    {
     "name": "stderr",
     "output_type": "stream",
     "text": [
      "Searching lines....: 2it [00:00, 623.41it/s]              "
     ]
    },
    {
     "name": "stdout",
     "output_type": "stream",
     "text": [
      "Injecting 1 lines\n"
     ]
    },
    {
     "name": "stderr",
     "output_type": "stream",
     "text": [
      "\n"
     ]
    },
    {
     "name": "stdout",
     "output_type": "stream",
     "text": [
      "Minimum continum flux: 9.31e-04\n",
      "Continum sensitivity: 1.00e-03\n"
     ]
    },
    {
     "name": "stderr",
     "output_type": "stream",
     "text": [
      "Searching lines....: 2it [00:00, 1127.35it/s]             "
     ]
    },
    {
     "name": "stdout",
     "output_type": "stream",
     "text": [
      "Injecting 1 lines\n"
     ]
    },
    {
     "name": "stderr",
     "output_type": "stream",
     "text": [
      "\n"
     ]
    },
    {
     "name": "stdout",
     "output_type": "stream",
     "text": [
      "Minimum continum flux: 9.52e-04\n",
      "Continum sensitivity: 1.00e-03\n"
     ]
    },
    {
     "name": "stderr",
     "output_type": "stream",
     "text": [
      "Searching lines....: 2it [00:00, 1800.52it/s]             "
     ]
    },
    {
     "name": "stdout",
     "output_type": "stream",
     "text": [
      "Injecting 1 lines\n"
     ]
    },
    {
     "name": "stderr",
     "output_type": "stream",
     "text": [
      "\n"
     ]
    },
    {
     "name": "stdout",
     "output_type": "stream",
     "text": [
      "Minimum continum flux: 9.73e-04\n",
      "Continum sensitivity: 1.00e-03\n"
     ]
    },
    {
     "name": "stderr",
     "output_type": "stream",
     "text": [
      "Searching lines....: 2it [00:00, 539.43it/s]              "
     ]
    },
    {
     "name": "stdout",
     "output_type": "stream",
     "text": [
      "Injecting 1 lines\n"
     ]
    },
    {
     "name": "stderr",
     "output_type": "stream",
     "text": [
      "\n"
     ]
    },
    {
     "name": "stdout",
     "output_type": "stream",
     "text": [
      "Minimum continum flux: 9.92e-04\n",
      "Continum sensitivity: 1.00e-03\n"
     ]
    },
    {
     "name": "stderr",
     "output_type": "stream",
     "text": [
      "Searching lines....: 2it [00:00, 1738.93it/s]             "
     ]
    },
    {
     "name": "stdout",
     "output_type": "stream",
     "text": [
      "Injecting 1 lines\n"
     ]
    },
    {
     "name": "stderr",
     "output_type": "stream",
     "text": [
      "\n"
     ]
    },
    {
     "name": "stdout",
     "output_type": "stream",
     "text": [
      "Minimum continum flux: 1.01e-03\n",
      "Continum sensitivity: 1.00e-03\n",
      "To match the desired SNR, luminosity has been set to 1.35e+11\n"
     ]
    },
    {
     "name": "stderr",
     "output_type": "stream",
     "text": [
      "Searching lines....: 2it [00:00, 538.18it/s]              "
     ]
    },
    {
     "name": "stdout",
     "output_type": "stream",
     "text": [
      "Injecting 1 lines\n"
     ]
    },
    {
     "name": "stderr",
     "output_type": "stream",
     "text": [
      "\n"
     ]
    },
    {
     "name": "stdout",
     "output_type": "stream",
     "text": [
      "Minimum continum flux: 9.27e-04\n",
      "Continum sensitivity: 1.00e-03\n"
     ]
    },
    {
     "name": "stderr",
     "output_type": "stream",
     "text": [
      "Searching lines....: 2it [00:00, 624.66it/s]              "
     ]
    },
    {
     "name": "stdout",
     "output_type": "stream",
     "text": [
      "Injecting 1 lines\n"
     ]
    },
    {
     "name": "stderr",
     "output_type": "stream",
     "text": [
      "\n"
     ]
    },
    {
     "name": "stdout",
     "output_type": "stream",
     "text": [
      "Minimum continum flux: 9.43e-04\n",
      "Continum sensitivity: 1.00e-03\n"
     ]
    },
    {
     "name": "stderr",
     "output_type": "stream",
     "text": [
      "Searching lines....: 2it [00:00, 646.42it/s]              "
     ]
    },
    {
     "name": "stdout",
     "output_type": "stream",
     "text": [
      "Injecting 1 lines\n"
     ]
    },
    {
     "name": "stderr",
     "output_type": "stream",
     "text": [
      "\n"
     ]
    },
    {
     "data": {
      "image/png": "[encoded data removed]",
      "text/plain": [
       "<Figure size 1000x600 with 1 Axes>"
      ]
     },
     "metadata": {},
     "output_type": "display_data"
    },
    {
     "data": {
      "image/png": "[encoded data removed]",
      "text/plain": [
       "<Figure size 1000x600 with 1 Axes>"
      ]
     },
     "metadata": {},
     "output_type": "display_data"
    }
   ],
   "source": [
    "type_ = 'point'\n",
    "master_path = parent_dir\n",
    "band = 3\n",
    "central_frequency = 115  # in GHz\n",
    "delta_freq = 10  # in GHz\n",
    "source_frequency = central_frequency  # in GHz\n",
    "n_channels = 256\n",
    "lum_infrared = 1e12  # Infrared Luminosity\n",
    "cont_sens = 1e-3  # Continuum sensibility\n",
    "line_names = None  # List of lines name\n",
    "n_lines = None  # Number of lines\n",
    "velocity = 300  # Velocity dispersion in Km s-1\n",
    "\n",
    "# Variabili per salvare i risultati\n",
    "redshifts = np.arange(0.5, 4, 0.2)\n",
    "luminosity_psd = []\n",
    "luminosity_lum_to_jy = []\n",
    "# Percorso del file CSV\n",
    "path_line_emission_csv = os.path.join(master_path, 'brightnes', 'temporary_update.csv')\n",
    "line_emission_data = pd.read_csv(path_line_emission_csv)\n",
    "\n",
    "# Output file path\n",
    "output_file_path = os.path.join(current_path, 'luminosity_comparison2.txt')\n",
    "\n",
    "with open(output_file_path, 'w') as file:\n",
    "    for redshift in redshifts:\n",
    "        central_frequency = 115 / (1 + redshift)\n",
    "        freq_min = central_frequency - delta_freq / 2\n",
    "        freq_max = central_frequency + delta_freq / 2\n",
    "\n",
    "        # Esecuzione delle funzioni\n",
    "        cont_fluxes, line_fluxes, line_flux_errors,line_names, redshift, line_frequencies, line_indexes, n_channels, bandwidth, freq_support, new_cont_freq, fwhms, lum_infrared, cs, freq_steps, max_fwhm = process_spectral_data(\n",
    "            type_, master_path, redshift, central_frequency, delta_freq, source_frequency, n_channels, lum_infrared, cont_sens, line_names, n_lines)\n",
    "\n",
    "        line_emission_data['shifted_freq(GHz)'] = line_emission_data['freq(GHz)'] / (1 + redshift)\n",
    "        line_mask2 = (line_emission_data['shifted_freq(GHz)'].astype(float) - max_fwhm >= freq_min) & (line_emission_data['shifted_freq(GHz)'].astype(float) + max_fwhm <= freq_max)\n",
    "        filtered_lines2 = line_emission_data[line_mask2]\n",
    "        line_name2 = filtered_lines2['Line'].values\n",
    "        sigma,error_sigma = luminosity_to_jy(velocity, filtered_lines2, redshift)\n",
    "        luminosity_psd_mean = np.mean(line_fluxes)\n",
    "        luminosity_lum_to_jy_mean = np.mean(sigma)\n",
    "        luminosity_psd.append(luminosity_psd_mean)\n",
    "        luminosity_lum_to_jy.append(luminosity_lum_to_jy_mean)\n",
    "        error_psd_plus=line_flux_errors/line_fluxes\n",
    "        error_sigma_plus=error_sigma/sigma\n",
    "        # Scrittura dei risultati nel file\n",
    "        for i, (flux_psd, flux_lum_to_jy) in enumerate(zip(line_fluxes, sigma)):\n",
    "            file.write(f\"Redshift: {redshift:.1f}\\n\")\n",
    "            file.write(f\"Line {line_names[i]}:\\n\")\n",
    "            file.write(f\"Line {line_name2[i]}:\\n\")\n",
    "            file.write(f\"Luminosity given by process_spectral_data: {flux_psd:.2e} Jy\\n\")\n",
    "            file.write(f\"Luminosity given by luminosity_to_jy: {flux_lum_to_jy:.2e} Jy\\n\")\n",
    "            file.write(f\"Infrared Luminosity: {lum_infrared:.2e}\\n\")\n",
    "            file.write(f\"c value: {cs[i]:.2e}\\n\")\n",
    "            file.write(f\"Frequency steps value: {freq_steps:.2e}\\n\")\n",
    "            file.write(\"\\n\")\n",
    "\n",
    "plt.figure(figsize=(10, 6))\n",
    "plt.errorbar(redshifts, luminosity_psd, yerr=error_psd_plus, label='Luminosity from $F_{M}$', marker='o')\n",
    "plt.errorbar(redshifts, luminosity_lum_to_jy, yerr=error_sigma_plus ,label='Luminosity from $F_{G}$', marker='x')\n",
    "plt.xlabel('Redshift')\n",
    "plt.ylabel('Luminosity (Jy)')\n",
    "plt.title('Luminosity test')\n",
    "plt.legend()\n",
    "plt.grid(True)\n",
    "plt.savefig('luminosity_comparison_vs_redshift.png')\n",
    "plt.show()\n",
    "plt.figure(figsize=(10, 6))\n",
    "plt.errorbar(redshifts, luminosity_psd, yerr=line_flux_errors, label='Luminosity from $F_{M}$', marker='o')\n",
    "plt.errorbar(redshifts, luminosity_lum_to_jy, yerr=error_sigma ,label='Luminosity from $F_{G}$', marker='x')\n",
    "plt.xlabel('Redshift')\n",
    "plt.ylabel('Luminosity (Jy)')\n",
    "plt.title('Luminosity test')\n",
    "plt.legend()\n",
    "plt.grid(True)\n",
    "plt.savefig('luminosity_comparison_vs_redshift2.png')\n",
    "plt.show()"
   ]
  }
 ],
 "metadata": {
  "kernelspec": {
   "display_name": "Python 3",
   "language": "python",
   "name": "python3"
  },
  "language_info": {
   "codemirror_mode": {
    "name": "ipython",
    "version": 3
   },
   "file_extension": ".py",
   "mimetype": "text/x-python",
   "name": "python",
   "nbconvert_exporter": "python",
   "pygments_lexer": "ipython3",
   "version": "3.9.18"
  }
 },
 "nbformat": 4,
 "nbformat_minor": 2
}
