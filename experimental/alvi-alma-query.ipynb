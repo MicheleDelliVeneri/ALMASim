{
  "cells": [
    {
      "cell_type": "markdown",
      "metadata": {
        "id": "KjGjVfuijBy3"
      },
      "source": [
        "# **Installations**"
      ]
    },
    {
      "cell_type": "markdown",
      "metadata": {
        "id": "Iw1XUCNrknjE"
      },
      "source": [
        "# **Calling Alma Database**"
      ]
    },
    {
      "cell_type": "code",
      "execution_count": 1,
      "metadata": {
        "id": "ldXVoOkJlBdH"
      },
      "outputs": [],
      "source": [
        "import numpy as np\n",
        "from astropy.table import Table\n",
        "import pyvo\n",
        "import sys\n",
        "import matplotlib.pyplot as plt\n",
        "import pandas as pd\n",
        "import sklearn.cluster\n",
        "\n",
        "service = pyvo.dal.TAPService(\"https://almascience.eso.org/tap\")      # for the EU ALMA TAP service\n",
        "\n",
        "# service = pyvo.dal.TAPService(\"https://almascience.nao.ac.jp/tap\")  # for the EA ALMA TAP service\n",
        "# service = pyvo.dal.TAPService(\"https://almascience.nrao.edu/tap\")   # for the NA ALMA TAP service"
      ]
    },
    {
      "cell_type": "markdown",
      "metadata": {
        "id": "BITruRdWKpcH"
      },
      "source": [
        "# **Navigation through Alma Database Schema**"
      ]
    },
    {
      "cell_type": "code",
      "execution_count": 2,
      "metadata": {
        "colab": {
          "base_uri": "https://localhost:8080/"
        },
        "id": "4a498A5VKptF",
        "outputId": "55fe727c-ff89-4305-991a-4d095c712712"
      },
      "outputs": [
        {
          "name": "stdout",
          "output_type": "stream",
          "text": [
            "['access_estsize', 'access_format', 'access_url', 'antenna_arrays', 'asdm_uid', 'authors', 'band_list', 'bandwidth', 'bib_reference', 'calib_level', 'collections', 'cont_sensitivity_bandwidth', 'data_rights', 'dataproduct_type', 'em_max', 'em_min', 'em_res_power', 'em_resolution', 'em_xel', 'facility_name', 'first_author', 'frequency', 'frequency_support', 'gal_latitude', 'gal_longitude', 'group_ous_uid', 'instrument_name', 'is_mosaic', 'lastModified', 'member_ous_uid', 'o_ucd', 'obs_collection', 'obs_creator_name', 'obs_id', 'obs_publisher_did', 'obs_release_date', 'obs_title', 'pi_name', 'pi_userid', 'pol_states', 'pol_xel', 'proposal_abstract', 'proposal_authors', 'proposal_id', 'pub_abstract', 'pub_title', 'publication_year', 'pwv', 'qa2_passed', 's_dec', 's_fov', 's_ra', 's_region', 's_resolution', 's_xel1', 's_xel2', 'scan_intent', 'schedblock_name', 'science_keyword', 'science_observation', 'scientific_category', 'sensitivity_10kms', 'spatial_resolution', 'spatial_scale_max', 't_exptime', 't_max', 't_min', 't_resolution', 't_xel', 'target_name', 'type', 'velocity_resolution']\n"
          ]
        }
      ],
      "source": [
        "def list_table_columns(service, table_name):\n",
        "    \"\"\"List all column names for a given table in the database.\n",
        "\n",
        "    Parameters:\n",
        "    service (pyvo.dal.TAPService): A TAPService instance for querying the database.\n",
        "    table_name (str): The name of the table to list columns for.\n",
        "\n",
        "    Returns:\n",
        "    list: A list of column names in the specified table.\n",
        "    \"\"\"\n",
        "    query = f\"\"\"\n",
        "        SELECT column_name\n",
        "        FROM TAP_SCHEMA.columns\n",
        "        WHERE table_name = '{table_name}'\n",
        "    \"\"\"\n",
        "\n",
        "    try:\n",
        "        result = service.search(query).to_table()\n",
        "        return result['column_name'].tolist()\n",
        "    except Exception as e:\n",
        "        print(f\"An error occurred: {e}\")\n",
        "        return []\n",
        "\n",
        "# Example usage:\n",
        "service = pyvo.dal.TAPService(\"https://almascience.eso.org/tap\")\n",
        "column_names = list_table_columns(service, 'ivoa.obscore')\n",
        "print(column_names)"
      ]
    },
    {
      "cell_type": "markdown",
      "metadata": {
        "id": "bKD42MgvNYKp"
      },
      "source": [
        "# **Extracting Metadata from the Alma Database**"
      ]
    },
    {
      "cell_type": "code",
      "execution_count": 30,
      "metadata": {
        "id": "ie77FREwlS6W"
      },
      "outputs": [],
      "source": [
        "import pandas as pd\n",
        "import pyvo\n",
        "\n",
        "def query_observations(service, member_ous_uid, target_name):\n",
        "    \"\"\"Query for all science observations of given member OUS UID and target name, selecting all columns of interest.\n",
        "\n",
        "    Parameters:\n",
        "    service (pyvo.dal.TAPService): A TAPService instance for querying the database.\n",
        "    member_ous_uid (str): The unique identifier for the member OUS to filter observations by.\n",
        "    target_name (str): The target name to filter observations by.\n",
        "\n",
        "    Returns:\n",
        "    pandas.DataFrame: A table of query results.\n",
        "    \"\"\"\n",
        "\n",
        "    query = f\"\"\"\n",
        "            SELECT *\n",
        "            FROM ivoa.obscore\n",
        "            WHERE member_ous_uid = '{member_ous_uid}'\n",
        "            AND target_name = '{target_name}'\n",
        "            AND is_mosaic = 'F'\n",
        "            \"\"\"\n",
        "\n",
        "    result = service.search(query).to_table().to_pandas()\n",
        "\n",
        "    return result\n",
        "\n",
        "def query_all_targets(service, targets):\n",
        "    \"\"\"Query observations for all predefined targets and compile the results into a single DataFrame.\n",
        "\n",
        "    Parameters:\n",
        "    service (pyvo.dal.TAPService): A TAPService instance for querying the database.\n",
        "    targets (list of tuples): A list where each tuple contains (target_name, member_ous_uid).\n",
        "\n",
        "    Returns:\n",
        "    pandas.DataFrame: A DataFrame containing the results for all queried targets.\n",
        "    \"\"\"\n",
        "    results = []\n",
        "\n",
        "    for target_name, member_ous_uid in targets:\n",
        "        result = query_observations(service, member_ous_uid, target_name)\n",
        "        results.append(result)\n",
        "\n",
        "    # Concatenate all DataFrames into a single DataFrame\n",
        "    df = pd.concat(results, ignore_index=True)\n",
        "\n",
        "    return df\n",
        "\n",
        "# Predefined list of targets and their corresponding member OUS UIDs\n",
        "targets = [\n",
        "    (\"J0842+1218\", \"uid://A001/X2fb/X3ec\"),\n",
        "    (\"J0842+1218\", \"uid://A001/X885/X36b\"),\n",
        "    (\"J0842+1218\", \"uid://A001/X1590/X397\"),\n",
        "    (\"J0842+1218C1\", \"uid://A001/X1590/X1ef6\"),\n",
        "    (\"SDSS_J092303.53+024739.5\", \"uid://A001/X12e/X2e6\"),\n",
        "    (\"J1319+0950\", \"uid://A002/X391d0b/X1e\"),\n",
        "    (\"J1319+0950\", \"uid://A002/X7fb989/X18\"),\n",
        "    (\"J1319+0950\", \"uid://A001/X1465/X380c\"),\n",
        "    (\"J1319+0950C1\", \"uid://A001/X1590/X1f06\"),\n",
        "    (\"J1319+0950\", \"uid://A001/X2d20/X15d5\"),\n",
        "    (\"ULASJ1319+0950\", \"uid://A001/X3621/X4412\"),\n",
        "    (\"SDSS_J132853.66-022441.6\", \"uid://A001/X12e/X2ea\"),\n",
        "    (\"PJ065-26\", \"uid://A001/X2fb/X3e4\"),\n",
        "    (\"PJ065-26\", \"uid://A001/X1273/X36c\"),\n",
        "    (\"PJ065-26\", \"uid://A001/X1465/X3830\"),\n",
        "    (\"PSO_J167.6415-13.4960\", \"uid://A001/X2d6/X7d\"),\n",
        "    (\"PJ231-20\", \"uid://A001/X2fb/X440\"),\n",
        "    (\"PJ231-20\", \"uid://A001/X1465/X3810\"),\n",
        "    (\"PJ231-20\", \"uid://A001/X1590/X3a3\"),\n",
        "    (\"PJ231-20\", \"uid://A001/X15aa/X1f7\"),\n",
        "    (\"PJ231-20\", \"uid://A001/X2d1f/X82d\"),\n",
        "    (\"PJ231-20\", \"uid://A001/X2d1f/X829\"),\n",
        "    (\"PJ308-21\", \"uid://A001/X2fb/X418\"),\n",
        "    (\"PJ308-21\", \"uid://A001/X11a4/Xf\"),\n",
        "    (\"PJ308-21\", \"uid://A001/X1465/X382c\"),\n",
        "    (\"PJ308-21\", \"uid://A001/X1590/X38f\"),\n",
        "    (\"PJ308-21\", \"uid://A001/X2d20/X3b14\"),\n",
        "    (\"PJ308-21\", \"uid://A001/X2d20/X3b10\"),\n",
        "    (\"WMH5\", \"uid://A001/X121/X24b\"),\n",
        "    (\"WMH13\", \"uid://A001/X121/X24f\"),\n",
        "    (\"WMH_5\", \"uid://A001/X2d6/X5a\"),\n",
        "    (\"J1509-1749\", \"uid://A001/X2fb/X414\"),\n",
        "    (\"J1509-1749\", \"uid://A001/X1465/X3824\"),\n",
        "    (\"J1509-1749\", \"uid://A001/X1590/X11e2\"),\n",
        "    (\"J1509-1749\", \"uid://A001/X1590/X11c6\"),\n",
        "    (\"J1509-1749\", \"uid://A001/X1590/X11de\"),\n",
        "    (\"J1306+0356\", \"uid://A001/X2fb/X40c\"),\n",
        "    (\"J1306+0356\", \"uid://A001/X1273/X374\"),\n",
        "    (\"J1306+0356\", \"uid://A001/X1590/X39f\"),\n",
        "    (\"J1306+0356C1\", \"uid://A001/X1590/X1f02\")\n",
        "]\n"
      ]
    },
    {
      "cell_type": "code",
      "execution_count": 47,
      "metadata": {},
      "outputs": [],
      "source": [
        "# Create a TAPService instance (replace 'your_service_url' with the actual URL)\n",
        "service = pyvo.dal.TAPService(\"https://almascience.eso.org/tap\")\n",
        "\n",
        "# Query all targets and compile the results\n",
        "df = query_all_targets(service, targets)"
      ]
    },
    {
      "cell_type": "markdown",
      "metadata": {
        "id": "HjwBNRwvnLny"
      },
      "source": [
        "# **Variable Info**"
      ]
    },
    {
      "cell_type": "markdown",
      "metadata": {
        "id": "c9B8Rwr0VAdO"
      },
      "source": [
        "# **Cleaning Variable Names**"
      ]
    },
    {
      "cell_type": "code",
      "execution_count": 48,
      "metadata": {
        "id": "eiKOWr6OwbyQ"
      },
      "outputs": [],
      "source": [
        "df = df.drop_duplicates(subset='member_ous_uid')"
      ]
    },
    {
      "cell_type": "code",
      "execution_count": 49,
      "metadata": {
        "id": "4swm8_dn3RXH"
      },
      "outputs": [],
      "source": [
        "# Define a dictionary to map existing column names to new names with unit initials\n",
        "rename_columns = {\n",
        "    'target_name': 'ALMA_source_name',\n",
        "    'pwv': 'PWV',\n",
        "    'schedblock_name': 'SB_name',\n",
        "    'velocity_resolution': 'Vel.res',\n",
        "    'spatial_resolution': 'Ang.res',\n",
        "    's_ra': 'RA',\n",
        "    's_dec': 'Dec',\n",
        "    's_fov': 'FOV',\n",
        "    't_resolution': 'Int.Time',\n",
        "    't_max': 'Total.Time',\n",
        "    'cont_sensitivity_bandwidth': 'Cont_sens_mJybeam',\n",
        "    'sensitivity_10kms': 'Line_sens_10kms_mJybeam',\n",
        "    'obs_release_date': 'Obs.date'\n",
        "    \n",
        "}\n",
        "\n",
        "# Rename the columns in the DataFrame\n",
        "df.rename(columns=rename_columns, inplace=True)"
      ]
    },
    {
      "cell_type": "code",
      "execution_count": 50,
      "metadata": {},
      "outputs": [
        {
          "name": "stderr",
          "output_type": "stream",
          "text": [
            "/tmp/ipykernel_3731516/3578391840.py:2: SettingWithCopyWarning: \n",
            "A value is trying to be set on a copy of a slice from a DataFrame.\n",
            "Try using .loc[row_indexer,col_indexer] = value instead\n",
            "\n",
            "See the caveats in the documentation: https://pandas.pydata.org/pandas-docs/stable/user_guide/indexing.html#returning-a-view-versus-a-copy\n",
            "  database['Obs.date'] = database['Obs.date'].apply(lambda x: x.split('T')[0])\n"
          ]
        },
        {
          "ename": "OSError",
          "evalue": "Cannot save file into a non-existent directory: '/home/almasim/Documents/GitHub/ALMASim/metadata'",
          "output_type": "error",
          "traceback": [
            "\u001b[0;31m---------------------------------------------------------------------------\u001b[0m",
            "\u001b[0;31mOSError\u001b[0m                                   Traceback (most recent call last)",
            "Cell \u001b[0;32mIn[50], line 3\u001b[0m\n\u001b[1;32m      1\u001b[0m database \u001b[38;5;241m=\u001b[39m df[[\u001b[38;5;124m'\u001b[39m\u001b[38;5;124mALMA_source_name\u001b[39m\u001b[38;5;124m'\u001b[39m, \u001b[38;5;124m'\u001b[39m\u001b[38;5;124mPWV\u001b[39m\u001b[38;5;124m'\u001b[39m, \u001b[38;5;124m'\u001b[39m\u001b[38;5;124mSB_name\u001b[39m\u001b[38;5;124m'\u001b[39m, \u001b[38;5;124m'\u001b[39m\u001b[38;5;124mVel.res\u001b[39m\u001b[38;5;124m'\u001b[39m, \u001b[38;5;124m'\u001b[39m\u001b[38;5;124mAng.res\u001b[39m\u001b[38;5;124m'\u001b[39m, \u001b[38;5;124m'\u001b[39m\u001b[38;5;124mRA\u001b[39m\u001b[38;5;124m'\u001b[39m, \u001b[38;5;124m'\u001b[39m\u001b[38;5;124mDec\u001b[39m\u001b[38;5;124m'\u001b[39m, \u001b[38;5;124m'\u001b[39m\u001b[38;5;124mFOV\u001b[39m\u001b[38;5;124m'\u001b[39m, \u001b[38;5;124m'\u001b[39m\u001b[38;5;124mInt.Time\u001b[39m\u001b[38;5;124m'\u001b[39m, \u001b[38;5;124m'\u001b[39m\u001b[38;5;124mTotal.Time\u001b[39m\u001b[38;5;124m'\u001b[39m, \u001b[38;5;124m'\u001b[39m\u001b[38;5;124mCont_sens_mJybeam\u001b[39m\u001b[38;5;124m'\u001b[39m, \u001b[38;5;124m'\u001b[39m\u001b[38;5;124mLine_sens_10kms_mJybeam\u001b[39m\u001b[38;5;124m'\u001b[39m, \u001b[38;5;124m'\u001b[39m\u001b[38;5;124mObs.date\u001b[39m\u001b[38;5;124m'\u001b[39m]]\n\u001b[1;32m      2\u001b[0m database[\u001b[38;5;124m'\u001b[39m\u001b[38;5;124mObs.date\u001b[39m\u001b[38;5;124m'\u001b[39m] \u001b[38;5;241m=\u001b[39m database[\u001b[38;5;124m'\u001b[39m\u001b[38;5;124mObs.date\u001b[39m\u001b[38;5;124m'\u001b[39m]\u001b[38;5;241m.\u001b[39mapply(\u001b[38;5;28;01mlambda\u001b[39;00m x: x\u001b[38;5;241m.\u001b[39msplit(\u001b[38;5;124m'\u001b[39m\u001b[38;5;124mT\u001b[39m\u001b[38;5;124m'\u001b[39m)[\u001b[38;5;241m0\u001b[39m])\n\u001b[0;32m----> 3\u001b[0m \u001b[43mdatabase\u001b[49m\u001b[38;5;241;43m.\u001b[39;49m\u001b[43mto_csv\u001b[49m\u001b[43m(\u001b[49m\u001b[38;5;124;43m'\u001b[39;49m\u001b[38;5;124;43m/home/almasim/Documents/GitHub/ALMASim/metadata/QSO_metadata.csv\u001b[39;49m\u001b[38;5;124;43m'\u001b[39;49m\u001b[43m,\u001b[49m\u001b[43m \u001b[49m\u001b[43mindex\u001b[49m\u001b[38;5;241;43m=\u001b[39;49m\u001b[38;5;28;43;01mFalse\u001b[39;49;00m\u001b[43m)\u001b[49m\n",
            "File \u001b[0;32m~/almasim/lib/python3.8/site-packages/pandas/core/generic.py:3772\u001b[0m, in \u001b[0;36mNDFrame.to_csv\u001b[0;34m(self, path_or_buf, sep, na_rep, float_format, columns, header, index, index_label, mode, encoding, compression, quoting, quotechar, lineterminator, chunksize, date_format, doublequote, escapechar, decimal, errors, storage_options)\u001b[0m\n\u001b[1;32m   3761\u001b[0m df \u001b[38;5;241m=\u001b[39m \u001b[38;5;28mself\u001b[39m \u001b[38;5;28;01mif\u001b[39;00m \u001b[38;5;28misinstance\u001b[39m(\u001b[38;5;28mself\u001b[39m, ABCDataFrame) \u001b[38;5;28;01melse\u001b[39;00m \u001b[38;5;28mself\u001b[39m\u001b[38;5;241m.\u001b[39mto_frame()\n\u001b[1;32m   3763\u001b[0m formatter \u001b[38;5;241m=\u001b[39m DataFrameFormatter(\n\u001b[1;32m   3764\u001b[0m     frame\u001b[38;5;241m=\u001b[39mdf,\n\u001b[1;32m   3765\u001b[0m     header\u001b[38;5;241m=\u001b[39mheader,\n\u001b[0;32m   (...)\u001b[0m\n\u001b[1;32m   3769\u001b[0m     decimal\u001b[38;5;241m=\u001b[39mdecimal,\n\u001b[1;32m   3770\u001b[0m )\n\u001b[0;32m-> 3772\u001b[0m \u001b[38;5;28;01mreturn\u001b[39;00m \u001b[43mDataFrameRenderer\u001b[49m\u001b[43m(\u001b[49m\u001b[43mformatter\u001b[49m\u001b[43m)\u001b[49m\u001b[38;5;241;43m.\u001b[39;49m\u001b[43mto_csv\u001b[49m\u001b[43m(\u001b[49m\n\u001b[1;32m   3773\u001b[0m \u001b[43m    \u001b[49m\u001b[43mpath_or_buf\u001b[49m\u001b[43m,\u001b[49m\n\u001b[1;32m   3774\u001b[0m \u001b[43m    \u001b[49m\u001b[43mlineterminator\u001b[49m\u001b[38;5;241;43m=\u001b[39;49m\u001b[43mlineterminator\u001b[49m\u001b[43m,\u001b[49m\n\u001b[1;32m   3775\u001b[0m \u001b[43m    \u001b[49m\u001b[43msep\u001b[49m\u001b[38;5;241;43m=\u001b[39;49m\u001b[43msep\u001b[49m\u001b[43m,\u001b[49m\n\u001b[1;32m   3776\u001b[0m \u001b[43m    \u001b[49m\u001b[43mencoding\u001b[49m\u001b[38;5;241;43m=\u001b[39;49m\u001b[43mencoding\u001b[49m\u001b[43m,\u001b[49m\n\u001b[1;32m   3777\u001b[0m \u001b[43m    \u001b[49m\u001b[43merrors\u001b[49m\u001b[38;5;241;43m=\u001b[39;49m\u001b[43merrors\u001b[49m\u001b[43m,\u001b[49m\n\u001b[1;32m   3778\u001b[0m \u001b[43m    \u001b[49m\u001b[43mcompression\u001b[49m\u001b[38;5;241;43m=\u001b[39;49m\u001b[43mcompression\u001b[49m\u001b[43m,\u001b[49m\n\u001b[1;32m   3779\u001b[0m \u001b[43m    \u001b[49m\u001b[43mquoting\u001b[49m\u001b[38;5;241;43m=\u001b[39;49m\u001b[43mquoting\u001b[49m\u001b[43m,\u001b[49m\n\u001b[1;32m   3780\u001b[0m \u001b[43m    \u001b[49m\u001b[43mcolumns\u001b[49m\u001b[38;5;241;43m=\u001b[39;49m\u001b[43mcolumns\u001b[49m\u001b[43m,\u001b[49m\n\u001b[1;32m   3781\u001b[0m \u001b[43m    \u001b[49m\u001b[43mindex_label\u001b[49m\u001b[38;5;241;43m=\u001b[39;49m\u001b[43mindex_label\u001b[49m\u001b[43m,\u001b[49m\n\u001b[1;32m   3782\u001b[0m \u001b[43m    \u001b[49m\u001b[43mmode\u001b[49m\u001b[38;5;241;43m=\u001b[39;49m\u001b[43mmode\u001b[49m\u001b[43m,\u001b[49m\n\u001b[1;32m   3783\u001b[0m \u001b[43m    \u001b[49m\u001b[43mchunksize\u001b[49m\u001b[38;5;241;43m=\u001b[39;49m\u001b[43mchunksize\u001b[49m\u001b[43m,\u001b[49m\n\u001b[1;32m   3784\u001b[0m \u001b[43m    \u001b[49m\u001b[43mquotechar\u001b[49m\u001b[38;5;241;43m=\u001b[39;49m\u001b[43mquotechar\u001b[49m\u001b[43m,\u001b[49m\n\u001b[1;32m   3785\u001b[0m \u001b[43m    \u001b[49m\u001b[43mdate_format\u001b[49m\u001b[38;5;241;43m=\u001b[39;49m\u001b[43mdate_format\u001b[49m\u001b[43m,\u001b[49m\n\u001b[1;32m   3786\u001b[0m \u001b[43m    \u001b[49m\u001b[43mdoublequote\u001b[49m\u001b[38;5;241;43m=\u001b[39;49m\u001b[43mdoublequote\u001b[49m\u001b[43m,\u001b[49m\n\u001b[1;32m   3787\u001b[0m \u001b[43m    \u001b[49m\u001b[43mescapechar\u001b[49m\u001b[38;5;241;43m=\u001b[39;49m\u001b[43mescapechar\u001b[49m\u001b[43m,\u001b[49m\n\u001b[1;32m   3788\u001b[0m \u001b[43m    \u001b[49m\u001b[43mstorage_options\u001b[49m\u001b[38;5;241;43m=\u001b[39;49m\u001b[43mstorage_options\u001b[49m\u001b[43m,\u001b[49m\n\u001b[1;32m   3789\u001b[0m \u001b[43m\u001b[49m\u001b[43m)\u001b[49m\n",
            "File \u001b[0;32m~/almasim/lib/python3.8/site-packages/pandas/io/formats/format.py:1186\u001b[0m, in \u001b[0;36mDataFrameRenderer.to_csv\u001b[0;34m(self, path_or_buf, encoding, sep, columns, index_label, mode, compression, quoting, quotechar, lineterminator, chunksize, date_format, doublequote, escapechar, errors, storage_options)\u001b[0m\n\u001b[1;32m   1165\u001b[0m     created_buffer \u001b[38;5;241m=\u001b[39m \u001b[38;5;28;01mFalse\u001b[39;00m\n\u001b[1;32m   1167\u001b[0m csv_formatter \u001b[38;5;241m=\u001b[39m CSVFormatter(\n\u001b[1;32m   1168\u001b[0m     path_or_buf\u001b[38;5;241m=\u001b[39mpath_or_buf,\n\u001b[1;32m   1169\u001b[0m     lineterminator\u001b[38;5;241m=\u001b[39mlineterminator,\n\u001b[0;32m   (...)\u001b[0m\n\u001b[1;32m   1184\u001b[0m     formatter\u001b[38;5;241m=\u001b[39m\u001b[38;5;28mself\u001b[39m\u001b[38;5;241m.\u001b[39mfmt,\n\u001b[1;32m   1185\u001b[0m )\n\u001b[0;32m-> 1186\u001b[0m \u001b[43mcsv_formatter\u001b[49m\u001b[38;5;241;43m.\u001b[39;49m\u001b[43msave\u001b[49m\u001b[43m(\u001b[49m\u001b[43m)\u001b[49m\n\u001b[1;32m   1188\u001b[0m \u001b[38;5;28;01mif\u001b[39;00m created_buffer:\n\u001b[1;32m   1189\u001b[0m     \u001b[38;5;28;01massert\u001b[39;00m \u001b[38;5;28misinstance\u001b[39m(path_or_buf, StringIO)\n",
            "File \u001b[0;32m~/almasim/lib/python3.8/site-packages/pandas/io/formats/csvs.py:240\u001b[0m, in \u001b[0;36mCSVFormatter.save\u001b[0;34m(self)\u001b[0m\n\u001b[1;32m    236\u001b[0m \u001b[38;5;250m\u001b[39m\u001b[38;5;124;03m\"\"\"\u001b[39;00m\n\u001b[1;32m    237\u001b[0m \u001b[38;5;124;03mCreate the writer & save.\u001b[39;00m\n\u001b[1;32m    238\u001b[0m \u001b[38;5;124;03m\"\"\"\u001b[39;00m\n\u001b[1;32m    239\u001b[0m \u001b[38;5;66;03m# apply compression and byte/text conversion\u001b[39;00m\n\u001b[0;32m--> 240\u001b[0m \u001b[38;5;28;01mwith\u001b[39;00m \u001b[43mget_handle\u001b[49m\u001b[43m(\u001b[49m\n\u001b[1;32m    241\u001b[0m \u001b[43m    \u001b[49m\u001b[38;5;28;43mself\u001b[39;49m\u001b[38;5;241;43m.\u001b[39;49m\u001b[43mfilepath_or_buffer\u001b[49m\u001b[43m,\u001b[49m\n\u001b[1;32m    242\u001b[0m \u001b[43m    \u001b[49m\u001b[38;5;28;43mself\u001b[39;49m\u001b[38;5;241;43m.\u001b[39;49m\u001b[43mmode\u001b[49m\u001b[43m,\u001b[49m\n\u001b[1;32m    243\u001b[0m \u001b[43m    \u001b[49m\u001b[43mencoding\u001b[49m\u001b[38;5;241;43m=\u001b[39;49m\u001b[38;5;28;43mself\u001b[39;49m\u001b[38;5;241;43m.\u001b[39;49m\u001b[43mencoding\u001b[49m\u001b[43m,\u001b[49m\n\u001b[1;32m    244\u001b[0m \u001b[43m    \u001b[49m\u001b[43merrors\u001b[49m\u001b[38;5;241;43m=\u001b[39;49m\u001b[38;5;28;43mself\u001b[39;49m\u001b[38;5;241;43m.\u001b[39;49m\u001b[43merrors\u001b[49m\u001b[43m,\u001b[49m\n\u001b[1;32m    245\u001b[0m \u001b[43m    \u001b[49m\u001b[43mcompression\u001b[49m\u001b[38;5;241;43m=\u001b[39;49m\u001b[38;5;28;43mself\u001b[39;49m\u001b[38;5;241;43m.\u001b[39;49m\u001b[43mcompression\u001b[49m\u001b[43m,\u001b[49m\n\u001b[1;32m    246\u001b[0m \u001b[43m    \u001b[49m\u001b[43mstorage_options\u001b[49m\u001b[38;5;241;43m=\u001b[39;49m\u001b[38;5;28;43mself\u001b[39;49m\u001b[38;5;241;43m.\u001b[39;49m\u001b[43mstorage_options\u001b[49m\u001b[43m,\u001b[49m\n\u001b[1;32m    247\u001b[0m \u001b[43m\u001b[49m\u001b[43m)\u001b[49m \u001b[38;5;28;01mas\u001b[39;00m handles:\n\u001b[1;32m    248\u001b[0m     \u001b[38;5;66;03m# Note: self.encoding is irrelevant here\u001b[39;00m\n\u001b[1;32m    249\u001b[0m     \u001b[38;5;28mself\u001b[39m\u001b[38;5;241m.\u001b[39mwriter \u001b[38;5;241m=\u001b[39m csvlib\u001b[38;5;241m.\u001b[39mwriter(\n\u001b[1;32m    250\u001b[0m         handles\u001b[38;5;241m.\u001b[39mhandle,\n\u001b[1;32m    251\u001b[0m         lineterminator\u001b[38;5;241m=\u001b[39m\u001b[38;5;28mself\u001b[39m\u001b[38;5;241m.\u001b[39mlineterminator,\n\u001b[0;32m   (...)\u001b[0m\n\u001b[1;32m    256\u001b[0m         quotechar\u001b[38;5;241m=\u001b[39m\u001b[38;5;28mself\u001b[39m\u001b[38;5;241m.\u001b[39mquotechar,\n\u001b[1;32m    257\u001b[0m     )\n\u001b[1;32m    259\u001b[0m     \u001b[38;5;28mself\u001b[39m\u001b[38;5;241m.\u001b[39m_save()\n",
            "File \u001b[0;32m~/almasim/lib/python3.8/site-packages/pandas/io/common.py:737\u001b[0m, in \u001b[0;36mget_handle\u001b[0;34m(path_or_buf, mode, encoding, compression, memory_map, is_text, errors, storage_options)\u001b[0m\n\u001b[1;32m    735\u001b[0m \u001b[38;5;66;03m# Only for write methods\u001b[39;00m\n\u001b[1;32m    736\u001b[0m \u001b[38;5;28;01mif\u001b[39;00m \u001b[38;5;124m\"\u001b[39m\u001b[38;5;124mr\u001b[39m\u001b[38;5;124m\"\u001b[39m \u001b[38;5;129;01mnot\u001b[39;00m \u001b[38;5;129;01min\u001b[39;00m mode \u001b[38;5;129;01mand\u001b[39;00m is_path:\n\u001b[0;32m--> 737\u001b[0m     \u001b[43mcheck_parent_directory\u001b[49m\u001b[43m(\u001b[49m\u001b[38;5;28;43mstr\u001b[39;49m\u001b[43m(\u001b[49m\u001b[43mhandle\u001b[49m\u001b[43m)\u001b[49m\u001b[43m)\u001b[49m\n\u001b[1;32m    739\u001b[0m \u001b[38;5;28;01mif\u001b[39;00m compression:\n\u001b[1;32m    740\u001b[0m     \u001b[38;5;28;01mif\u001b[39;00m compression \u001b[38;5;241m!=\u001b[39m \u001b[38;5;124m\"\u001b[39m\u001b[38;5;124mzstd\u001b[39m\u001b[38;5;124m\"\u001b[39m:\n\u001b[1;32m    741\u001b[0m         \u001b[38;5;66;03m# compression libraries do not like an explicit text-mode\u001b[39;00m\n",
            "File \u001b[0;32m~/almasim/lib/python3.8/site-packages/pandas/io/common.py:600\u001b[0m, in \u001b[0;36mcheck_parent_directory\u001b[0;34m(path)\u001b[0m\n\u001b[1;32m    598\u001b[0m parent \u001b[38;5;241m=\u001b[39m Path(path)\u001b[38;5;241m.\u001b[39mparent\n\u001b[1;32m    599\u001b[0m \u001b[38;5;28;01mif\u001b[39;00m \u001b[38;5;129;01mnot\u001b[39;00m parent\u001b[38;5;241m.\u001b[39mis_dir():\n\u001b[0;32m--> 600\u001b[0m     \u001b[38;5;28;01mraise\u001b[39;00m \u001b[38;5;167;01mOSError\u001b[39;00m(\u001b[38;5;124mrf\u001b[39m\u001b[38;5;124m\"\u001b[39m\u001b[38;5;124mCannot save file into a non-existent directory: \u001b[39m\u001b[38;5;124m'\u001b[39m\u001b[38;5;132;01m{\u001b[39;00mparent\u001b[38;5;132;01m}\u001b[39;00m\u001b[38;5;124m'\u001b[39m\u001b[38;5;124m\"\u001b[39m)\n",
            "\u001b[0;31mOSError\u001b[0m: Cannot save file into a non-existent directory: '/home/almasim/Documents/GitHub/ALMASim/metadata'"
          ]
        }
      ],
      "source": [
        "database = df[['ALMA_source_name', 'PWV', 'SB_name', 'Vel.res', 'Ang.res', 'RA', 'Dec', 'FOV', 'Int.Time', 'Total.Time', 'Cont_sens_mJybeam', 'Line_sens_10kms_mJybeam', 'Obs.date']]\n",
        "database['Obs.date'] = database['Obs.date'].apply(lambda x: x.split('T')[0])\n"
      ]
    },
    {
      "cell_type": "code",
      "execution_count": 51,
      "metadata": {},
      "outputs": [],
      "source": [
        "database.to_csv('/home/astro/Documents/GitHub/ALMASim/metadata/QSO_metadata.csv', index=False)"
      ]
    },
    {
      "cell_type": "code",
      "execution_count": 41,
      "metadata": {},
      "outputs": [
        {
          "data": {
            "text/plain": [
              "'2017-03-14'"
            ]
          },
          "execution_count": 41,
          "metadata": {},
          "output_type": "execute_result"
        }
      ],
      "source": [
        "dates = database['Obs.date'].values\n",
        "date = dates[0]\n",
        "check = date.split('T')[0]\n",
        "check"
      ]
    }
  ],
  "metadata": {
    "colab": {
      "provenance": []
    },
    "kernelspec": {
      "display_name": "Python 3",
      "name": "python3"
    },
    "language_info": {
      "codemirror_mode": {
        "name": "ipython",
        "version": 3
      },
      "file_extension": ".py",
      "mimetype": "text/x-python",
      "name": "python",
      "nbconvert_exporter": "python",
      "pygments_lexer": "ipython3",
      "version": "3.8.18"
    }
  },
  "nbformat": 4,
  "nbformat_minor": 0
}
