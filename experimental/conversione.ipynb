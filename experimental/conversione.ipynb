{
 "cells": [
  {
   "cell_type": "code",
   "execution_count": 3,
   "metadata": {},
   "outputs": [],
   "source": [
    "import pandas as pd\n",
    "from astropy import units as u\n",
    "\n",
    "df = pd.read_csv(\"C:\\\\Users\\\\lsann\\\\OneDrive - Università di Napoli Federico II\\\\Documents\\\\GitHub\\\\ALMASim\\\\brightnes\\\\calibrations_FIR.csv\", sep=';')\n",
    "df = df.rename(columns={'lambda':'freq(GHz)'})\n",
    "df['freq(GHz)']= df['freq(GHz)'].apply(lambda x: (x* u.um).to(u.GHz, equivalencies=u.spectral()).value)\n",
    "df.to_csv(path_or_buf=\"C:\\\\Users\\\\lsann\\\\OneDrive - Università di Napoli Federico II\\\\Documents\\\\GitHub\\\\ALMASim\\\\brightnes\\\\calibrations_FIR(GHz).csv\", index=False, sep=\";\")"
   ]
  }
 ],
 "metadata": {
  "kernelspec": {
   "display_name": "base",
   "language": "python",
   "name": "python3"
  },
  "language_info": {
   "codemirror_mode": {
    "name": "ipython",
    "version": 3
   },
   "file_extension": ".py",
   "mimetype": "text/x-python",
   "name": "python",
   "nbconvert_exporter": "python",
   "pygments_lexer": "ipython3",
   "version": "3.11.7"
  }
 },
 "nbformat": 4,
 "nbformat_minor": 2
}
