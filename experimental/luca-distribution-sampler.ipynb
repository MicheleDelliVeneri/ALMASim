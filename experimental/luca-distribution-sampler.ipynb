{
 "cells": [
  {
   "cell_type": "code",
   "execution_count": 5,
   "metadata": {},
   "outputs": [],
   "source": [
    "import pandas as pd\n",
    "import numpy as np\n",
    "import matplotlib.pyplot as plt\n",
    "from scipy.stats import t\n",
    "from scipy.optimize import curve_fit\n",
    "import matplotlib.pyplot as plt"
   ]
  },
  {
   "cell_type": "code",
   "execution_count": 33,
   "metadata": {},
   "outputs": [],
   "source": [
    "def luminosity_to_jy(velocity, data, rest_frequency: float = 115.27):\n",
    "        \"\"\"\n",
    "        This function takes as input a pandas db containing luminosities in K km s-1 pc2, redshifts, and luminosity distances in Mpc, \n",
    "        and returns the brightness values in Jy.\n",
    "        \n",
    "        Parameters:\n",
    "        velocity (float): The velocity dispersion assumed for the line (Km s-1).\n",
    "        data (pandas.DataFrame): A pandas DataFrame containing the data.\n",
    "        rest_frequency (float): The rest frequency of the line in GHz. Defaults to 115.27 GHz for CO(1-0).\n",
    "\n",
    "        Output:\n",
    "        sigma: numpy.ndarray: An array of brightness values in Jy.\n",
    "\n",
    "        \"\"\"\n",
    "        alpha = 3.255 * 10**7\n",
    "        sigma = (data['Luminosity(K km s-1 pc2)'] * ( (1 + data['#redshift']) * rest_frequency **2)) / (alpha * velocity * (data['luminosity distance(Mpc)']**2))\n",
    "        redshift = data['#redshift'].values\n",
    "        return sigma\n",
    "\n",
    "def exponential_func(x, a, b):\n",
    "        \"\"\"\n",
    "        Exponential function used to fit the data.\n",
    "        \"\"\"\n",
    "        return a * np.exp(-b * x)\n",
    "# Define a function to fit the PDF with a polynomial\n",
    "def fit_func(x, *coeffs):\n",
    "    return np.polynomial.polynomial.polyval(x, coeffs)\n",
    "\n",
    "\n",
    "\n",
    "\n",
    "def sample_from_brightness(n, velocity, rest_frequency, data_path):\n",
    "    \"\"\"\n",
    "    Generates n samples of brightness values based on an exponential fit to the data.\n",
    "    \n",
    "    Parameters:\n",
    "    n (int): Number of samples to generate.\n",
    "    velocity (float): The velocity dispersion assumed for the line.\n",
    "    data_path (str): Path to the CSV file containing the data.\n",
    "    \n",
    "    Returns:\n",
    "    pd.DataFrame: A DataFrame containing the sampled brightness values and corresponding redshifts.\n",
    "    \"\"\"\n",
    "    # Read the data from the CSV file\n",
    "    data = pd.read_csv(data_path, sep='\\t')\n",
    "    # Calculate the brightness values (sigma) using the provided velocity\n",
    "    sigma = luminosity_to_jy(velocity, data, rest_frequency)\n",
    "    # Extract the redshift values from the data\n",
    "    redshift = data['#redshift'].values\n",
    "    # Generate evenly spaced redshifts for sampling\n",
    "    np.random.seed(42)\n",
    "    sampled_redshifts = np.linspace(min(redshift), max(redshift), n)\n",
    "    # Fit an exponential curve to the data\n",
    "    popt, pcov = curve_fit(exponential_func, redshift, sigma, )\n",
    "    # Use the fitted parameters to calculate the sampled brightness values\n",
    "    sampled_sigma = exponential_func(sampled_redshifts, *popt) + np.min(sigma)\n",
    "    print(np.mean(sigma), np.min(sigma), np.max(sigma))\n",
    "    plt.scatter(redshift, sigma, label='Data')\n",
    "    plt.scatter(sampled_redshifts, sampled_sigma, label='Polinomial Fit')\n",
    "    plt.xlabel('Redshift')\n",
    "    plt.ylabel('Brightness (Jy)')\n",
    "    plt.legend()\n",
    "    plt.show()\n",
    "    # Return the sampled brightness values and the corresponding redshifts\n",
    "    return pd.DataFrame(zip(sampled_redshifts, sampled_sigma), columns=['Redshift', 'Brightness(Jy)'])\n"
   ]
  },
  {
   "cell_type": "code",
   "execution_count": 34,
   "metadata": {},
   "outputs": [
    {
     "name": "stdout",
     "output_type": "stream",
     "text": [
      "0.0055827030585398054 0.00026689310605380087 0.055181843228202326\n"
     ]
    },
    {
     "data": {
      "image/png": "[encoded data removed]",
      "text/plain": [
       "<Figure size 640x480 with 1 Axes>"
      ]
     },
     "metadata": {},
     "output_type": "display_data"
    },
    {
     "name": "stdout",
     "output_type": "stream",
     "text": [
      "[0.04744734 0.0004602  0.00026769 0.0002669  0.00026689 0.00026689\n",
      " 0.00026689 0.00026689 0.00026689 0.00026689]\n"
     ]
    }
   ],
   "source": [
    "\n",
    "\n",
    "db = sample_from_brightness(10, 200, 115.27, '/home/astro/Documents/GitHub/ALMASim/brightnes/CO10.dat')\n",
    "brightness = db['Brightness(Jy)'].values\n",
    "print(brightness)\n",
    "\n",
    "\n",
    "#plt.scatter(data['#redshift'], data['Sigma(Jy)'], s=1)\n",
    "#plt.show()"
   ]
  },
  {
   "cell_type": "code",
   "execution_count": null,
   "metadata": {},
   "outputs": [],
   "source": [
    "\n",
    "\n",
    "\n",
    "def sample_extration(n, brightness_path=None, velocity=200):\n",
    "    data = pd.read_csv(brightness_path, sep='\\t')\n",
    "    intensity = luminosity_to_jy(velocity, data)\n",
    "    redshift = data['#redshift']\n",
    "    \n",
    "        \n",
    "    \n",
    "\n",
    "N=15\n",
    "file_path_dat='C:\\\\Users\\\\lsann\\\\Desktop\\\\Tesi Magistrale\\\\Visual Studio\\\\CO10_luminosityFunction.dat'\n",
    "sample = sample_extration(N,file_path_dat)\n",
    "print('The extracted brightnesses sample is:\\n')\n",
    "print(sample)"
   ]
  }
 ],
 "metadata": {
  "kernelspec": {
   "display_name": "almasim",
   "language": "python",
   "name": "python3"
  },
  "language_info": {
   "codemirror_mode": {
    "name": "ipython",
    "version": 3
   },
   "file_extension": ".py",
   "mimetype": "text/x-python",
   "name": "python",
   "nbconvert_exporter": "python",
   "pygments_lexer": "ipython3",
   "version": "3.8.18"
  }
 },
 "nbformat": 4,
 "nbformat_minor": 2
}
