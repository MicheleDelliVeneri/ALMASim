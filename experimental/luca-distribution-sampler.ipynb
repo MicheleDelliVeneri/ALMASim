{
 "cells": [
  {
   "cell_type": "code",
   "execution_count": null,
   "metadata": {},
   "outputs": [],
   "source": [
    "import pandas as pd\n",
    "import numpy as np\n",
    "import matplotlib.pyplot as plt\n",
    "from scipy.stats import t\n",
    "from scipy.optimize import curve_fit"
   ]
  },
  {
   "cell_type": "code",
   "execution_count": null,
   "metadata": {},
   "outputs": [],
   "source": [
    "def luminosity_to_jy(velocity, data):\n",
    "        return ((3.255*10**7)*data['Luminosity(K km s-1 pc2)']* velocity *(data['luminosity distance(Mpc)']**2))/((240**2)*(1+data['#redshift'])**3)\n",
    "\n"
   ]
  },
  {
   "cell_type": "code",
   "execution_count": null,
   "metadata": {},
   "outputs": [],
   "source": [
    "data = pd.read_csv('/home/astro/Documents/GitHub/ALMASim/brightnes/CO10_luminosityFunction.dat', sep='\\t')\n",
    "data.info()\n",
    "intensity = luminosity_to_jy(200, data)\n",
    "import matplotlib.pyplot as plt\n",
    "plt.scatter(data['#redshift'], data['Sigma(Jy)'], s=1)\n",
    "plt.show()"
   ]
  },
  {
   "cell_type": "code",
   "execution_count": null,
   "metadata": {},
   "outputs": [],
   "source": [
    "\n",
    "\n",
    "\n",
    "def sample_extration(N,File_path_dat=None):\n",
    "    data=pd.read_csv(File_path_dat, sep='\\t')\n",
    "    x=np.linspace(min(data['#redshift']),max(data['#redshift']),67)\n",
    "\n",
    "    def true_distr(v,lum,lum_dist,z):\n",
    "        return ((3.255*10**7)*lum*v*(lum_dist**2))/((240**2)*(1+z)**3)\n",
    "\n",
    "    def try_distr(x):\n",
    "        return 25 * np.exp(-((x - 2) ** 2) / 8)\n",
    "\n",
    "    if File_path_dat:\n",
    "        distr = true_distr\n",
    "        v=200\n",
    "        pred_val=distr(v,data['Luminosity(K km s-1 pc2)'],data['luminosity distance(Mpc)'],data['#redshift'])\n",
    "        bright=data['Luminosity(K km s-1 pc2)']\n",
    "        z=data['#redshift']\n",
    "        res=pred_val-bright\n",
    "\n",
    "        sorted_index =np.argsort(np.abs(res))\n",
    "        sorted_bright_data = bright[sorted_index] \n",
    "        sorted_z=z[sorted_index]\n",
    "        sample = pd.DataFrame({'z': sorted_z[:N],'Brightness': sorted_bright_data[:N]})\n",
    "        plt.plot(x,distr(v,data['Luminosity(K km s-1 pc2)'],data['luminosity distance(Mpc)'],data['#redshift']),'g--',label='FIT')\n",
    "        plt.scatter(data['#redshift'],data['Luminosity(K km s-1 pc2)'],color='red',label='DATA')\n",
    "        plt.scatter(sample['z'],sample['Brightness'],marker='x',label='SubSample')\n",
    "        plt.title('Brightness distribution')\n",
    "        plt.xlabel('Redshift')\n",
    "        plt.ylabel('Brightness')\n",
    "        plt.legend()\n",
    "        plt.show()\n",
    "\n",
    "    else:\n",
    "        distr = try_distr\n",
    "        bright= distr(x)\n",
    "        params, cov = curve_fit(try_distr,x,bright)\n",
    "        pred_val=(x,*params)\n",
    "        res= bright-pred_val\n",
    "\n",
    "        sorted_index =np.argsort(np.abs(res))\n",
    "        sorted_bright_data = bright[sorted_index] \n",
    "        sorted_z = x[sorted_index]\n",
    "        sample = pd.DataFrame({'z': sorted_z[:N],'Brightness': sorted_bright_data[:N]})\n",
    "        plt.plot(x,distr(x),'g--',label='FIT')\n",
    "        plt.scatter(x,bright,color='red',label='DATA')\n",
    "        plt.scatter(sample['z'],sample['Brightness'],marker='x',label='SubSample')\n",
    "        plt.title('Brightness distribution')\n",
    "        plt.xlabel('Redshift')\n",
    "        plt.ylabel('Brightness')\n",
    "        plt.legend()\n",
    "        plt.show()\n",
    "\n",
    "    return sample\n",
    "\n",
    "N=15\n",
    "file_path_dat='C:\\\\Users\\\\lsann\\\\Desktop\\\\Tesi Magistrale\\\\Visual Studio\\\\CO10_luminosityFunction.dat'\n",
    "sample = sample_extration(N,file_path_dat)\n",
    "print('The extracted brightnesses sample is:\\n')\n",
    "print(sample)"
   ]
  }
 ],
 "metadata": {
  "kernelspec": {
   "display_name": "almasim",
   "language": "python",
   "name": "python3"
  },
  "language_info": {
   "codemirror_mode": {
    "name": "ipython",
    "version": 3
   },
   "file_extension": ".py",
   "mimetype": "text/x-python",
   "name": "python",
   "nbconvert_exporter": "python",
   "pygments_lexer": "ipython3",
   "version": "3.8.18"
  }
 },
 "nbformat": 4,
 "nbformat_minor": 2
}
