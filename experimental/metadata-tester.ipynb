{
 "cells": [
  {
   "cell_type": "code",
   "execution_count": 1,
   "metadata": {},
   "outputs": [
    {
     "name": "stdout",
     "output_type": "stream",
     "text": [
      "Current working directory: /home/astro/Documents/GitHub/ALMASim/experimental\n",
      "Path to the parent directory: /home/astro/Documents/GitHub/ALMASim/experimental/..\n"
     ]
    }
   ],
   "source": [
    "import sys\n",
    "import os\n",
    "import pandas as pd\n",
    "current_path = os.getcwd()\n",
    "parent_dir = os.path.join(current_path, \"..\")\n",
    "print(\"Current working directory:\", current_path)\n",
    "print(\"Path to the parent directory:\",parent_dir)\n",
    "sys.path.append(parent_dir)\n",
    "import utility.alma as ual"
   ]
  },
  {
   "cell_type": "code",
   "execution_count": 2,
   "metadata": {},
   "outputs": [],
   "source": [
    "service_url = \"https://almascience.eso.org/tap\"\n",
    "service = ual.pyvo.dal.TAPService(service_url)\n",
    "science_keywords, scientific_categories = ual.get_science_types(service)"
   ]
  },
  {
   "cell_type": "code",
   "execution_count": 3,
   "metadata": {},
   "outputs": [
    {
     "name": "stdout",
     "output_type": "stream",
     "text": [
      "Available science keywords:\n",
      "0: Active Galactic Nuclei (AGN)/Quasars (QSO)\n",
      "1: Astrochemistry\n",
      "2: Asymptotic Giant Branch (AGB) stars\n",
      "3: Black holes\n",
      "4: Brown dwarfs\n",
      "5: Cataclysmic stars\n",
      "6: Cosmic Microwave Background (CMB)/Sunyaev-Zel'dovich Effect (SZE)\n",
      "7: Damped Lyman Alpha (DLA) systems\n",
      "8: Debris disks\n",
      "9: Disks around high-mass stars\n",
      "10: Disks around low-mass stars\n",
      "11: Dwarf/metal-poor galaxies\n",
      "12: Early-type galaxies\n",
      "13: Evolved stars - Chemistry\n",
      "14: Evolved stars - Shaping/physical structure\n",
      "15: Exoplanets\n",
      "16: Galactic centres/nuclei\n",
      "17: Galaxy Clusters\n",
      "18: Galaxy chemistry\n",
      "19: Galaxy groups and clusters\n",
      "20: Galaxy structure & evolution\n",
      "21: Gamma Ray Bursts (GRB)\n",
      "22: Giant Molecular Clouds (GMC) properties\n",
      "23: Gravitational lenses\n",
      "24: HII regions\n",
      "25: High-mass star formation\n",
      "26: High-z Active Galactic Nuclei (AGN)\n",
      "27: Hypergiants\n",
      "28: Infra-Red Dark Clouds (IRDC)\n",
      "29: Inter-Stellar Medium (ISM)/Molecular clouds\n",
      "30: Intermediate-mass star formation\n",
      "31: Low-mass star formation\n",
      "32: Luminous Blue Variables (LBV)\n",
      "33: Luminous and Ultra-Luminous Infra-Red Galaxies (LIRG & ULIRG)\n",
      "34: Lyman Alpha Emitters/Blobs (LAE/LAB)\n",
      "35: Lyman Break Galaxies (LBG)\n",
      "36: Magellanic Clouds\n",
      "37: Main sequence stars\n",
      "38: Merging and interacting galaxies\n",
      "39: Outflows\n",
      "40: Photon-Dominated Regions (PDR)/X-Ray Dominated Regions (XDR)\n",
      "41: Post-AGB stars\n",
      "42: Pre-stellar cores\n",
      "43: Pulsars and neutron stars\n",
      "44: Solar system - Asteroids\n",
      "45: Solar system - Comets\n",
      "46: Solar system - Planetary atmospheres\n",
      "47: Solar system - Planetary surfaces\n",
      "48: Solar system - Trans-Neptunian Objects (TNOs)\n",
      "49: Spiral galaxies\n",
      "50: Starburst galaxies\n",
      "51: Starbursts\n",
      "52: Sub-mm Galaxies (SMG)\n",
      "53: Supernovae (SN) ejecta\n",
      "54: Surveys of galaxies\n",
      "55: The Sun\n",
      "56: Transients\n",
      "57: White dwarfs\n",
      "58: feedback\n",
      "59: jets\n",
      "60: jets and ionized winds\n",
      "61: star formation\n"
     ]
    }
   ],
   "source": [
    "print('Available science keywords:')\n",
    "for i in range(len(science_keywords)):\n",
    "    print(f'{i}: {science_keywords[i]}')"
   ]
  }
 ],
 "metadata": {
  "kernelspec": {
   "display_name": "simulation",
   "language": "python",
   "name": "python3"
  },
  "language_info": {
   "codemirror_mode": {
    "name": "ipython",
    "version": 3
   },
   "file_extension": ".py",
   "mimetype": "text/x-python",
   "name": "python",
   "nbconvert_exporter": "python",
   "pygments_lexer": "ipython3",
   "version": "3.8.18"
  }
 },
 "nbformat": 4,
 "nbformat_minor": 2
}
