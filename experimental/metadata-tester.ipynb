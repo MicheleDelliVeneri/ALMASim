{
 "cells": [
  {
   "cell_type": "code",
   "execution_count": 93,
   "metadata": {},
   "outputs": [
    {
     "name": "stdout",
     "output_type": "stream",
     "text": [
      "Current working directory: /home/astro/Documents/GitHub/ALMASim/experimental\n",
      "Path to the parent directory: /home/astro/Documents/GitHub/ALMASim/experimental/..\n"
     ]
    }
   ],
   "source": [
    "import sys\n",
    "import os\n",
    "import pandas as pd\n",
    "current_path = os.getcwd()\n",
    "parent_dir = os.path.join(current_path, \"..\")\n",
    "print(\"Current working directory:\", current_path)\n",
    "print(\"Path to the parent directory:\",parent_dir)\n",
    "sys.path.append(parent_dir)\n",
    "import simulator as sm\n",
    "import numpy as np\n",
    "import astropy.units as U\n",
    "from casatasks import exportfits, simobserve, tclean, gaincal, applycal\n",
    "from casatools import table\n",
    "from casatools import simulator as casa_simulator\n",
    "import random\n",
    "import shutil"
   ]
  },
  {
   "cell_type": "markdown",
   "metadata": {},
   "source": [
    "Fixed Parameters"
   ]
  },
  {
   "cell_type": "code",
   "execution_count": 91,
   "metadata": {},
   "outputs": [
    {
     "name": "stdout",
     "output_type": "stream",
     "text": [
      "Observation Date: 2019-03-27\n",
      "Computed Cycle 6 Antenna Config 2\n",
      "Observation Date: 2022-10-15\n",
      "Computed Cycle 9 Antenna Config 3\n",
      "Observation Date: 2021-09-12\n",
      "Computed Cycle 7 Antenna Config 9\n",
      "Observation Date: 2023-12-26\n",
      "Computed Cycle 10 Antenna Config 4\n",
      "Observation Date: 2016-11-25\n",
      "Computed Cycle 4 Antenna Config 3\n",
      "Observation Date: 2022-08-16\n",
      "Computed Cycle 8 Antenna Config 5\n",
      "Observation Date: 2017-04-15\n",
      "Computed Cycle 4 Antenna Config 3\n",
      "Observation Date: 2022-10-26\n",
      "Computed Cycle 9 Antenna Config 3\n",
      "Observation Date: 2018-03-19\n",
      "Computed Cycle 5 Antenna Config 4\n",
      "Observation Date: 2022-06-03\n",
      "Computed Cycle 8 Antenna Config 4\n"
     ]
    }
   ],
   "source": [
    "output_dir = current_path\n",
    "plot_dir = current_path\n",
    "project = 'test'\n",
    "if not os.path.exists(os.path.join(output_dir, project)):\n",
    "    os.mkdir(os.path.join(output_dir, project))\n",
    "db = pd.read_csv(os.path.join(parent_dir, 'metadata', 'AGN_metadata.csv'))\n",
    "metadata = db[['RA', 'Dec', 'Band', 'Ang.res.', 'FOV', 'Int.Time', 'Obs.date', 'Release date', 'PWV']]\n",
    "n_px = 256\n",
    "n_channels = 128\n",
    "rest_frequency = 1420.4\n",
    "metadata = metadata[metadata['Obs.date'] <= '2024-9-30']\n",
    "idxs = [i for i in range(10)]\n",
    "metadata = metadata.sample(n=len(idxs), replace=False)\n",
    "n_channels = [n_channels for i in idxs]\n",
    "n_pxs = [n_px for i in idxs]\n",
    "total_times = [4500 for i in idxs]\n",
    "antenna_configs = [sm.get_antenna_config_from_date(obs_date) for obs_date in metadata['Obs.date'].values]\n",
    "antenna_ids, cycles = zip(*antenna_configs)\n",
    "antenna_names = [os.path.join('cycle{}'.format(int(j)), 'alma.cycle{}.0.{}'.format(int(j), int(k))) for j, k in zip(cycles, antenna_ids)]"
   ]
  },
  {
   "cell_type": "code",
   "execution_count": 84,
   "metadata": {},
   "outputs": [],
   "source": [
    "ras = metadata['RA'].values\n",
    "decs = metadata['Dec'].values\n",
    "bands = metadata['Band'].values\n",
    "ang_res = metadata['Ang.res.'].values\n",
    "fovs = metadata['FOV'].values\n",
    "obs_dates = metadata['Obs.date'].values\n",
    "release_dates = metadata['Release date'].values\n",
    "pwvs = metadata['PWV'].values\n",
    "int_times = metadata['Int.Time'].values"
   ]
  },
  {
   "cell_type": "code",
   "execution_count": 95,
   "metadata": {},
   "outputs": [
    {
     "name": "stdout",
     "output_type": "stream",
     "text": [
      "Computed spatial resolution for band 6 config 3 and date 2023-12-20 is 0.62 with respect to recorded 5.38\n",
      "Beam size: 0.11792108103755336\n",
      "Cell size: 0.023584216207510673\n",
      "Computed FoV from band 6 is 25.15 with respect to recorded 45.14\n",
      "Integration time: 108.864\n",
      "Total time: 4500\n",
      "\n",
      "\n",
      "2 1 6\n",
      "Number of Pixels 256\n",
      "Generating central source at position (127, 127, 64)\n",
      "Generating central source and 4 serendipitous companions in a radius of 64 pixels in the x and y directions and 64 pixels in the z direction\n",
      "\n",
      "Found 1st component\n",
      "Found 2st component\n",
      "Found 3st component\n",
      "Found 4st component\n"
     ]
    },
    {
     "name": "stderr",
     "output_type": "stream",
     "text": [
      "  0%|          | 0/4 [00:00<?, ?it/s]"
     ]
    },
    {
     "name": "stdout",
     "output_type": "stream",
     "text": [
      "0:\n",
      "Location: (128, 164, 21)\n",
      "Size X: 1 Y: 1 Z: 5\n"
     ]
    },
    {
     "name": "stderr",
     "output_type": "stream",
     "text": [
      " 25%|██▌       | 1/4 [00:00<00:00,  3.42it/s]"
     ]
    },
    {
     "name": "stdout",
     "output_type": "stream",
     "text": [
      "1:\n",
      "Location: (159, 86, 54)\n",
      "Size X: 1 Y: 1 Z: 5\n"
     ]
    },
    {
     "name": "stderr",
     "output_type": "stream",
     "text": [
      " 50%|█████     | 2/4 [00:00<00:00,  3.52it/s]"
     ]
    },
    {
     "name": "stdout",
     "output_type": "stream",
     "text": [
      "2:\n",
      "Location: (91, 72, 92)\n",
      "Size X: 1 Y: 1 Z: 4\n"
     ]
    },
    {
     "name": "stderr",
     "output_type": "stream",
     "text": [
      " 75%|███████▌  | 3/4 [00:00<00:00,  3.56it/s]"
     ]
    },
    {
     "name": "stdout",
     "output_type": "stream",
     "text": [
      "3:\n",
      "Location: (93, 129, 44)\n",
      "Size X: 1 Y: 1 Z: 3\n"
     ]
    },
    {
     "name": "stderr",
     "output_type": "stream",
     "text": [
      "100%|██████████| 4/4 [00:01<00:00,  3.50it/s]\n"
     ]
    },
    {
     "name": "stdout",
     "output_type": "stream",
     "text": [
      "Skymodel saved to /home/astro/Documents/GitHub/ALMASim/experimental/skymodel_1.fits\n",
      "True Brightness 1.8749809852613442  Jy/px\n",
      "Minimum Brightness 0.0  Jy/px\n",
      "Adjusting Brightness\n",
      "New Brightness 0.001  Jy/px\n"
     ]
    },
    {
     "name": "stderr",
     "output_type": "stream",
     "text": [
      "....10....20....30....40....50....60....70....80....90....100%\n"
     ]
    },
    {
     "name": "stdout",
     "output_type": "stream",
     "text": [
      "Adding Atmospheric Noise using a scale factor of 0.5 for thropospheric phase\n"
     ]
    },
    {
     "name": "stderr",
     "output_type": "stream",
     "text": [
      "2024-03-26 16:41:22\tWARN\ttask_tclean::SIImageStore::restore (file /source/casa6/casatools/src/code/synthesis/ImagerObjects/SIImageStore.cc, line 2265)\tRestoring with an empty model image. Only residuals will be processed to form the output restored image.\n"
     ]
    },
    {
     "name": "stdout",
     "output_type": "stream",
     "text": [
      "Saving Dirty and Clean Cubes\n"
     ]
    }
   ],
   "source": [
    "idx = 1\n",
    "\n",
    "obs_date = obs_dates[idx]\n",
    "antenna_name = antenna_names[idx]\n",
    "band = int(bands[idx])\n",
    "ra = ras[idx]\n",
    "dec = decs[idx]\n",
    "n_px = n_pxs[idx]\n",
    "n_channel = n_channels[idx]\n",
    "integration = int_times[idx]\n",
    "total_time = total_times[idx]\n",
    "pwv = pwvs[idx]\n",
    "cycle = os.path.split(antenna_name)[0]\n",
    "antenna_name = os.path.split(antenna_name)[1]\n",
    "config_number = int(antenna_name.split('.')[-1])\n",
    "# This function takes the spatial resolution \n",
    "spatial_resolution = sm.get_spatial_resolution(band, config_number)\n",
    "central_freq = sm.get_band_central_freq(band)\n",
    "# From the antenna configuration file, we get the maximum baseline, which is used to compute the beam size, and then cell_size\n",
    "antennalist = os.path.join(parent_dir, \"antenna_config\", cycle, antenna_name + '.cfg')\n",
    "max_baseline = sm.get_max_baseline_from_antenna_config(antennalist)\n",
    "beam_size = sm.compute_beam_size_from_max_baseline(max_baseline, central_freq)\n",
    "cell_size = beam_size / 5\n",
    "# FoV only depends from the band (central frequency)\n",
    "fov = sm.get_fov([band])[0]\n",
    "print('Computed spatial resolution for band {} config {} and date {} is {} with respect to recorded {}'.format(band, config_number, obs_date, spatial_resolution, round(ang_res[idx], 2)))\n",
    "print('Beam size:', beam_size)\n",
    "print('Cell size:', cell_size)\n",
    "print('Computed FoV from band {} is {} with respect to recorded {}'.format(band, round(fov, 2), round(fovs[idx], 2)))\n",
    "print('Integration time:', integration)\n",
    "print('Total time:', total_time)\n",
    "print('\\n')\n",
    "#3683 of simulator function\n",
    "n_sources = 4\n",
    "bandwidth = 1280\n",
    "inwidth = 10\n",
    "serendipitous = True\n",
    "run_tclean = False\n",
    "fwhm_x = 1.5 * cell_size * np.random.rand() + cell_size\n",
    "fwhm_y = 1.5 * cell_size  * np.random.rand() + cell_size\n",
    "fwhm_z = 0.1 * bandwidth * np.random.rand() + inwidth\n",
    "pa = np.random.randint(0, 360)\n",
    "min_sep_spatial = 1.5 * cell_size\n",
    "min_sep_frequency = 1.5 * inwidth\n",
    "inbright = 0.001\n",
    "filename = sm.generate_gaussian_skymodel(idx, current_path, n_sources,\n",
    "                                                  n_px, n_channel, bandwidth, \n",
    "                                                  fwhm_x * U.arcsec, fwhm_y * U.arcsec, \n",
    "                                                  fwhm_z * U.MHz,\n",
    "                                                  cell_size * U.arcsec,  \n",
    "                                                  fov * U.arcsec, \n",
    "                                                  cell_size * U.arcsec, \n",
    "                                                  central_freq * U.GHz,\n",
    "                                                  inwidth * U.GHz,\n",
    "                                                  ra * U.deg, dec * U.deg,\n",
    "                                                  pa, \n",
    "                                                  min_sep_spatial, \n",
    "                                                  min_sep_frequency,\n",
    "                                                  rest_frequency, \n",
    "                                                  serendipitous,\n",
    "                                                  current_path)\n",
    "\n",
    "skymodel, sky_header = sm.load_fits(filename)\n",
    "true_brightness = np.max(skymodel)\n",
    "min_brightness = np.min(skymodel)\n",
    "print('True Brightness', true_brightness, ' Jy/px')\n",
    "print('Minimum Brightness', min_brightness, ' Jy/px')\n",
    "if inbright != true_brightness:\n",
    "    print('Adjusting Brightness')\n",
    "    flattened_skymodel = np.ravel(skymodel)\n",
    "    t_min = 0\n",
    "    t_max = inbright\n",
    "    skymodel_norm = (flattened_skymodel - np.min(flattened_skymodel)) / (np.max(flattened_skymodel) - np.min(flattened_skymodel)) * (t_max - t_min) + t_min\n",
    "    skymodel = np.reshape(skymodel_norm, np.shape(skymodel))\n",
    "    print('New Brightness', np.max(skymodel), ' Jy/px')\n",
    "    sm.write_numpy_to_fits(skymodel, sky_header, filename)\n",
    "simobserve(\n",
    "    project=project, \n",
    "    skymodel=filename,\n",
    "    inbright=\"{}Jy/pix\".format(inbright),\n",
    "    incell=\"{}arcsec\".format(cell_size),\n",
    "    indirection=\"J2000 19h30m00 -40d00m00\",\n",
    "    incenter='{}GHz'.format(central_freq),\n",
    "    inwidth=\"{}MHz\".format(inwidth),\n",
    "    setpointings=True,\n",
    "    integration=\"{}s\".format(integration),\n",
    "    obsmode=\"int\",\n",
    "    antennalist=antennalist,\n",
    "    totaltime=\"{}s\".format(total_time),\n",
    "    thermalnoise=\"tsys-atm\",\n",
    "    user_pwv=pwv,\n",
    "    graphics=\"none\",\n",
    "    verbose=False,\n",
    "    overwrite=True)\n",
    "\n",
    "# Adding atmosphere noise\n",
    "#scale = random.uniform(0.3, 1)\n",
    "scale = 0.5\n",
    "print('Adding Atmospheric Noise using a scale factor of {} for thropospheric phase'.format(scale))\n",
    "# scale is a multiplicative factor for the thropospheric phase \n",
    "# which is a delay in the propagation of radio waves in the atmosphere\n",
    "# caused by the refractive index of the throphosphere\n",
    "sm.simulate_atmospheric_noise(\n",
    "    os.path.join(output_dir, project), \n",
    "    scale, \n",
    "    os.path.join(output_dir, project, \"{}.{}.noisy.ms\".format(project, antenna_name)), \n",
    "    antennalist)\n",
    "gain_error_amplitude = random.gauss(0.001, 0.1)\n",
    "sm.simulate_gain_errors(\n",
    "    os.path.join(output_dir, project, \"{}.{}.noisy.ms\".format(project, antenna_name)),\n",
    "    gain_error_amplitude\n",
    ")\n",
    "\n",
    "tclean(\n",
    "    vis=os.path.join(project, \"{}.{}.noisy.ms\".format(project, antenna_name)),\n",
    "    imagename=os.path.join(project, '{}.{}'.format(project, antenna_name)),\n",
    "    imsize=[int(n_px), int(n_px)],\n",
    "    cell=\"{}arcsec\".format(cell_size),\n",
    "    specmode=\"cube\",\n",
    "    niter=0,\n",
    "    fastnoise=False,\n",
    "    calcpsf=True,\n",
    "    pbcor=True,\n",
    "    pblimit=0.2,\n",
    "    )\n",
    "\n",
    "print('Saving Dirty and Clean Cubes')\n",
    "exportfits(imagename=os.path.join(project, '{}.{}.image'.format(project, antenna_name)), \n",
    "       fitsimage=os.path.join(output_dir, \"dirty_cube_\" + str(idx) +\".fits\"), overwrite=True)\n",
    "exportfits(imagename=os.path.join(project, '{}.{}.skymodel'.format(project, antenna_name)), \n",
    "        fitsimage=os.path.join(output_dir, \"clean_cube_\" + str(idx) +\".fits\"), overwrite=True)\n",
    "sm.plotter(idx, output_dir, plot_dir, run_tclean, band, cycle, inbright, beam_size, cell_size, antenna_name, fwhm_z)\n",
    "shutil.rmtree(project)\n",
    "os.remove(filename)\n",
    "os.remove(os.path.join(output_dir, \"dirty_cube_\" + str(idx) +\".fits\"))\n",
    "os.remove(os.path.join(output_dir, \"clean_cube_\" + str(idx) +\".fits\"))\n",
    "print('Done')"
   ]
  }
 ],
 "metadata": {
  "kernelspec": {
   "display_name": "simulation",
   "language": "python",
   "name": "python3"
  },
  "language_info": {
   "codemirror_mode": {
    "name": "ipython",
    "version": 3
   },
   "file_extension": ".py",
   "mimetype": "text/x-python",
   "name": "python",
   "nbconvert_exporter": "python",
   "pygments_lexer": "ipython3",
   "version": "3.8.18"
  }
 },
 "nbformat": 4,
 "nbformat_minor": 2
}
