{
 "cells": [
  {
   "cell_type": "code",
   "execution_count": 12,
   "metadata": {},
   "outputs": [],
   "source": [
    "import pandas as pd \n",
    "import numpy as np"
   ]
  },
  {
   "cell_type": "code",
   "execution_count": 16,
   "metadata": {},
   "outputs": [
    {
     "name": "stdout",
     "output_type": "stream",
     "text": [
      "<class 'pandas.core.frame.DataFrame'>\n",
      "Int64Index: 7797 entries, 0 to 7796\n",
      "Data columns (total 8 columns):\n",
      " #   Column    Non-Null Count  Dtype  \n",
      "---  ------    --------------  -----  \n",
      " 0   RA        7797 non-null   float64\n",
      " 1   Dec       7797 non-null   float64\n",
      " 2   Band      7797 non-null   int64  \n",
      " 3   Ang.res.  7797 non-null   float64\n",
      " 4   FOV       7797 non-null   float64\n",
      " 5   Int.Time  7797 non-null   float64\n",
      " 6   Obs.date  7797 non-null   object \n",
      " 7   PWV       7797 non-null   float64\n",
      "dtypes: float64(6), int64(1), object(1)\n",
      "memory usage: 548.2+ KB\n"
     ]
    }
   ],
   "source": [
    "db = pd.read_csv('/home/astro/Documents/GitHub/ALMASim/metadata/LU_metadata.csv')\n",
    "db = db[db['Mosaic'] != 'mosaic']\n",
    "metadata = db[['RA', 'Dec', 'Band', 'Ang.res.', 'FOV', 'Int.Time', 'Obs.date', 'PWV']]\n",
    "metadata.info()"
   ]
  }
 ],
 "metadata": {
  "kernelspec": {
   "display_name": "casa6.5",
   "language": "python",
   "name": "python3"
  },
  "language_info": {
   "codemirror_mode": {
    "name": "ipython",
    "version": 3
   },
   "file_extension": ".py",
   "mimetype": "text/x-python",
   "name": "python",
   "nbconvert_exporter": "python",
   "pygments_lexer": "ipython3",
   "version": "3.11.4"
  },
  "orig_nbformat": 4
 },
 "nbformat": 4,
 "nbformat_minor": 2
}
