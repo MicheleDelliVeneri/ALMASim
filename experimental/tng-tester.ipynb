{
 "cells": [
  {
   "cell_type": "code",
   "execution_count": 1,
   "metadata": {},
   "outputs": [
    {
     "name": "stdout",
     "output_type": "stream",
     "text": [
      "Current working directory: /home/astro/Documents/GitHub/ALMASim/experimental\n",
      "Path to the parent directory: /home/astro/Documents/GitHub/ALMASim/experimental/..\n"
     ]
    }
   ],
   "source": [
    "import sys\n",
    "import os\n",
    "import pandas as pd\n",
    "current_path = os.getcwd()\n",
    "parent_dir = os.path.join(current_path, \"..\")\n",
    "print(\"Current working directory:\", current_path)\n",
    "print(\"Path to the parent directory:\",parent_dir)\n",
    "sys.path.append(parent_dir)\n",
    "import simulator as sm\n",
    "import numpy as np\n",
    "import astropy.units as U\n",
    "from casatasks import exportfits, simobserve, tclean, gaincal, applycal\n",
    "from casatools import table\n",
    "from casatools import simulator as casa_simulator\n",
    "import random\n",
    "import shutil\n",
    "from astropy.constants import c\n",
    "import math\n",
    "import matplotlib.pyplot as plt\n",
    "from astropy.coordinates import SkyCoord\n",
    "from scipy.optimize import curve_fit\n",
    "import  utility.skymodels as sku\n",
    "import utility.alma as au\n",
    "import utility.astro as uas"
   ]
  },
  {
   "cell_type": "code",
   "execution_count": 6,
   "metadata": {},
   "outputs": [
    {
     "name": "stdout",
     "output_type": "stream",
     "text": [
      "Header\n",
      "Snapshot_95\n",
      "Snapshot_99\n"
     ]
    }
   ],
   "source": [
    "import h5py\n",
    "file = os.path.join(parent_dir, 'metadata', 'morphologies_deeplearn.hdf5')\n",
    "data = list()\n",
    "column_names = list()\n",
    "r = h5py.File(file, 'r')\n",
    "for key in r.keys():\n",
    "    print(key)"
   ]
  },
  {
   "cell_type": "code",
   "execution_count": 3,
   "metadata": {},
   "outputs": [
    {
     "name": "stdout",
     "output_type": "stream",
     "text": [
      "Looking for Subhalo 445185 in snapshot 50\n",
      "Checking offset in Snapshot 50 for grouphalo 445185\n",
      "[2553 3865    0    0   41    0]\n",
      "Particles are found in Snapshot 59 which is not present on disk\n",
      "Downloading Snapshot 59 in /mnt/storage/astro/TNGData/TNG100-1/output/snapdir_050...\n",
      "Done.\n",
      "Checking File 59...\n",
      "Loading File 60...\n",
      "Number of particles in the subhalo: 2553\n",
      "Looking for Subhalo 261959 in snapshot 50\n",
      "Checking offset in Snapshot 50 for grouphalo 261959\n",
      "[ 0 91  0  0  0  0]\n",
      "Number of particles in the subhalo: 0\n",
      "Looking for Subhalo 369545 in snapshot 50\n",
      "Checking offset in Snapshot 50 for grouphalo 369545\n",
      "[ 0 84  0  0  0  0]\n",
      "Number of particles in the subhalo: 0\n",
      "Looking for Subhalo 595586 in snapshot 50\n",
      "Checking offset in Snapshot 50 for grouphalo 595586\n",
      "[  0 570   0   0   0   0]\n",
      "Number of particles in the subhalo: 0\n",
      "Looking for Subhalo 114459 in snapshot 50\n",
      "Checking offset in Snapshot 50 for grouphalo 114459\n",
      "[  0 103   0   0   0   0]\n",
      "Number of particles in the subhalo: 0\n",
      "Looking for Subhalo 14 in snapshot 50\n",
      "Checking offset in Snapshot 50 for grouphalo 14\n",
      "[20726 33944     0     0 39542     1]\n",
      "Checking File 0...\n",
      "Loading File 1...\n",
      "Number of particles in the subhalo: 20726\n",
      "Looking for Subhalo 569780 in snapshot 50\n",
      "Checking offset in Snapshot 50 for grouphalo 569780\n",
      "[ 0 36  0  0  0  0]\n",
      "Number of particles in the subhalo: 0\n",
      "Looking for Subhalo 41693 in snapshot 50\n",
      "Checking offset in Snapshot 50 for grouphalo 41693\n",
      "[ 0 23  0  0  0  0]\n",
      "Number of particles in the subhalo: 0\n",
      "Looking for Subhalo 202643 in snapshot 50\n",
      "Checking offset in Snapshot 50 for grouphalo 202643\n",
      "[ 0 36  0  0  0  0]\n",
      "Number of particles in the subhalo: 0\n",
      "Looking for Subhalo 140737 in snapshot 50\n",
      "Checking offset in Snapshot 50 for grouphalo 140737\n",
      "[  0 355   0   0   5   0]\n",
      "Number of particles in the subhalo: 0\n"
     ]
    }
   ],
   "source": [
    "snapshot = 61\n",
    "tng_dir = '/mnt/storage/astro/TNGData'\n",
    "outpath = os.path.join(tng_dir, 'TNG100-1', 'output', 'snapdir_0{}'.format(snapshot))\n",
    "n_sims = 10\n",
    "main_path = parent_dir\n",
    "tng_subhaloids = uas.get_subhaloids_from_db(n_sims, main_path)\n",
    "tng_api_key = '8f578b92e700fae3266931f4d785f82c'\n",
    "for tng_subhaloid in tng_subhaloids:\n",
    "    redshift = 1\n",
    "    snapshot = uas.redshift_to_snapshot(redshift)\n",
    "    \n",
    "    part_num = uas.get_particles_num(tng_dir, outpath, snapshot, int(tng_subhaloid), tng_api_key)\n",
    "    print(\"Number of particles in the subhalo:\", part_num)"
   ]
  }
 ],
 "metadata": {
  "kernelspec": {
   "display_name": "almasim",
   "language": "python",
   "name": "python3"
  },
  "language_info": {
   "codemirror_mode": {
    "name": "ipython",
    "version": 3
   },
   "file_extension": ".py",
   "mimetype": "text/x-python",
   "name": "python",
   "nbconvert_exporter": "python",
   "pygments_lexer": "ipython3",
   "version": "3.8.18"
  }
 },
 "nbformat": 4,
 "nbformat_minor": 2
}
