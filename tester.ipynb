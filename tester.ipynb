{
 "cells": [
  {
   "cell_type": "code",
   "execution_count": 9,
   "metadata": {},
   "outputs": [
    {
     "name": "stdout",
     "output_type": "stream",
     "text": [
      "(1, 1, 256, 256)\n",
      "['2016', '03', '02T00:09:38.448000']\n"
     ]
    }
   ],
   "source": [
    "import simulator as sm\n",
    "import os\n",
    "file_ = \"/home/astro/Documents/ivano_baronchelli_test.fits\"\n",
    "img, hdr = sm.load_fits(file_)\n",
    "print(img.shape)\n",
    "\n",
    "obs_date = hdr[\"DATE-OBS\"].split('-')\n",
    "print(obs_date)\n"
   ]
  },
  {
   "cell_type": "code",
   "execution_count": 11,
   "metadata": {},
   "outputs": [
    {
     "name": "stdout",
     "output_type": "stream",
     "text": [
      "['cycle1/alma.cycle1.0.10', 'cycle2/alma.cycle2.0.9', 'cycle3/alma.cycle3.0.8', 'cycle4/alma.cycle4.0.7', 'cycle5/alma.cycle5.0.6', 'cycle6/alma.cycle6.0.5', 'cycle7/alma.cycle7.0.4', 'cycle8/alma.cycle8.0.3', 'cycle9/alma.cycle9.0.2', 'cycle10/alma.cycle10.0.1']\n"
     ]
    }
   ],
   "source": [
    "cycles = [1, 2, 3, 4, 5, 6, 7, 8, 9, 10]\n",
    "antenna_ids = [10, 9, 8, 7, 6, 5, 4, 3, 2, 1]\n",
    "\n",
    "antenna_names = [os.path.join('cycle{}'.format(j), 'alma.cycle{}.0.{}'.format(j, k)) for j, k in zip(cycles, antenna_ids)]\n",
    "print(antenna_names)"
   ]
  }
 ],
 "metadata": {
  "kernelspec": {
   "display_name": "casa6.5",
   "language": "python",
   "name": "python3"
  },
  "language_info": {
   "codemirror_mode": {
    "name": "ipython",
    "version": 3
   },
   "file_extension": ".py",
   "mimetype": "text/x-python",
   "name": "python",
   "nbconvert_exporter": "python",
   "pygments_lexer": "ipython3",
   "version": "3.8.18"
  },
  "orig_nbformat": 4
 },
 "nbformat": 4,
 "nbformat_minor": 2
}
