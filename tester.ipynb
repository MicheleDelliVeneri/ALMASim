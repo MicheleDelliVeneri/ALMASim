{
 "cells": [
  {
   "cell_type": "code",
   "execution_count": 3,
   "metadata": {},
   "outputs": [
    {
     "name": "stdout",
     "output_type": "stream",
     "text": [
      "Spatial Resolution: 0.92\n",
      "Central Frequency:  100\n",
      "2.4291621329582047 0.3128650779165905\n",
      "FWHM X: 0.5290666106017324\n",
      "FWHM Y: 0.37160581264608195\n",
      "FWHM Z: 46.543203443548535\n",
      "Number of Channels: 100\n",
      "Generating point-like source at position (127, 127, 50)\n",
      "Skymodel saved to /home/michele/casa-data/spatially_bounded/skymodel_0.fits\n"
     ]
    },
    {
     "ename": "KeyboardInterrupt",
     "evalue": "",
     "output_type": "error",
     "traceback": [
      "\u001b[0;31m---------------------------------------------------------------------------\u001b[0m",
      "\u001b[0;31mKeyboardInterrupt\u001b[0m                         Traceback (most recent call last)",
      "\u001b[1;32m/home/michele/GitHub/ALMASim/tester.ipynb Cell 1\u001b[0m line \u001b[0;36m6\n\u001b[1;32m     <a href='vscode-notebook-cell://wsl%2Bdebian/home/michele/GitHub/ALMASim/tester.ipynb#W4sdnNjb2RlLXJlbW90ZQ%3D%3D?line=59'>60</a>\u001b[0m filename \u001b[39m=\u001b[39m sm\u001b[39m.\u001b[39mgenerate_pointlike_skymodel(i, output_dir, rest_frequency, \n\u001b[1;32m     <a href='vscode-notebook-cell://wsl%2Bdebian/home/michele/GitHub/ALMASim/tester.ipynb#W4sdnNjb2RlLXJlbW90ZQ%3D%3D?line=60'>61</a>\u001b[0m                                                    inwidth \u001b[39m*\u001b[39m U\u001b[39m.\u001b[39mMHz, fwhm_z \u001b[39m*\u001b[39m U\u001b[39m.\u001b[39mMHz,\n\u001b[1;32m     <a href='vscode-notebook-cell://wsl%2Bdebian/home/michele/GitHub/ALMASim/tester.ipynb#W4sdnNjb2RlLXJlbW90ZQ%3D%3D?line=61'>62</a>\u001b[0m                                                    central_freq \u001b[39m*\u001b[39m U\u001b[39m.\u001b[39mGHz, n_px, \n\u001b[1;32m     <a href='vscode-notebook-cell://wsl%2Bdebian/home/michele/GitHub/ALMASim/tester.ipynb#W4sdnNjb2RlLXJlbW90ZQ%3D%3D?line=62'>63</a>\u001b[0m                                                    n_channels, ra \u001b[39m*\u001b[39m U\u001b[39m.\u001b[39mdeg, dec \u001b[39m*\u001b[39m U\u001b[39m.\u001b[39mdeg,\n\u001b[1;32m     <a href='vscode-notebook-cell://wsl%2Bdebian/home/michele/GitHub/ALMASim/tester.ipynb#W4sdnNjb2RlLXJlbW90ZQ%3D%3D?line=63'>64</a>\u001b[0m                                                    spatial_resolution \u001b[39m*\u001b[39m U\u001b[39m.\u001b[39marcsec, plot_dir)\n\u001b[1;32m     <a href='vscode-notebook-cell://wsl%2Bdebian/home/michele/GitHub/ALMASim/tester.ipynb#W4sdnNjb2RlLXJlbW90ZQ%3D%3D?line=65'>66</a>\u001b[0m totaltime \u001b[39m=\u001b[39m \u001b[39m1.85\u001b[39m \u001b[39m*\u001b[39m \u001b[39m60\u001b[39m\n\u001b[0;32m---> <a href='vscode-notebook-cell://wsl%2Bdebian/home/michele/GitHub/ALMASim/tester.ipynb#W4sdnNjb2RlLXJlbW90ZQ%3D%3D?line=66'>67</a>\u001b[0m simobserve(\n\u001b[1;32m     <a href='vscode-notebook-cell://wsl%2Bdebian/home/michele/GitHub/ALMASim/tester.ipynb#W4sdnNjb2RlLXJlbW90ZQ%3D%3D?line=67'>68</a>\u001b[0m     skymodel\u001b[39m=\u001b[39;49mfilename,\n\u001b[1;32m     <a href='vscode-notebook-cell://wsl%2Bdebian/home/michele/GitHub/ALMASim/tester.ipynb#W4sdnNjb2RlLXJlbW90ZQ%3D%3D?line=68'>69</a>\u001b[0m     project\u001b[39m=\u001b[39;49mproject,\n\u001b[1;32m     <a href='vscode-notebook-cell://wsl%2Bdebian/home/michele/GitHub/ALMASim/tester.ipynb#W4sdnNjb2RlLXJlbW90ZQ%3D%3D?line=69'>70</a>\u001b[0m     indirection\u001b[39m=\u001b[39;49m\u001b[39m\"\u001b[39;49m\u001b[39mJ2000 19h30m00 -40d00m00\u001b[39;49m\u001b[39m\"\u001b[39;49m,\n\u001b[1;32m     <a href='vscode-notebook-cell://wsl%2Bdebian/home/michele/GitHub/ALMASim/tester.ipynb#W4sdnNjb2RlLXJlbW90ZQ%3D%3D?line=70'>71</a>\u001b[0m     incell\u001b[39m=\u001b[39;49m\u001b[39m\"\u001b[39;49m\u001b[39m{}\u001b[39;49;00m\u001b[39marcsec\u001b[39;49m\u001b[39m\"\u001b[39;49m\u001b[39m.\u001b[39;49mformat(cell_size),\n\u001b[1;32m     <a href='vscode-notebook-cell://wsl%2Bdebian/home/michele/GitHub/ALMASim/tester.ipynb#W4sdnNjb2RlLXJlbW90ZQ%3D%3D?line=71'>72</a>\u001b[0m     incenter\u001b[39m=\u001b[39;49m\u001b[39m'\u001b[39;49m\u001b[39m{}\u001b[39;49;00m\u001b[39mGHz\u001b[39;49m\u001b[39m'\u001b[39;49m\u001b[39m.\u001b[39;49mformat(central_freq),\n\u001b[1;32m     <a href='vscode-notebook-cell://wsl%2Bdebian/home/michele/GitHub/ALMASim/tester.ipynb#W4sdnNjb2RlLXJlbW90ZQ%3D%3D?line=72'>73</a>\u001b[0m     inwidth\u001b[39m=\u001b[39;49m\u001b[39m\"\u001b[39;49m\u001b[39m{}\u001b[39;49;00m\u001b[39mMHz\u001b[39;49m\u001b[39m\"\u001b[39;49m\u001b[39m.\u001b[39;49mformat(inwidth),\n\u001b[1;32m     <a href='vscode-notebook-cell://wsl%2Bdebian/home/michele/GitHub/ALMASim/tester.ipynb#W4sdnNjb2RlLXJlbW90ZQ%3D%3D?line=73'>74</a>\u001b[0m     inbright\u001b[39m=\u001b[39;49m\u001b[39m\"\u001b[39;49m\u001b[39m0.001Jy/pixel\u001b[39;49m\u001b[39m\"\u001b[39;49m,\n\u001b[1;32m     <a href='vscode-notebook-cell://wsl%2Bdebian/home/michele/GitHub/ALMASim/tester.ipynb#W4sdnNjb2RlLXJlbW90ZQ%3D%3D?line=74'>75</a>\u001b[0m     setpointings\u001b[39m=\u001b[39;49m\u001b[39mTrue\u001b[39;49;00m,\n\u001b[1;32m     <a href='vscode-notebook-cell://wsl%2Bdebian/home/michele/GitHub/ALMASim/tester.ipynb#W4sdnNjb2RlLXJlbW90ZQ%3D%3D?line=75'>76</a>\u001b[0m     obsmode\u001b[39m=\u001b[39;49m\u001b[39m'\u001b[39;49m\u001b[39mint\u001b[39;49m\u001b[39m'\u001b[39;49m,\n\u001b[1;32m     <a href='vscode-notebook-cell://wsl%2Bdebian/home/michele/GitHub/ALMASim/tester.ipynb#W4sdnNjb2RlLXJlbW90ZQ%3D%3D?line=76'>77</a>\u001b[0m     antennalist\u001b[39m=\u001b[39;49mantennalist,\n\u001b[1;32m     <a href='vscode-notebook-cell://wsl%2Bdebian/home/michele/GitHub/ALMASim/tester.ipynb#W4sdnNjb2RlLXJlbW90ZQ%3D%3D?line=77'>78</a>\u001b[0m     totaltime\u001b[39m=\u001b[39;49m\u001b[39m\"\u001b[39;49m\u001b[39m{}\u001b[39;49;00m\u001b[39ms\u001b[39;49m\u001b[39m\"\u001b[39;49m\u001b[39m.\u001b[39;49mformat(totaltime),\n\u001b[1;32m     <a href='vscode-notebook-cell://wsl%2Bdebian/home/michele/GitHub/ALMASim/tester.ipynb#W4sdnNjb2RlLXJlbW90ZQ%3D%3D?line=78'>79</a>\u001b[0m     integration\u001b[39m=\u001b[39;49m\u001b[39m\"\u001b[39;49m\u001b[39m{0}\u001b[39;49;00m\u001b[39ms\u001b[39;49m\u001b[39m\"\u001b[39;49m\u001b[39m.\u001b[39;49mformat(totaltime),\n\u001b[1;32m     <a href='vscode-notebook-cell://wsl%2Bdebian/home/michele/GitHub/ALMASim/tester.ipynb#W4sdnNjb2RlLXJlbW90ZQ%3D%3D?line=79'>80</a>\u001b[0m     graphics\u001b[39m=\u001b[39;49m\u001b[39m'\u001b[39;49m\u001b[39mnone\u001b[39;49m\u001b[39m'\u001b[39;49m,\n\u001b[1;32m     <a href='vscode-notebook-cell://wsl%2Bdebian/home/michele/GitHub/ALMASim/tester.ipynb#W4sdnNjb2RlLXJlbW90ZQ%3D%3D?line=80'>81</a>\u001b[0m     overwrite\u001b[39m=\u001b[39;49m\u001b[39mTrue\u001b[39;49;00m,\n\u001b[1;32m     <a href='vscode-notebook-cell://wsl%2Bdebian/home/michele/GitHub/ALMASim/tester.ipynb#W4sdnNjb2RlLXJlbW90ZQ%3D%3D?line=81'>82</a>\u001b[0m     thermalnoise\u001b[39m=\u001b[39;49m\u001b[39m\"\u001b[39;49m\u001b[39mtsys-atm\u001b[39;49m\u001b[39m\"\u001b[39;49m,\n\u001b[1;32m     <a href='vscode-notebook-cell://wsl%2Bdebian/home/michele/GitHub/ALMASim/tester.ipynb#W4sdnNjb2RlLXJlbW90ZQ%3D%3D?line=82'>83</a>\u001b[0m )\n\u001b[1;32m     <a href='vscode-notebook-cell://wsl%2Bdebian/home/michele/GitHub/ALMASim/tester.ipynb#W4sdnNjb2RlLXJlbW90ZQ%3D%3D?line=83'>84</a>\u001b[0m tclean(\n\u001b[1;32m     <a href='vscode-notebook-cell://wsl%2Bdebian/home/michele/GitHub/ALMASim/tester.ipynb#W4sdnNjb2RlLXJlbW90ZQ%3D%3D?line=84'>85</a>\u001b[0m     vis\u001b[39m=\u001b[39mos\u001b[39m.\u001b[39mpath\u001b[39m.\u001b[39mjoin(project, \u001b[39m\"\u001b[39m\u001b[39m{}\u001b[39;00m\u001b[39m.\u001b[39m\u001b[39m{}\u001b[39;00m\u001b[39m.noisy.ms\u001b[39m\u001b[39m\"\u001b[39m\u001b[39m.\u001b[39mformat(project, antenna_name)),\n\u001b[1;32m     <a href='vscode-notebook-cell://wsl%2Bdebian/home/michele/GitHub/ALMASim/tester.ipynb#W4sdnNjb2RlLXJlbW90ZQ%3D%3D?line=85'>86</a>\u001b[0m     imagename\u001b[39m=\u001b[39mos\u001b[39m.\u001b[39mpath\u001b[39m.\u001b[39mjoin(project, \u001b[39m'\u001b[39m\u001b[39m{}\u001b[39;00m\u001b[39m.\u001b[39m\u001b[39m{}\u001b[39;00m\u001b[39m'\u001b[39m\u001b[39m.\u001b[39mformat(project, antenna_name)),\n\u001b[0;32m   (...)\u001b[0m\n\u001b[1;32m     <a href='vscode-notebook-cell://wsl%2Bdebian/home/michele/GitHub/ALMASim/tester.ipynb#W4sdnNjb2RlLXJlbW90ZQ%3D%3D?line=93'>94</a>\u001b[0m     pblimit\u001b[39m=\u001b[39m\u001b[39m0.2\u001b[39m,\n\u001b[1;32m     <a href='vscode-notebook-cell://wsl%2Bdebian/home/michele/GitHub/ALMASim/tester.ipynb#W4sdnNjb2RlLXJlbW90ZQ%3D%3D?line=94'>95</a>\u001b[0m )\n\u001b[1;32m     <a href='vscode-notebook-cell://wsl%2Bdebian/home/michele/GitHub/ALMASim/tester.ipynb#W4sdnNjb2RlLXJlbW90ZQ%3D%3D?line=95'>96</a>\u001b[0m exportfits(imagename\u001b[39m=\u001b[39mos\u001b[39m.\u001b[39mpath\u001b[39m.\u001b[39mjoin(project, \u001b[39m'\u001b[39m\u001b[39m{}\u001b[39;00m\u001b[39m.\u001b[39m\u001b[39m{}\u001b[39;00m\u001b[39m.image\u001b[39m\u001b[39m'\u001b[39m\u001b[39m.\u001b[39mformat(project, antenna_name)), \n\u001b[1;32m     <a href='vscode-notebook-cell://wsl%2Bdebian/home/michele/GitHub/ALMASim/tester.ipynb#W4sdnNjb2RlLXJlbW90ZQ%3D%3D?line=96'>97</a>\u001b[0m            fitsimage\u001b[39m=\u001b[39mos\u001b[39m.\u001b[39mpath\u001b[39m.\u001b[39mjoin(output_dir, \u001b[39m\"\u001b[39m\u001b[39mdirty_cube_\u001b[39m\u001b[39m\"\u001b[39m \u001b[39m+\u001b[39m \u001b[39mstr\u001b[39m(i) \u001b[39m+\u001b[39m\u001b[39m\"\u001b[39m\u001b[39m.fits\u001b[39m\u001b[39m\"\u001b[39m), overwrite\u001b[39m=\u001b[39m\u001b[39mTrue\u001b[39;00m)\n",
      "File \u001b[0;32m~/astro-env/lib/python3.8/site-packages/casatasks/simobserve.py:351\u001b[0m, in \u001b[0;36m_simobserve.__call__\u001b[0;34m(self, project, skymodel, inbright, indirection, incell, incenter, inwidth, complist, compwidth, comp_nchan, setpointings, ptgfile, integration, direction, mapsize, maptype, pointingspacing, caldirection, calflux, obsmode, refdate, hourangle, totaltime, antennalist, sdantlist, sdant, outframe, thermalnoise, user_pwv, t_ground, t_sky, tau0, seed, leakage, graphics, verbose, overwrite)\u001b[0m\n\u001b[1;32m    349\u001b[0m task_result \u001b[39m=\u001b[39m \u001b[39mNone\u001b[39;00m\n\u001b[1;32m    350\u001b[0m \u001b[39mtry\u001b[39;00m:\n\u001b[0;32m--> 351\u001b[0m     task_result \u001b[39m=\u001b[39m _simobserve_t( _pc\u001b[39m.\u001b[39;49mdocument[\u001b[39m'\u001b[39;49m\u001b[39mproject\u001b[39;49m\u001b[39m'\u001b[39;49m], _pc\u001b[39m.\u001b[39;49mdocument[\u001b[39m'\u001b[39;49m\u001b[39mskymodel\u001b[39;49m\u001b[39m'\u001b[39;49m], _pc\u001b[39m.\u001b[39;49mdocument[\u001b[39m'\u001b[39;49m\u001b[39minbright\u001b[39;49m\u001b[39m'\u001b[39;49m], _pc\u001b[39m.\u001b[39;49mdocument[\u001b[39m'\u001b[39;49m\u001b[39mindirection\u001b[39;49m\u001b[39m'\u001b[39;49m], _pc\u001b[39m.\u001b[39;49mdocument[\u001b[39m'\u001b[39;49m\u001b[39mincell\u001b[39;49m\u001b[39m'\u001b[39;49m], _pc\u001b[39m.\u001b[39;49mdocument[\u001b[39m'\u001b[39;49m\u001b[39mincenter\u001b[39;49m\u001b[39m'\u001b[39;49m], _pc\u001b[39m.\u001b[39;49mdocument[\u001b[39m'\u001b[39;49m\u001b[39minwidth\u001b[39;49m\u001b[39m'\u001b[39;49m], _pc\u001b[39m.\u001b[39;49mdocument[\u001b[39m'\u001b[39;49m\u001b[39mcomplist\u001b[39;49m\u001b[39m'\u001b[39;49m], _pc\u001b[39m.\u001b[39;49mdocument[\u001b[39m'\u001b[39;49m\u001b[39mcompwidth\u001b[39;49m\u001b[39m'\u001b[39;49m], _pc\u001b[39m.\u001b[39;49mdocument[\u001b[39m'\u001b[39;49m\u001b[39mcomp_nchan\u001b[39;49m\u001b[39m'\u001b[39;49m], _pc\u001b[39m.\u001b[39;49mdocument[\u001b[39m'\u001b[39;49m\u001b[39msetpointings\u001b[39;49m\u001b[39m'\u001b[39;49m], _pc\u001b[39m.\u001b[39;49mdocument[\u001b[39m'\u001b[39;49m\u001b[39mptgfile\u001b[39;49m\u001b[39m'\u001b[39;49m], _pc\u001b[39m.\u001b[39;49mdocument[\u001b[39m'\u001b[39;49m\u001b[39mintegration\u001b[39;49m\u001b[39m'\u001b[39;49m], _pc\u001b[39m.\u001b[39;49mdocument[\u001b[39m'\u001b[39;49m\u001b[39mdirection\u001b[39;49m\u001b[39m'\u001b[39;49m], _pc\u001b[39m.\u001b[39;49mdocument[\u001b[39m'\u001b[39;49m\u001b[39mmapsize\u001b[39;49m\u001b[39m'\u001b[39;49m], _pc\u001b[39m.\u001b[39;49mdocument[\u001b[39m'\u001b[39;49m\u001b[39mmaptype\u001b[39;49m\u001b[39m'\u001b[39;49m], _pc\u001b[39m.\u001b[39;49mdocument[\u001b[39m'\u001b[39;49m\u001b[39mpointingspacing\u001b[39;49m\u001b[39m'\u001b[39;49m], _pc\u001b[39m.\u001b[39;49mdocument[\u001b[39m'\u001b[39;49m\u001b[39mcaldirection\u001b[39;49m\u001b[39m'\u001b[39;49m], _pc\u001b[39m.\u001b[39;49mdocument[\u001b[39m'\u001b[39;49m\u001b[39mcalflux\u001b[39;49m\u001b[39m'\u001b[39;49m], _pc\u001b[39m.\u001b[39;49mdocument[\u001b[39m'\u001b[39;49m\u001b[39mobsmode\u001b[39;49m\u001b[39m'\u001b[39;49m], _pc\u001b[39m.\u001b[39;49mdocument[\u001b[39m'\u001b[39;49m\u001b[39mrefdate\u001b[39;49m\u001b[39m'\u001b[39;49m], _pc\u001b[39m.\u001b[39;49mdocument[\u001b[39m'\u001b[39;49m\u001b[39mhourangle\u001b[39;49m\u001b[39m'\u001b[39;49m], _pc\u001b[39m.\u001b[39;49mdocument[\u001b[39m'\u001b[39;49m\u001b[39mtotaltime\u001b[39;49m\u001b[39m'\u001b[39;49m], _pc\u001b[39m.\u001b[39;49mdocument[\u001b[39m'\u001b[39;49m\u001b[39mantennalist\u001b[39;49m\u001b[39m'\u001b[39;49m], _pc\u001b[39m.\u001b[39;49mdocument[\u001b[39m'\u001b[39;49m\u001b[39msdantlist\u001b[39;49m\u001b[39m'\u001b[39;49m], _pc\u001b[39m.\u001b[39;49mdocument[\u001b[39m'\u001b[39;49m\u001b[39msdant\u001b[39;49m\u001b[39m'\u001b[39;49m], _pc\u001b[39m.\u001b[39;49mdocument[\u001b[39m'\u001b[39;49m\u001b[39moutframe\u001b[39;49m\u001b[39m'\u001b[39;49m], _pc\u001b[39m.\u001b[39;49mdocument[\u001b[39m'\u001b[39;49m\u001b[39mthermalnoise\u001b[39;49m\u001b[39m'\u001b[39;49m], _pc\u001b[39m.\u001b[39;49mdocument[\u001b[39m'\u001b[39;49m\u001b[39muser_pwv\u001b[39;49m\u001b[39m'\u001b[39;49m], _pc\u001b[39m.\u001b[39;49mdocument[\u001b[39m'\u001b[39;49m\u001b[39mt_ground\u001b[39;49m\u001b[39m'\u001b[39;49m], _pc\u001b[39m.\u001b[39;49mdocument[\u001b[39m'\u001b[39;49m\u001b[39mt_sky\u001b[39;49m\u001b[39m'\u001b[39;49m], _pc\u001b[39m.\u001b[39;49mdocument[\u001b[39m'\u001b[39;49m\u001b[39mtau0\u001b[39;49m\u001b[39m'\u001b[39;49m], _pc\u001b[39m.\u001b[39;49mdocument[\u001b[39m'\u001b[39;49m\u001b[39mseed\u001b[39;49m\u001b[39m'\u001b[39;49m], _pc\u001b[39m.\u001b[39;49mdocument[\u001b[39m'\u001b[39;49m\u001b[39mleakage\u001b[39;49m\u001b[39m'\u001b[39;49m], _pc\u001b[39m.\u001b[39;49mdocument[\u001b[39m'\u001b[39;49m\u001b[39mgraphics\u001b[39;49m\u001b[39m'\u001b[39;49m], _pc\u001b[39m.\u001b[39;49mdocument[\u001b[39m'\u001b[39;49m\u001b[39mverbose\u001b[39;49m\u001b[39m'\u001b[39;49m], _pc\u001b[39m.\u001b[39;49mdocument[\u001b[39m'\u001b[39;49m\u001b[39moverwrite\u001b[39;49m\u001b[39m'\u001b[39;49m] )\n\u001b[1;32m    352\u001b[0m \u001b[39mexcept\u001b[39;00m \u001b[39mException\u001b[39;00m \u001b[39mas\u001b[39;00m exc:\n\u001b[1;32m    353\u001b[0m     _except_log(\u001b[39m'\u001b[39m\u001b[39msimobserve\u001b[39m\u001b[39m'\u001b[39m, exc)\n",
      "File \u001b[0;32m~/astro-env/lib/python3.8/site-packages/casatasks/private/task_simobserve.py:1108\u001b[0m, in \u001b[0;36msimobserve\u001b[0;34m(project, skymodel, inbright, indirection, incell, incenter, inwidth, complist, compwidth, comp_nchan, setpointings, ptgfile, integration, direction, mapsize, maptype, pointingspacing, caldirection, calflux, obsmode, refdate, hourangle, totaltime, antennalist, sdantlist, sdant, outframe, thermalnoise, user_pwv, t_ground, t_sky, tau0, seed, leakage, graphics, verbose, overwrite)\u001b[0m\n\u001b[1;32m   1106\u001b[0m         \u001b[39melse\u001b[39;00m:\n\u001b[1;32m   1107\u001b[0m             msg(message,origin\u001b[39m=\u001b[39m\u001b[39m\"\u001b[39m\u001b[39msimobserve\u001b[39m\u001b[39m\"\u001b[39m)\n\u001b[0;32m-> 1108\u001b[0m     sm\u001b[39m.\u001b[39;49mpredict(imagename\u001b[39m=\u001b[39;49mnewmodel,complist\u001b[39m=\u001b[39;49mcomplist)\n\u001b[1;32m   1109\u001b[0m \u001b[39melse\u001b[39;00m:   \u001b[39m# if we're doing only components\u001b[39;00m\n\u001b[1;32m   1110\u001b[0m     \u001b[39m# XXX will 2 cl work?\u001b[39;00m\n\u001b[1;32m   1111\u001b[0m     \u001b[39mif\u001b[39;00m docalibrator:\n",
      "File \u001b[0;32m~/astro-env/lib/python3.8/site-packages/casatools/simulator.py:251\u001b[0m, in \u001b[0;36msimulator.predict\u001b[0;34m(self, imagename, complist, incremental)\u001b[0m\n\u001b[1;32m    230\u001b[0m \u001b[39mdef\u001b[39;00m \u001b[39mpredict\u001b[39m(\u001b[39mself\u001b[39m, imagename\u001b[39m=\u001b[39m[  ], complist\u001b[39m=\u001b[39m\u001b[39m'\u001b[39m\u001b[39m'\u001b[39m, incremental\u001b[39m=\u001b[39m\u001b[39mFalse\u001b[39;00m):\n\u001b[1;32m    231\u001b[0m \u001b[39m    \u001b[39m\u001b[39m\"\"\"Predict astronomical data from an image.  The (u,v) coordinates\u001b[39;00m\n\u001b[1;32m    232\u001b[0m \u001b[39m    already exist, either from a MeasurementSet we have read in or by\u001b[39;00m\n\u001b[1;32m    233\u001b[0m \u001b[39m    generating the MeasurementSet coordinates and empty data through\u001b[39;00m\n\u001b[0;32m   (...)\u001b[0m\n\u001b[1;32m    249\u001b[0m \u001b[39m    \u001b[39;00m\n\u001b[1;32m    250\u001b[0m \u001b[39m    \"\"\"\u001b[39;00m\n\u001b[0;32m--> 251\u001b[0m     \u001b[39mreturn\u001b[39;00m \u001b[39mself\u001b[39;49m\u001b[39m.\u001b[39;49m_swigobj\u001b[39m.\u001b[39;49mpredict(imagename, complist, incremental)\n",
      "File \u001b[0;32m~/astro-env/lib/python3.8/site-packages/casatools/__casac__/simulator.py:870\u001b[0m, in \u001b[0;36msimulator.predict\u001b[0;34m(self, *args, **kwargs)\u001b[0m\n\u001b[1;32m    830\u001b[0m \u001b[39mdef\u001b[39;00m \u001b[39mpredict\u001b[39m(\u001b[39mself\u001b[39m, \u001b[39m*\u001b[39margs, \u001b[39m*\u001b[39m\u001b[39m*\u001b[39mkwargs):\n\u001b[1;32m    831\u001b[0m \u001b[39m    \u001b[39m\u001b[39m\"\"\"\u001b[39;00m\n\u001b[1;32m    832\u001b[0m \u001b[39m    predict(self, _imagename, _complist, _incremental) -> bool\u001b[39;00m\n\u001b[1;32m    833\u001b[0m \n\u001b[0;32m   (...)\u001b[0m\n\u001b[1;32m    868\u001b[0m \n\u001b[1;32m    869\u001b[0m \u001b[39m    \"\"\"\u001b[39;00m\n\u001b[0;32m--> 870\u001b[0m     \u001b[39mreturn\u001b[39;00m _simulator\u001b[39m.\u001b[39;49msimulator_predict(\u001b[39mself\u001b[39;49m, \u001b[39m*\u001b[39;49margs, \u001b[39m*\u001b[39;49m\u001b[39m*\u001b[39;49mkwargs)\n",
      "\u001b[0;31mKeyboardInterrupt\u001b[0m: "
     ]
    }
   ],
   "source": [
    "import simulator as sm\n",
    "import os\n",
    "import numpy as np\n",
    "from datetime import date \n",
    "import matplotlib.pyplot as plt\n",
    "import astropy.units as U\n",
    "from casatasks import exportfits, simobserve, tclean\n",
    "times = [4.27 * 60, 1.85 * 60, 4.88 * 50, 5.15 * 60,  5.15 * 60, 3.47 * 60, 14.25 * 60]\n",
    "crop = False\n",
    "flatten = True\n",
    "cycle = 3\n",
    "antenna_config = 4\n",
    "band = 3\n",
    "n_pxs = 256\n",
    "main_path = '/home/michele/GitHub/ALMASim'\n",
    "data_dir = '/home/michele/casa-data'\n",
    "project = 'sims'\n",
    "\n",
    "if not os.path.exists(data_dir):\n",
    "    os.makedirs(data_dir)\n",
    "output_dir = os.path.join(data_dir, \"spatially_bounded\")\n",
    "if not os.path.exists(output_dir):\n",
    "    os.makedirs(output_dir)\n",
    "plot_dir = os.path.join(output_dir, \"plots\")\n",
    "if not os.path.exists(plot_dir):\n",
    "    os.makedirs(plot_dir)\n",
    "cycle_name = 'cycle{}'.format(int(cycle))\n",
    "antenna_name = 'alma.cycle{}.0.{}'.format(cycle, antenna_config)\n",
    "antennalist = os.path.join(main_path, \"antenna_config\", cycle_name, antenna_name + '.cfg')\n",
    "spatial_resolution = sm.get_spatial_resolution(band, antenna_config)\n",
    "print('Spatial Resolution:', spatial_resolution)\n",
    "central_freq= sm.get_band_central_freq(band)\n",
    "print('Central Frequency: ', central_freq)\n",
    "max_baseline = sm.get_max_baseline_from_antenna_config(antennalist)\n",
    "central_freq = sm.get_band_central_freq(band)\n",
    "beam_size = sm.compute_beam_size_from_max_baseline(max_baseline, central_freq)\n",
    "fov = sm.get_fov([band])[0]\n",
    "cell_size = beam_size / 5\n",
    "print(max_baseline, beam_size)\n",
    "n_px = int(fov / cell_size)\n",
    "n_px = 256\n",
    "bandwidth = 1000\n",
    "inwidth = 10\n",
    "fwhm_x = 10 * cell_size * np.random.rand() + cell_size\n",
    "fwhm_y = 10 * cell_size  * np.random.rand() + cell_size\n",
    "fwhm_z = 0.1 * bandwidth * np.random.rand() + inwidth\n",
    "print('FWHM X:', fwhm_x)\n",
    "print('FWHM Y:', fwhm_y)\n",
    "print('FWHM Z:', fwhm_z)\n",
    "n_channels = int(bandwidth / inwidth)\n",
    "print('Number of Channels:', n_channels)\n",
    "i = 0\n",
    "n_sources = 0\n",
    "ra, dec = 0, 0\n",
    "pa = 128\n",
    "min_sep_spatial = 0\n",
    "min_sep_frequency = 0\n",
    "rest_frequency = 1440.4\n",
    "serendipitous = False\n",
    "filename = sm.generate_pointlike_skymodel(i, output_dir, rest_frequency, \n",
    "                                                   inwidth * U.MHz, fwhm_z * U.MHz,\n",
    "                                                   central_freq * U.GHz, n_px, \n",
    "                                                   n_channels, ra * U.deg, dec * U.deg,\n",
    "                                                   spatial_resolution * U.arcsec, plot_dir)\n",
    "\n",
    "totaltime = 1.85 * 60\n",
    "simobserve(\n",
    "    skymodel=filename,\n",
    "    project=project,\n",
    "    indirection=\"J2000 19h30m00 -40d00m00\",\n",
    "    incell=\"{}arcsec\".format(cell_size),\n",
    "    incenter='{}GHz'.format(central_freq),\n",
    "    inwidth=\"{}MHz\".format(inwidth),\n",
    "    inbright=\"0.001Jy/pixel\",\n",
    "    setpointings=True,\n",
    "    obsmode='int',\n",
    "    antennalist=antennalist,\n",
    "    totaltime=\"{}s\".format(totaltime),\n",
    "    integration=\"{0}s\".format(totaltime),\n",
    "    graphics='none',\n",
    "    overwrite=True,\n",
    "    thermalnoise=\"tsys-atm\",\n",
    ")\n",
    "tclean(\n",
    "    vis=os.path.join(project, \"{}.{}.noisy.ms\".format(project, antenna_name)),\n",
    "    imagename=os.path.join(project, '{}.{}'.format(project, antenna_name)),\n",
    "    imsize=[n_px, n_px],\n",
    "    cell=\"{}arcsec\".format(cell_size),\n",
    "    specmode=\"cube\",\n",
    "    niter=0,\n",
    "    fastnoise=False,\n",
    "    calcpsf=True,\n",
    "    pbcor=True,\n",
    "    pblimit=0.2,\n",
    ")\n",
    "exportfits(imagename=os.path.join(project, '{}.{}.image'.format(project, antenna_name)), \n",
    "           fitsimage=os.path.join(output_dir, \"dirty_cube_\" + str(i) +\".fits\"), overwrite=True)\n",
    "exportfits(imagename=os.path.join(project, '{}.{}.skymodel'.format(project, antenna_name)), \n",
    "           fitsimage=os.path.join(output_dir, \"clean_cube_\" + str(i) +\".fits\"), overwrite=True)\n",
    "clean, clean_header = sm.load_fits(os.path.join(output_dir, \"clean_cube_\" + str(i) +\".fits\"))\n",
    "dirty, dirty_header = sm.load_fits(os.path.join(output_dir, \"dirty_cube_\" + str(i) +\".fits\"))\n",
    "print('Cropping and Saving Plots')\n",
    "if crop == True:\n",
    "    left = int((clean.shape[-1] - n_pxs) / 2)\n",
    "    clean_cube = clean[:, :,  left:left+int(n_pxs), left:left+int(n_pxs)]\n",
    "    dirty_cube = dirty[:, :, left:left+int(n_pxs), left:left+int(n_pxs)]\n",
    "    if flatten == True:\n",
    "        clean_cube = np.expand_dims(np.sum(clean_cube, axis=1), axis=1)\n",
    "        dirty_cube = np.expand_dims(np.sum(dirty_cube, axis=1), axis=1)\n",
    "        \n",
    "    sm.write_numpy_to_fits(clean_cube, clean_header, os.path.join(output_dir, \"clean_cube_\" + str(i) +\".fits\"))\n",
    "    sm.write_numpy_to_fits(dirty_cube, dirty_header, os.path.join(output_dir, \"dirty_cube_\" + str(i) +\".fits\"))\n",
    "sm.plotter(i, output_dir, plot_dir)"
   ]
  },
  {
   "cell_type": "code",
   "execution_count": 7,
   "metadata": {},
   "outputs": [
    {
     "name": "stdout",
     "output_type": "stream",
     "text": [
      "(100, 256, 256)\n"
     ]
    },
    {
     "data": {
      "image/png": "[encoded data removed]",
      "text/plain": [
       "<Figure size 640x480 with 2 Axes>"
      ]
     },
     "metadata": {},
     "output_type": "display_data"
    }
   ],
   "source": [
    "import simulator as sm\n",
    "import os\n",
    "import numpy as np\n",
    "from datetime import date \n",
    "import matplotlib.pyplot as plt\n",
    "import astropy.units as U\n",
    "from casatasks import exportfits, simobserve, tclean\n",
    "i = 0\n",
    "data_dir = '/home/michele/casa-data'\n",
    "output_dir = os.path.join(data_dir, \"spatially_bounded\")\n",
    "data, header = sm.load_fits(os.path.join(output_dir, \"skymodel_\" + str(i) +\".fits\"))\n",
    "print(data.shape)\n",
    "image = np.sum(data, axis=0)\n",
    "plt.figure()\n",
    "plt.imshow(image)\n",
    "plt.colorbar()\n",
    "plt.show()"
   ]
  },
  {
   "cell_type": "code",
   "execution_count": null,
   "metadata": {},
   "outputs": [],
   "source": []
  },
  {
   "cell_type": "code",
   "execution_count": null,
   "metadata": {},
   "outputs": [],
   "source": []
  },
  {
   "cell_type": "code",
   "execution_count": null,
   "metadata": {},
   "outputs": [],
   "source": []
  },
  {
   "cell_type": "code",
   "execution_count": 4,
   "metadata": {},
   "outputs": [
    {
     "name": "stdout",
     "output_type": "stream",
     "text": [
      "2.4291621329582047 0.3128650779165905\n",
      "Central Frequency:  100\n",
      "Beam Size (arcsec): 0.3128650779165905\n",
      "Field of View (arcsec): 62.867243742793704\n",
      "Cell Size (arcsec):  0.0625730155833181\n",
      "Number of Pixels: 1004\n"
     ]
    }
   ],
   "source": [
    "import simulator as sm\n",
    "import simulator as sm\n",
    "\n",
    "cycle = 3\n",
    "antenna_config = 4\n",
    "band = 3\n",
    "antennalist = \"/home/michele/GitHub/ALMASim/antenna_config/cycle{}/alma.cycle{}.0.{}.cfg\".format(cycle, cycle, antenna_config) \n",
    "max_baseline = sm.get_max_baseline_from_antenna_config(antennalist)\n",
    "central_freq = sm.get_band_central_freq(band)\n",
    "beam_size = sm.compute_beam_size_from_max_baseline(max_baseline, central_freq)\n",
    "fov = sm.get_fov([band])[0]\n",
    "cell_size = beam_size / 5\n",
    "print(max_baseline, beam_size)\n",
    "n_px = int(fov / cell_size)\n",
    "print('Central Frequency: ', central_freq)\n",
    "print('Beam Size (arcsec):', beam_size)\n",
    "print('Field of View (arcsec):', fov)\n",
    "print('Cell Size (arcsec): ', cell_size)\n",
    "print('Number of Pixels:', n_px)\n"
   ]
  }
 ],
 "metadata": {
  "kernelspec": {
   "display_name": "casa6.5",
   "language": "python",
   "name": "python3"
  },
  "language_info": {
   "codemirror_mode": {
    "name": "ipython",
    "version": 3
   },
   "file_extension": ".py",
   "mimetype": "text/x-python",
   "name": "python",
   "nbconvert_exporter": "python",
   "pygments_lexer": "ipython3",
   "version": "3.8.17"
  },
  "orig_nbformat": 4
 },
 "nbformat": 4,
 "nbformat_minor": 2
}
