{
 "cells": [
  {
   "cell_type": "code",
   "execution_count": 5,
   "metadata": {},
   "outputs": [
    {
     "name": "stdout",
     "output_type": "stream",
     "text": [
      "Spatial Resolution: 0.92\n",
      "Central Frequency:  100\n",
      "FWHM X: 0.2016539795389247\n",
      "FWHM Y: 0.3531040773507399\n",
      "FWHM Z: 109.26236330916176\n",
      "Number of Channels: 100\n",
      "Generating point-like source at position (511, 511, 50)\n",
      "Skymodel saved to /home/michele/casa-data/sim_cycle3_antennaconfig4_band3_brightness10_totaltime120_scantime10_cropped_to256/skymodel_0.fits\n"
     ]
    },
    {
     "name": "stderr",
     "output_type": "stream",
     "text": [
      "\n",
      "0%....10....20....30....40....50....60....70....80....90....100%\n",
      "\n",
      "0%....10....20....30....40....50....60....70....80....90....100%\n",
      "\n",
      "0%....10....20....30....40....50....60....70....80....90....100%\n",
      "2023-09-24 14:02:52\tWARN\ttask_tclean::SIImageStore::restore (file /source/casa6/casatools/src/code/synthesis/ImagerObjects/SIImageStore.cc, line 2265)\tRestoring with an empty model image. Only residuals will be processed to form the output restored image.\n"
     ]
    },
    {
     "name": "stdout",
     "output_type": "stream",
     "text": [
      "Cropping and Saving Plots\n"
     ]
    }
   ],
   "source": [
    "import simulator as sm\n",
    "import os\n",
    "import numpy as np\n",
    "from datetime import date \n",
    "import matplotlib.pyplot as plt\n",
    "import astropy.units as U\n",
    "from casatasks import exportfits, simobserve, tclean\n",
    "times = [4.27 * 60, 1.85 * 60, 4.88 * 50, 5.15 * 60,  5.15 * 60, 3.47 * 60, 14.25 * 60]\n",
    "crop = True\n",
    "flatten = True\n",
    "cycle = 3\n",
    "antenna_config = 4\n",
    "band = 3\n",
    "n_pxs = 256\n",
    "inbright = 10\n",
    "totaltime = 2 * 60\n",
    "integration = 10\n",
    "if crop == True:\n",
    "    output_dir = 'sim_cycle{}_antennaconfig{}_band{}_brightness{}_totaltime{}_scantime{}_cropped_to{}'.format(cycle, antenna_config, band, inbright, totaltime, integration, n_pxs)\n",
    "elif n_pxs is None and crop == False:\n",
    "    output_dir = 'sim_cycle{}_antennaconfig{}_band{}_brightness{}_totaltime{}_scantime{}'.format(cycle, antenna_config, band, inbright, totaltime, integration)\n",
    "else:\n",
    "    output_dir = 'sim_cycle{}_antennaconfig{}_band{}_brightness{}_totaltime{}_scantime{}_bounded_to{}'.format(cycle, antenna_config, band, inbright, totaltime, integration, n_pxs)\n",
    "\n",
    "main_path = '/home/michele/GitHub/ALMASim'\n",
    "data_dir = '/home/michele/casa-data'\n",
    "project = 'sims'\n",
    "\n",
    "if not os.path.exists(data_dir):\n",
    "    os.makedirs(data_dir)\n",
    "output_dir = os.path.join(data_dir, output_dir)\n",
    "if not os.path.exists(output_dir):\n",
    "    os.makedirs(output_dir)\n",
    "plot_dir = os.path.join(output_dir, \"plots\")\n",
    "if not os.path.exists(plot_dir):\n",
    "    os.makedirs(plot_dir)\n",
    "cycle_name = 'cycle{}'.format(int(cycle))\n",
    "antenna_name = 'alma.cycle{}.0.{}'.format(cycle, antenna_config)\n",
    "antennalist = os.path.join(main_path, \"antenna_config\", cycle_name, antenna_name + '.cfg')\n",
    "spatial_resolution = sm.get_spatial_resolution(band, antenna_config)\n",
    "print('Spatial Resolution:', spatial_resolution)\n",
    "central_freq= sm.get_band_central_freq(band)\n",
    "print('Central Frequency: ', central_freq)\n",
    "max_baseline = sm.get_max_baseline_from_antenna_config(antennalist)\n",
    "central_freq = sm.get_band_central_freq(band)\n",
    "beam_size = sm.compute_beam_size_from_max_baseline(max_baseline, central_freq)\n",
    "fov = sm.get_fov([band])[0]\n",
    "cell_size = beam_size / 5\n",
    "\n",
    "if n_pxs is None:\n",
    "    n_px = sm.closest_power_of_2(int(fov / cell_size))\n",
    "elif n_pxs is not None and crop is False:\n",
    "    n_px = int(n_pxs)\n",
    "else:\n",
    "    n_px = sm.closest_power_of_2(int(fov / cell_size))\n",
    "bandwidth = 1000\n",
    "inwidth = 10\n",
    "fwhm_x = 10 * cell_size * np.random.rand() + cell_size\n",
    "fwhm_y = 10 * cell_size  * np.random.rand() + cell_size\n",
    "fwhm_z = 0.1 * bandwidth * np.random.rand() + inwidth\n",
    "print('FWHM X:', fwhm_x)\n",
    "print('FWHM Y:', fwhm_y)\n",
    "print('FWHM Z:', fwhm_z)\n",
    "n_channels = int(bandwidth / inwidth)\n",
    "print('Number of Channels:', n_channels)\n",
    "i = 0\n",
    "n_sources = 0\n",
    "ra, dec = 0, 0\n",
    "pa = 128\n",
    "min_sep_spatial = 0\n",
    "min_sep_frequency = 0\n",
    "rest_frequency = 1440.4\n",
    "serendipitous = False\n",
    "filename = sm.generate_pointlike_skymodel(i, output_dir, rest_frequency, \n",
    "                                                   inwidth * U.MHz, fwhm_z * U.MHz,\n",
    "                                                   central_freq * U.GHz, n_px, \n",
    "                                                   n_channels, ra * U.deg, dec * U.deg,\n",
    "                                                   spatial_resolution * U.arcsec, plot_dir)\n",
    "\n",
    "\n",
    "simobserve(\n",
    "    skymodel=filename,\n",
    "    project=project,\n",
    "    indirection=\"J2000 19h30m00 -40d00m00\",\n",
    "    incell=\"{}arcsec\".format(cell_size),\n",
    "    incenter='{}GHz'.format(central_freq),\n",
    "    inwidth=\"{}MHz\".format(inwidth),\n",
    "    inbright=\"{}Jy/pix\".format(inbright),\n",
    "    setpointings=True,\n",
    "    obsmode='int',\n",
    "    antennalist=antennalist,\n",
    "    totaltime=\"{}s\".format(totaltime),\n",
    "    integration=\"{}s\".format(integration),\n",
    "    graphics='none',\n",
    "    overwrite=True,\n",
    "    thermalnoise=\"tsys-atm\",\n",
    ")\n",
    "tclean(\n",
    "    vis=os.path.join(project, \"{}.{}.noisy.ms\".format(project, antenna_name)),\n",
    "    imagename=os.path.join(project, '{}.{}'.format(project, antenna_name)),\n",
    "    imsize=[n_px, n_px],\n",
    "    cell=\"{}arcsec\".format(cell_size),\n",
    "    specmode=\"cube\",\n",
    "    niter=0,\n",
    "    fastnoise=False,\n",
    "    calcpsf=True,\n",
    "    pbcor=True,\n",
    "    pblimit=0.2,\n",
    ")\n",
    "exportfits(imagename=os.path.join(project, '{}.{}.image'.format(project, antenna_name)), \n",
    "           fitsimage=os.path.join(output_dir, \"dirty_cube_\" + str(i) +\".fits\"), overwrite=True)\n",
    "exportfits(imagename=os.path.join(project, '{}.{}.skymodel'.format(project, antenna_name)), \n",
    "           fitsimage=os.path.join(output_dir, \"clean_cube_\" + str(i) +\".fits\"), overwrite=True)\n",
    "clean, clean_header = sm.load_fits(os.path.join(output_dir, \"clean_cube_\" + str(i) +\".fits\"))\n",
    "dirty, dirty_header = sm.load_fits(os.path.join(output_dir, \"dirty_cube_\" + str(i) +\".fits\"))\n",
    "print('Cropping and Saving Plots')\n",
    "if crop == True:\n",
    "    left = int((clean.shape[-1] - n_pxs) / 2)\n",
    "    clean_cube = clean[:, :,  left:left+int(n_pxs), left:left+int(n_pxs)]\n",
    "    dirty_cube = dirty[:, :, left:left+int(n_pxs), left:left+int(n_pxs)]\n",
    "    if flatten == True:\n",
    "        clean_cube = np.expand_dims(np.sum(clean_cube, axis=1), axis=1)\n",
    "        dirty_cube = np.expand_dims(np.sum(dirty_cube, axis=1), axis=1)\n",
    "        \n",
    "    sm.write_numpy_to_fits(clean_cube, clean_header, os.path.join(output_dir, \"clean_cube_\" + str(i) +\".fits\"))\n",
    "    sm.write_numpy_to_fits(dirty_cube, dirty_header, os.path.join(output_dir, \"dirty_cube_\" + str(i) +\".fits\"))\n",
    "sm.plotter(i, output_dir, plot_dir)"
   ]
  },
  {
   "cell_type": "code",
   "execution_count": null,
   "metadata": {},
   "outputs": [],
   "source": [
    "import simulator as sm\n",
    "import os\n",
    "import numpy as np\n",
    "from datetime import date \n",
    "import matplotlib.pyplot as plt\n",
    "import astropy.units as U\n",
    "from casatasks import exportfits, simobserve, tclean\n",
    "i = 0\n",
    "data_dir = '/home/michele/casa-data'\n",
    "output_dir = os.path.join(data_dir, \"spatially_bounded\")\n",
    "data, header = sm.load_fits(os.path.join(output_dir, \"skymodel_\" + str(i) +\".fits\"))\n",
    "print(data.shape)\n",
    "image = np.sum(data, axis=0)\n",
    "plt.figure()\n",
    "plt.imshow(image)\n",
    "plt.colorbar()\n",
    "plt.show()"
   ]
  },
  {
   "cell_type": "code",
   "execution_count": 4,
   "metadata": {},
   "outputs": [
    {
     "data": {
      "text/plain": [
       "1024"
      ]
     },
     "execution_count": 4,
     "metadata": {},
     "output_type": "execute_result"
    }
   ],
   "source": [
    "import math\n",
    "\n",
    "\n",
    "\n",
    "                  \n",
    "    "
   ]
  },
  {
   "cell_type": "code",
   "execution_count": null,
   "metadata": {},
   "outputs": [],
   "source": []
  },
  {
   "cell_type": "markdown",
   "metadata": {},
   "source": [
    "ANDREA: il codice seguente prende un ciclo, una banda ed una configurazione e ti butta fuori la risoluzione spaziale e il FOV in arcosecondi"
   ]
  },
  {
   "cell_type": "code",
   "execution_count": 17,
   "metadata": {},
   "outputs": [
    {
     "name": "stdout",
     "output_type": "stream",
     "text": [
      "Central Frequency (GHz):  100\n",
      "Beam Size (arcsec): 0.3128650779165905\n",
      "Field of View (arcsec): 62.867243742793704\n",
      "Cell Size (arcsec):  0.0625730155833181\n",
      "Number of Pixels: 1004 x 1004\n"
     ]
    }
   ],
   "source": [
    "import simulator as sm\n",
    "import simulator as sm\n",
    "\n",
    "cycle = 3\n",
    "antenna_config = 4\n",
    "band = 3\n",
    "antennalist = \"/home/michele/GitHub/ALMASim/antenna_config/cycle{}/alma.cycle{}.0.{}.cfg\".format(cycle, cycle, antenna_config) \n",
    "max_baseline = sm.get_max_baseline_from_antenna_config(antennalist)\n",
    "central_freq = sm.get_band_central_freq(band)\n",
    "beam_size = sm.compute_beam_size_from_max_baseline(max_baseline, central_freq)\n",
    "fov = sm.get_fov([band])[0]\n",
    "cell_size = beam_size / 5\n",
    "n_px = int(fov / cell_size)\n",
    "print('Central Frequency (GHz): ', central_freq)\n",
    "print('Beam Size (arcsec):', beam_size)\n",
    "print('Field of View (arcsec):', fov)\n",
    "print('Cell Size (arcsec): ', cell_size)\n",
    "print('Number of Pixels: {} x {}'.format(n_px, n_px))\n"
   ]
  },
  {
   "cell_type": "code",
   "execution_count": 12,
   "metadata": {},
   "outputs": [
    {
     "name": "stdout",
     "output_type": "stream",
     "text": [
      "7.238600315808141\n"
     ]
    }
   ],
   "source": [
    "fov = sm.get_fov([10])[0]\n",
    "print(fov)"
   ]
  }
 ],
 "metadata": {
  "kernelspec": {
   "display_name": "casa6.5",
   "language": "python",
   "name": "python3"
  },
  "language_info": {
   "codemirror_mode": {
    "name": "ipython",
    "version": 3
   },
   "file_extension": ".py",
   "mimetype": "text/x-python",
   "name": "python",
   "nbconvert_exporter": "python",
   "pygments_lexer": "ipython3",
   "version": "3.8.17"
  },
  "orig_nbformat": 4
 },
 "nbformat": 4,
 "nbformat_minor": 2
}
