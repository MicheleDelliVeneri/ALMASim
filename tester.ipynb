{
 "cells": [
  {
   "cell_type": "code",
   "execution_count": 1,
   "metadata": {},
   "outputs": [
    {
     "name": "stdout",
     "output_type": "stream",
     "text": [
      "Spatial Resolution: 0.92\n",
      "Central Frequency:  100\n",
      "FWHM X: 0.42696932815473965\n",
      "FWHM Y: 0.6065547057651945\n",
      "FWHM Z: 82.3114618770339\n",
      "Number of Channels: 100\n",
      "Generating point-like source at position (127, 127, 50)\n",
      "Skymodel saved to /home/astro/Documents/casa-data/sim_cycle3_antennaconfig4_band3_brightness10_totaltime120_scantime10_bounded_to256/skymodel_0.fits\n"
     ]
    },
    {
     "name": "stderr",
     "output_type": "stream",
     "text": [
      "2023-10-02 13:21:03\tWARN\ttask_tclean::SIImageStore::restore (file /source/casa6/casatools/src/code/synthesis/ImagerObjects/SIImageStore.cc, line 2265)\tRestoring with an empty model image. Only residuals will be processed to form the output restored image.\n"
     ]
    },
    {
     "name": "stdout",
     "output_type": "stream",
     "text": [
      "Cropping and Saving Plots\n"
     ]
    }
   ],
   "source": [
    "import simulator as sm\n",
    "import os\n",
    "import numpy as np\n",
    "from datetime import date \n",
    "import matplotlib.pyplot as plt\n",
    "import astropy.units as U\n",
    "from casatasks import exportfits, simobserve, tclean\n",
    "times = [4.27 * 60, 1.85 * 60, 4.88 * 50, 5.15 * 60,  5.15 * 60, 3.47 * 60, 14.25 * 60]\n",
    "crop = False\n",
    "flatten = True\n",
    "cycle = 3\n",
    "antenna_config = 4\n",
    "band = 3\n",
    "n_pxs = 256\n",
    "inbright = 10\n",
    "totaltime = 2 * 60\n",
    "integration = 10\n",
    "if crop == True:\n",
    "    output_dir = 'sim_cycle{}_antennaconfig{}_band{}_brightness{}_totaltime{}_scantime{}_cropped_to{}'.format(cycle, antenna_config, band, inbright, totaltime, integration, n_pxs)\n",
    "elif n_pxs is None and crop == False:\n",
    "    output_dir = 'sim_cycle{}_antennaconfig{}_band{}_brightness{}_totaltime{}_scantime{}'.format(cycle, antenna_config, band, inbright, totaltime, integration)\n",
    "else:\n",
    "    output_dir = 'sim_cycle{}_antennaconfig{}_band{}_brightness{}_totaltime{}_scantime{}_bounded_to{}'.format(cycle, antenna_config, band, inbright, totaltime, integration, n_pxs)\n",
    "\n",
    "main_path = '/home/astro/Documents/GitHub/ALMASim'\n",
    "data_dir = '/home/astro/Documents/casa-data'\n",
    "project = 'sims'\n",
    "\n",
    "if not os.path.exists(data_dir):\n",
    "    os.makedirs(data_dir)\n",
    "output_dir = os.path.join(data_dir, output_dir)\n",
    "if not os.path.exists(output_dir):\n",
    "    os.makedirs(output_dir)\n",
    "plot_dir = os.path.join(output_dir, \"plots\")\n",
    "if not os.path.exists(plot_dir):\n",
    "    os.makedirs(plot_dir)\n",
    "cycle_name = 'cycle{}'.format(int(cycle))\n",
    "antenna_name = 'alma.cycle{}.0.{}'.format(cycle, antenna_config)\n",
    "antennalist = os.path.join(main_path, \"antenna_config\", cycle_name, antenna_name + '.cfg')\n",
    "spatial_resolution = sm.get_spatial_resolution(band, antenna_config)\n",
    "print('Spatial Resolution:', spatial_resolution)\n",
    "central_freq= sm.get_band_central_freq(band)\n",
    "print('Central Frequency: ', central_freq)\n",
    "max_baseline = sm.get_max_baseline_from_antenna_config(antennalist)\n",
    "central_freq = sm.get_band_central_freq(band)\n",
    "beam_size = sm.compute_beam_size_from_max_baseline(max_baseline, central_freq)\n",
    "fov = sm.get_fov([band])[0]\n",
    "cell_size = beam_size / 5\n",
    "\n",
    "if n_pxs is None:\n",
    "    n_px = sm.closest_power_of_2(int(fov / cell_size))\n",
    "elif n_pxs is not None and crop is False:\n",
    "    n_px = int(n_pxs)\n",
    "else:\n",
    "    n_px = sm.closest_power_of_2(int(fov / cell_size))\n",
    "bandwidth = 1000\n",
    "inwidth = 10\n",
    "fwhm_x = 10 * cell_size * np.random.rand() + cell_size\n",
    "fwhm_y = 10 * cell_size  * np.random.rand() + cell_size\n",
    "fwhm_z = 0.1 * bandwidth * np.random.rand() + inwidth\n",
    "print('FWHM X:', fwhm_x)\n",
    "print('FWHM Y:', fwhm_y)\n",
    "print('FWHM Z:', fwhm_z)\n",
    "n_channels = int(bandwidth / inwidth)\n",
    "print('Number of Channels:', n_channels)\n",
    "i = 0\n",
    "n_sources = 0\n",
    "ra, dec = 0, 0\n",
    "pa = 128\n",
    "min_sep_spatial = 0\n",
    "min_sep_frequency = 0\n",
    "rest_frequency = 1440.4\n",
    "serendipitous = False\n",
    "filename = sm.generate_pointlike_skymodel(i, output_dir, rest_frequency, \n",
    "                                                   inwidth * U.MHz, fwhm_z * U.MHz,\n",
    "                                                   central_freq * U.GHz, n_px, \n",
    "                                                   n_channels, ra * U.deg, dec * U.deg,\n",
    "                                                   spatial_resolution * U.arcsec, plot_dir)\n",
    "\n",
    "\n",
    "simobserve(\n",
    "    skymodel=filename,\n",
    "    project=project,\n",
    "    indirection=\"J2000 19h30m00 -40d00m00\",\n",
    "    incell=\"{}arcsec\".format(cell_size),\n",
    "    incenter='{}GHz'.format(central_freq),\n",
    "    inwidth=\"{}MHz\".format(inwidth),\n",
    "    inbright=\"{}Jy/pix\".format(inbright),\n",
    "    setpointings=True,\n",
    "    obsmode='int',\n",
    "    antennalist=antennalist,\n",
    "    totaltime=\"{}s\".format(totaltime),\n",
    "    integration=\"{}s\".format(integration),\n",
    "    graphics='none',\n",
    "    overwrite=True,\n",
    "    thermalnoise=\"tsys-atm\",\n",
    ")\n",
    "tclean(\n",
    "    vis=os.path.join(project, \"{}.{}.noisy.ms\".format(project, antenna_name)),\n",
    "    imagename=os.path.join(project, '{}.{}'.format(project, antenna_name)),\n",
    "    imsize=[n_px, n_px],\n",
    "    cell=\"{}arcsec\".format(cell_size),\n",
    "    specmode=\"cube\",\n",
    "    niter=0,\n",
    "    fastnoise=False,\n",
    "    calcpsf=True,\n",
    "    pbcor=True,\n",
    "    pblimit=0.2,\n",
    ")\n",
    "exportfits(imagename=os.path.join(project, '{}.{}.image'.format(project, antenna_name)), \n",
    "           fitsimage=os.path.join(output_dir, \"dirty_cube_\" + str(i) +\".fits\"), overwrite=True)\n",
    "exportfits(imagename=os.path.join(project, '{}.{}.skymodel'.format(project, antenna_name)), \n",
    "           fitsimage=os.path.join(output_dir, \"clean_cube_\" + str(i) +\".fits\"), overwrite=True)\n",
    "clean, clean_header = sm.load_fits(os.path.join(output_dir, \"clean_cube_\" + str(i) +\".fits\"))\n",
    "dirty, dirty_header = sm.load_fits(os.path.join(output_dir, \"dirty_cube_\" + str(i) +\".fits\"))\n",
    "print('Cropping and Saving Plots')\n",
    "if crop == True:\n",
    "    left = int((clean.shape[-1] - n_pxs) / 2)\n",
    "    clean_cube = clean[:, :,  left:left+int(n_pxs), left:left+int(n_pxs)]\n",
    "    dirty_cube = dirty[:, :, left:left+int(n_pxs), left:left+int(n_pxs)]\n",
    "    if flatten == True:\n",
    "        clean_cube = np.expand_dims(np.sum(clean_cube, axis=1), axis=1)\n",
    "        dirty_cube = np.expand_dims(np.sum(dirty_cube, axis=1), axis=1)\n",
    "        \n",
    "    sm.write_numpy_to_fits(clean_cube, clean_header, os.path.join(output_dir, \"clean_cube_\" + str(i) +\".fits\"))\n",
    "    sm.write_numpy_to_fits(dirty_cube, dirty_header, os.path.join(output_dir, \"dirty_cube_\" + str(i) +\".fits\"))\n",
    "sm.plotter(i, output_dir, plot_dir)"
   ]
  },
  {
   "cell_type": "code",
   "execution_count": 13,
   "metadata": {},
   "outputs": [
    {
     "name": "stdout",
     "output_type": "stream",
     "text": [
      "<class 'pandas.core.frame.DataFrame'>\n",
      "RangeIndex: 12535 entries, 0 to 12534\n",
      "Data columns (total 7 columns):\n",
      " #   Column      Non-Null Count  Dtype  \n",
      "---  ------      --------------  -----  \n",
      " 0   P_Late      12535 non-null  float64\n",
      " 1   P_S0        12535 non-null  float64\n",
      " 2   P_Sab       12535 non-null  float64\n",
      " 3   Sigma_Late  12535 non-null  float64\n",
      " 4   Sigma_S0    12535 non-null  float64\n",
      " 5   Sigma_Sab   12535 non-null  float64\n",
      " 6   SubhaloID   12535 non-null  float64\n",
      "dtypes: float64(7)\n",
      "memory usage: 685.6 KB\n",
      "0             0.0\n",
      "1             1.0\n",
      "2             2.0\n",
      "3             3.0\n",
      "4             4.0\n",
      "           ...   \n",
      "12530    704187.0\n",
      "12531    719337.0\n",
      "12532    727485.0\n",
      "12533    738596.0\n",
      "12534    752194.0\n",
      "Name: SubhaloID, Length: 12535, dtype: float64\n"
     ]
    }
   ],
   "source": [
    "import simulator as sm\n",
    "file = 'morphologies_deeplearn.hdf5'\n",
    "db = sm.get_data_from_hdf(file)\n",
    "db.info()\n",
    "print(db['SubhaloID'])"
   ]
  },
  {
   "cell_type": "code",
   "execution_count": 15,
   "metadata": {},
   "outputs": [
    {
     "name": "stdout",
     "output_type": "stream",
     "text": [
      "BoxSize 75000.0\n",
      "FlagDoubleprecision 0\n",
      "Git_commit b'd203ec8b07c7e2bdda5f608aa0babea46d603699'\n",
      "Git_date b'Thu Apr 7 14:14:27 2016 +0200'\n",
      "HubbleParam 0.6774\n",
      "Ngroups_ThisFile 1\n",
      "Ngroups_Total 6291349\n",
      "Nids_ThisFile 11830481\n",
      "Nids_Total 5263038490\n",
      "Nsubgroups_ThisFile 17185\n",
      "Nsubgroups_Total 4371211\n",
      "NumFiles 448\n",
      "Omega0 0.3089\n",
      "OmegaLambda 0.6911\n",
      "Redshift 2.220446049250313e-16\n",
      "Time 0.9999999999999998\n"
     ]
    }
   ],
   "source": [
    "basePath = '/home/astro/Documents/TNGData/TNG100-1/output/'\n",
    "import h5py\n",
    "import numpy as np\n",
    "import simulator as sm\n",
    "snapNum = 99\n",
    "data_header = sm.loadHeader(basePath, snapNum)\n",
    "for key, value in data_header.items():\n",
    "    print(key, value)"
   ]
  },
  {
   "cell_type": "code",
   "execution_count": 26,
   "metadata": {},
   "outputs": [
    {
     "name": "stdout",
     "output_type": "stream",
     "text": [
      "4.422650863276812 Mpc\n"
     ]
    }
   ],
   "source": [
    "import astropy.units as u\n",
    "import astropy.cosmology.units as cu\n",
    "from astropy.cosmology import Planck13\n",
    "z = 0.001 * cu.redshift\n",
    "d = z.to(u.Mpc, cu.redshift_distance(Planck13, kind=\"comoving\"))\n",
    "print(d)"
   ]
  },
  {
   "cell_type": "code",
   "execution_count": null,
   "metadata": {},
   "outputs": [],
   "source": [
    "with h5py.File(sm.offsetPath(basePath, snapNum), \"r\") as f:\n",
    "    offsets = f[\"FileOffsets/\" + gName][()]\n"
   ]
  },
  {
   "cell_type": "code",
   "execution_count": 1,
   "metadata": {},
   "outputs": [
    {
     "name": "stdout",
     "output_type": "stream",
     "text": [
      "/home/astro/Documents/casa-data/atmospheric_errors/sim_0\n",
      "sim_0.alma.cycle9.0.10.noisy.ms\n",
      "/home/astro/Documents/casa-data/atmospheric_errors/sim_0/sim_0.alma.cycle9.0.10.noisy.ms\n",
      "/home/astro/Documents/casa-data/atmospheric_errors/sim_0_atmosphere.gcal\n"
     ]
    }
   ],
   "source": [
    "# Simulate atmospherics\n",
    "import simulator as sm\n",
    "import os\n",
    "project = '/home/astro/Documents/casa-data/atmospheric_errors/sim_0'\n",
    "project_folder = 'sim_0'\n",
    "cycle = 9\n",
    "antenna_name = 'alma.cycle{}.0.10'.format(cycle)\n",
    "cycle = 'cycle{}'.format(cycle)\n",
    "print(project)\n",
    "main_path = '/home/astro/Documents/GitHub/ALMASim'\n",
    "scale = 0.3\n",
    "ms_name = \"{}.{}.noisy.ms\".format(project_folder, antenna_name)\n",
    "print(ms_name)\n",
    "ms = os.path.join(project, ms_name)\n",
    "print(ms)\n",
    "antennalist = os.path.join(main_path, \"antenna_config\", cycle, antenna_name + '.cfg')\n",
    "\n",
    "\n",
    "sm.simulate_atmospheric_noise(project, scale, ms, antennalist)"
   ]
  },
  {
   "cell_type": "code",
   "execution_count": 5,
   "metadata": {},
   "outputs": [
    {
     "data": {
      "text/plain": [
       "True"
      ]
     },
     "execution_count": 5,
     "metadata": {},
     "output_type": "execute_result"
    }
   ],
   "source": [
    "gcaltable = '/home/astro/Documents/casa-data/atmospheric_errors/sim_0_atmosphere.gcal'\n",
    "from casatools import table \n",
    "tb = table()\n",
    "tb.open(gcaltable)"
   ]
  },
  {
   "cell_type": "code",
   "execution_count": 1,
   "metadata": {},
   "outputs": [
    {
     "ename": "ModuleNotFoundError",
     "evalue": "No module named 'Hdecompose'",
     "output_type": "error",
     "traceback": [
      "\u001b[0;31m---------------------------------------------------------------------------\u001b[0m",
      "\u001b[0;31mModuleNotFoundError\u001b[0m                       Traceback (most recent call last)",
      "\u001b[1;32m/Users/michele/Documents/GitHub/ALMASim/tester.ipynb Cell 4\u001b[0m line \u001b[0;36m<cell line: 1>\u001b[0;34m()\u001b[0m\n\u001b[0;32m----> <a href='vscode-notebook-cell:/Users/michele/Documents/GitHub/ALMASim/tester.ipynb#W4sZmlsZQ%3D%3D?line=0'>1</a>\u001b[0m \u001b[39mimport\u001b[39;00m \u001b[39msimulator\u001b[39;00m \u001b[39mas\u001b[39;00m \u001b[39msm\u001b[39;00m\n\u001b[1;32m      <a href='vscode-notebook-cell:/Users/michele/Documents/GitHub/ALMASim/tester.ipynb#W4sZmlsZQ%3D%3D?line=1'>2</a>\u001b[0m cycle \u001b[39m=\u001b[39m \u001b[39m9\u001b[39m\n\u001b[1;32m      <a href='vscode-notebook-cell:/Users/michele/Documents/GitHub/ALMASim/tester.ipynb#W4sZmlsZQ%3D%3D?line=2'>3</a>\u001b[0m \u001b[39mfor\u001b[39;00m config_number \u001b[39min\u001b[39;00m \u001b[39mrange\u001b[39m(\u001b[39m1\u001b[39m, \u001b[39m10\u001b[39m):\n",
      "File \u001b[0;32m~/Documents/GitHub/ALMASim/simulator.py:27\u001b[0m, in \u001b[0;36m<module>\u001b[0;34m\u001b[0m\n\u001b[1;32m     25\u001b[0m \u001b[39mfrom\u001b[39;00m \u001b[39mcasatools\u001b[39;00m \u001b[39mimport\u001b[39;00m table\n\u001b[1;32m     26\u001b[0m \u001b[39mfrom\u001b[39;00m \u001b[39mcasatools\u001b[39;00m \u001b[39mimport\u001b[39;00m simulator \u001b[39mas\u001b[39;00m casa_simulator\n\u001b[0;32m---> 27\u001b[0m \u001b[39mfrom\u001b[39;00m \u001b[39mHdecompose\u001b[39;00m\u001b[39m.\u001b[39;00m\u001b[39matomic_frac\u001b[39;00m \u001b[39mimport\u001b[39;00m atomic_frac\n\u001b[1;32m     28\u001b[0m \u001b[39mfrom\u001b[39;00m \u001b[39millustris_python\u001b[39;00m\u001b[39m.\u001b[39;00m\u001b[39msnapshot\u001b[39;00m \u001b[39mimport\u001b[39;00m getSnapOffsets, loadSubset\n\u001b[1;32m     29\u001b[0m \u001b[39mfrom\u001b[39;00m \u001b[39mmartini\u001b[39;00m \u001b[39mimport\u001b[39;00m DataCube, Martini\n",
      "\u001b[0;31mModuleNotFoundError\u001b[0m: No module named 'Hdecompose'"
     ]
    }
   ],
   "source": [
    "import simulator as sm\n",
    "cycle = 9\n",
    "for config_number in range(1, 10):\n",
    "    antenna_name = 'alma.cycle{}.0.{}'.format(cycle, config_number)\n",
    "    main_path = '/home/astro/Documents/GitHub/ALMASim'\n",
    "    antenna_path = os.path.join(main_path, \"antenna_config\", 'cycle{}'.format(cycle), antenna_name + '.cfg')\n",
    "    max_baseline = sm.get_max_baseline_from_antenna_config(antenna_path)\n",
    "    print(max_baseline)"
   ]
  },
  {
   "cell_type": "markdown",
   "metadata": {},
   "source": []
  }
 ],
 "metadata": {
  "kernelspec": {
   "display_name": "casa6.5",
   "language": "python",
   "name": "python3"
  },
  "language_info": {
   "codemirror_mode": {
    "name": "ipython",
    "version": 3
   },
   "file_extension": ".py",
   "mimetype": "text/x-python",
   "name": "python",
   "nbconvert_exporter": "python",
   "pygments_lexer": "ipython3",
   "version": "3.8.18"
  },
  "orig_nbformat": 4
 },
 "nbformat": 4,
 "nbformat_minor": 2
}
