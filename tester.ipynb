{
 "cells": [
  {
   "cell_type": "code",
   "execution_count": 1,
   "metadata": {},
   "outputs": [
    {
     "name": "stdout",
     "output_type": "stream",
     "text": [
      "Spatial Resolution: 0.92\n",
      "Central Frequency:  100\n",
      "FWHM X: 0.42696932815473965\n",
      "FWHM Y: 0.6065547057651945\n",
      "FWHM Z: 82.3114618770339\n",
      "Number of Channels: 100\n",
      "Generating point-like source at position (127, 127, 50)\n",
      "Skymodel saved to /home/astro/Documents/casa-data/sim_cycle3_antennaconfig4_band3_brightness10_totaltime120_scantime10_bounded_to256/skymodel_0.fits\n"
     ]
    },
    {
     "name": "stderr",
     "output_type": "stream",
     "text": [
      "2023-10-02 13:21:03\tWARN\ttask_tclean::SIImageStore::restore (file /source/casa6/casatools/src/code/synthesis/ImagerObjects/SIImageStore.cc, line 2265)\tRestoring with an empty model image. Only residuals will be processed to form the output restored image.\n"
     ]
    },
    {
     "name": "stdout",
     "output_type": "stream",
     "text": [
      "Cropping and Saving Plots\n"
     ]
    }
   ],
   "source": [
    "import simulator as sm\n",
    "import os\n",
    "import numpy as np\n",
    "from datetime import date \n",
    "import matplotlib.pyplot as plt\n",
    "import astropy.units as U\n",
    "from casatasks import exportfits, simobserve, tclean\n",
    "times = [4.27 * 60, 1.85 * 60, 4.88 * 50, 5.15 * 60,  5.15 * 60, 3.47 * 60, 14.25 * 60]\n",
    "crop = False\n",
    "flatten = True\n",
    "cycle = 3\n",
    "antenna_config = 4\n",
    "band = 3\n",
    "n_pxs = 256\n",
    "inbright = 10\n",
    "totaltime = 2 * 60\n",
    "integration = 10\n",
    "if crop == True:\n",
    "    output_dir = 'sim_cycle{}_antennaconfig{}_band{}_brightness{}_totaltime{}_scantime{}_cropped_to{}'.format(cycle, antenna_config, band, inbright, totaltime, integration, n_pxs)\n",
    "elif n_pxs is None and crop == False:\n",
    "    output_dir = 'sim_cycle{}_antennaconfig{}_band{}_brightness{}_totaltime{}_scantime{}'.format(cycle, antenna_config, band, inbright, totaltime, integration)\n",
    "else:\n",
    "    output_dir = 'sim_cycle{}_antennaconfig{}_band{}_brightness{}_totaltime{}_scantime{}_bounded_to{}'.format(cycle, antenna_config, band, inbright, totaltime, integration, n_pxs)\n",
    "\n",
    "main_path = '/home/astro/Documents/GitHub/ALMASim'\n",
    "data_dir = '/home/astro/Documents/casa-data'\n",
    "project = 'sims'\n",
    "\n",
    "if not os.path.exists(data_dir):\n",
    "    os.makedirs(data_dir)\n",
    "output_dir = os.path.join(data_dir, output_dir)\n",
    "if not os.path.exists(output_dir):\n",
    "    os.makedirs(output_dir)\n",
    "plot_dir = os.path.join(output_dir, \"plots\")\n",
    "if not os.path.exists(plot_dir):\n",
    "    os.makedirs(plot_dir)\n",
    "cycle_name = 'cycle{}'.format(int(cycle))\n",
    "antenna_name = 'alma.cycle{}.0.{}'.format(cycle, antenna_config)\n",
    "antennalist = os.path.join(main_path, \"antenna_config\", cycle_name, antenna_name + '.cfg')\n",
    "spatial_resolution = sm.get_spatial_resolution(band, antenna_config)\n",
    "print('Spatial Resolution:', spatial_resolution)\n",
    "central_freq= sm.get_band_central_freq(band)\n",
    "print('Central Frequency: ', central_freq)\n",
    "max_baseline = sm.get_max_baseline_from_antenna_config(antennalist)\n",
    "central_freq = sm.get_band_central_freq(band)\n",
    "beam_size = sm.compute_beam_size_from_max_baseline(max_baseline, central_freq)\n",
    "fov = sm.get_fov([band])[0]\n",
    "cell_size = beam_size / 5\n",
    "\n",
    "if n_pxs is None:\n",
    "    n_px = sm.closest_power_of_2(int(fov / cell_size))\n",
    "elif n_pxs is not None and crop is False:\n",
    "    n_px = int(n_pxs)\n",
    "else:\n",
    "    n_px = sm.closest_power_of_2(int(fov / cell_size))\n",
    "bandwidth = 1000\n",
    "inwidth = 10\n",
    "fwhm_x = 10 * cell_size * np.random.rand() + cell_size\n",
    "fwhm_y = 10 * cell_size  * np.random.rand() + cell_size\n",
    "fwhm_z = 0.1 * bandwidth * np.random.rand() + inwidth\n",
    "print('FWHM X:', fwhm_x)\n",
    "print('FWHM Y:', fwhm_y)\n",
    "print('FWHM Z:', fwhm_z)\n",
    "n_channels = int(bandwidth / inwidth)\n",
    "print('Number of Channels:', n_channels)\n",
    "i = 0\n",
    "n_sources = 0\n",
    "ra, dec = 0, 0\n",
    "pa = 128\n",
    "min_sep_spatial = 0\n",
    "min_sep_frequency = 0\n",
    "rest_frequency = 1440.4\n",
    "serendipitous = False\n",
    "filename = sm.generate_pointlike_skymodel(i, output_dir, rest_frequency, \n",
    "                                                   inwidth * U.MHz, fwhm_z * U.MHz,\n",
    "                                                   central_freq * U.GHz, n_px, \n",
    "                                                   n_channels, ra * U.deg, dec * U.deg,\n",
    "                                                   spatial_resolution * U.arcsec, plot_dir)\n",
    "\n",
    "\n",
    "simobserve(\n",
    "    skymodel=filename,\n",
    "    project=project,\n",
    "    indirection=\"J2000 19h30m00 -40d00m00\",\n",
    "    incell=\"{}arcsec\".format(cell_size),\n",
    "    incenter='{}GHz'.format(central_freq),\n",
    "    inwidth=\"{}MHz\".format(inwidth),\n",
    "    inbright=\"{}Jy/pix\".format(inbright),\n",
    "    setpointings=True,\n",
    "    obsmode='int',\n",
    "    antennalist=antennalist,\n",
    "    totaltime=\"{}s\".format(totaltime),\n",
    "    integration=\"{}s\".format(integration),\n",
    "    graphics='none',\n",
    "    overwrite=True,\n",
    "    thermalnoise=\"tsys-atm\",\n",
    ")\n",
    "tclean(\n",
    "    vis=os.path.join(project, \"{}.{}.noisy.ms\".format(project, antenna_name)),\n",
    "    imagename=os.path.join(project, '{}.{}'.format(project, antenna_name)),\n",
    "    imsize=[n_px, n_px],\n",
    "    cell=\"{}arcsec\".format(cell_size),\n",
    "    specmode=\"cube\",\n",
    "    niter=0,\n",
    "    fastnoise=False,\n",
    "    calcpsf=True,\n",
    "    pbcor=True,\n",
    "    pblimit=0.2,\n",
    ")\n",
    "exportfits(imagename=os.path.join(project, '{}.{}.image'.format(project, antenna_name)), \n",
    "           fitsimage=os.path.join(output_dir, \"dirty_cube_\" + str(i) +\".fits\"), overwrite=True)\n",
    "exportfits(imagename=os.path.join(project, '{}.{}.skymodel'.format(project, antenna_name)), \n",
    "           fitsimage=os.path.join(output_dir, \"clean_cube_\" + str(i) +\".fits\"), overwrite=True)\n",
    "clean, clean_header = sm.load_fits(os.path.join(output_dir, \"clean_cube_\" + str(i) +\".fits\"))\n",
    "dirty, dirty_header = sm.load_fits(os.path.join(output_dir, \"dirty_cube_\" + str(i) +\".fits\"))\n",
    "print('Cropping and Saving Plots')\n",
    "if crop == True:\n",
    "    left = int((clean.shape[-1] - n_pxs) / 2)\n",
    "    clean_cube = clean[:, :,  left:left+int(n_pxs), left:left+int(n_pxs)]\n",
    "    dirty_cube = dirty[:, :, left:left+int(n_pxs), left:left+int(n_pxs)]\n",
    "    if flatten == True:\n",
    "        clean_cube = np.expand_dims(np.sum(clean_cube, axis=1), axis=1)\n",
    "        dirty_cube = np.expand_dims(np.sum(dirty_cube, axis=1), axis=1)\n",
    "        \n",
    "    sm.write_numpy_to_fits(clean_cube, clean_header, os.path.join(output_dir, \"clean_cube_\" + str(i) +\".fits\"))\n",
    "    sm.write_numpy_to_fits(dirty_cube, dirty_header, os.path.join(output_dir, \"dirty_cube_\" + str(i) +\".fits\"))\n",
    "sm.plotter(i, output_dir, plot_dir)"
   ]
  },
  {
   "cell_type": "code",
   "execution_count": 13,
   "metadata": {},
   "outputs": [
    {
     "name": "stdout",
     "output_type": "stream",
     "text": [
      "<class 'pandas.core.frame.DataFrame'>\n",
      "RangeIndex: 12535 entries, 0 to 12534\n",
      "Data columns (total 7 columns):\n",
      " #   Column      Non-Null Count  Dtype  \n",
      "---  ------      --------------  -----  \n",
      " 0   P_Late      12535 non-null  float64\n",
      " 1   P_S0        12535 non-null  float64\n",
      " 2   P_Sab       12535 non-null  float64\n",
      " 3   Sigma_Late  12535 non-null  float64\n",
      " 4   Sigma_S0    12535 non-null  float64\n",
      " 5   Sigma_Sab   12535 non-null  float64\n",
      " 6   SubhaloID   12535 non-null  float64\n",
      "dtypes: float64(7)\n",
      "memory usage: 685.6 KB\n",
      "0             0.0\n",
      "1             1.0\n",
      "2             2.0\n",
      "3             3.0\n",
      "4             4.0\n",
      "           ...   \n",
      "12530    704187.0\n",
      "12531    719337.0\n",
      "12532    727485.0\n",
      "12533    738596.0\n",
      "12534    752194.0\n",
      "Name: SubhaloID, Length: 12535, dtype: float64\n"
     ]
    }
   ],
   "source": [
    "import simulator as sm\n",
    "file = 'morphologies_deeplearn.hdf5'\n",
    "db = sm.get_data_from_hdf(file)\n",
    "db.info()\n",
    "print(db['SubhaloID'])"
   ]
  },
  {
   "cell_type": "code",
   "execution_count": 15,
   "metadata": {},
   "outputs": [
    {
     "name": "stdout",
     "output_type": "stream",
     "text": [
      "BoxSize 75000.0\n",
      "FlagDoubleprecision 0\n",
      "Git_commit b'd203ec8b07c7e2bdda5f608aa0babea46d603699'\n",
      "Git_date b'Thu Apr 7 14:14:27 2016 +0200'\n",
      "HubbleParam 0.6774\n",
      "Ngroups_ThisFile 1\n",
      "Ngroups_Total 6291349\n",
      "Nids_ThisFile 11830481\n",
      "Nids_Total 5263038490\n",
      "Nsubgroups_ThisFile 17185\n",
      "Nsubgroups_Total 4371211\n",
      "NumFiles 448\n",
      "Omega0 0.3089\n",
      "OmegaLambda 0.6911\n",
      "Redshift 2.220446049250313e-16\n",
      "Time 0.9999999999999998\n"
     ]
    }
   ],
   "source": [
    "basePath = '/home/astro/Documents/TNGData/TNG100-1/output/'\n",
    "import h5py\n",
    "import numpy as np\n",
    "import simulator as sm\n",
    "snapNum = 99\n",
    "data_header = sm.loadHeader(basePath, snapNum)\n",
    "for key, value in data_header.items():\n",
    "    print(key, value)"
   ]
  },
  {
   "cell_type": "code",
   "execution_count": 31,
   "metadata": {},
   "outputs": [
    {
     "name": "stdout",
     "output_type": "stream",
     "text": [
      "99 76\n"
     ]
    }
   ],
   "source": [
    "import astropy.units as U\n",
    "TNGSnapshotID = 99\n",
    "TNGSubhaloID = 76\n",
    "distance = 3 * U.Mpc\n",
    "x_rot = 0\n",
    "y_rot = 0\n",
    "TNGBasePath = '/home/astro/Documents/TNGData/TNG100-1/output/'\n",
    "source = sm.myTNGSource(snapNum=TNGSnapshotID, \n",
    "                        subID=TNGSubhaloID,\n",
    "                        distance=distance,\n",
    "                        rotation = {'L_coords': (x_rot, y_rot)},\n",
    "                        basePath = TNGBasePath,\n",
    "                        ra = 0. * U.deg,\n",
    "                        dec = 0. * U.deg,)"
   ]
  },
  {
   "cell_type": "code",
   "execution_count": 57,
   "metadata": {},
   "outputs": [],
   "source": [
    "rest_frequency = 1440.4\n",
    "central_frequency =  250 * U.GHz\n",
    "frequency_resolution = 10 * U.MHz\n",
    "n_px = 256\n",
    "n_channels = 100\n",
    "bandwidth = 1280 * U.MHz\n",
    "channel_width = bandwidth / n_channels\n",
    "hI_rest_frequency = rest_frequency * U.MHz\n",
    "radio_hI_equivalence = U.doppler_radio(hI_rest_frequency)\n",
    "central_velocity = central_frequency.to(U.km / U.s, equivalencies=radio_hI_equivalence)\n",
    "velocity_resolution = frequency_resolution.to(U.km / U.s, equivalencies=radio_hI_equivalence)\n",
    "ra = source.ra\n",
    "dec = source.dec\n",
    "pixel_size =  0.013233841070630813\n",
    "datacube = sm.DataCube(\n",
    "        n_px_x = n_px,\n",
    "        n_px_y = n_px,\n",
    "        n_channels = n_channels, \n",
    "        px_size = pixel_size * U.arcsec,\n",
    "        channel_width=channel_width,\n",
    "        velocity_centre=source.vsys, \n",
    "        ra = ra,\n",
    "        dec = dec,\n",
    "    )\n",
    "spectral_model = sm.GaussianSpectrum(\n",
    "        sigma=\"thermal\"\n",
    "    )\n",
    "sph_kernel = sm.AdaptiveKernel(\n",
    "    (\n",
    "        sm.CubicSplineKernel(),\n",
    "        sm.GaussianKernel(truncate=6),\n",
    "))\n",
    "M = sm.Martini(\n",
    "        source=source,\n",
    "        datacube=datacube,\n",
    "        sph_kernel=sph_kernel,\n",
    "        spectral_model=spectral_model,\n",
    "        quiet=True)"
   ]
  },
  {
   "cell_type": "code",
   "execution_count": 26,
   "metadata": {},
   "outputs": [
    {
     "name": "stdout",
     "output_type": "stream",
     "text": [
      "4.422650863276812 Mpc\n"
     ]
    }
   ],
   "source": [
    "import astropy.units as u\n",
    "import astropy.cosmology.units as cu\n",
    "from astropy.cosmology import Planck13\n",
    "z = 0.001 * cu.redshift\n",
    "d = z.to(u.Mpc, cu.redshift_distance(Planck13, kind=\"comoving\"))\n",
    "print(d)"
   ]
  },
  {
   "cell_type": "code",
   "execution_count": 59,
   "metadata": {},
   "outputs": [
    {
     "ename": "AttributeError",
     "evalue": "module 'astropy.cosmology' has no attribute 'luminosity_distance'.",
     "output_type": "error",
     "traceback": [
      "\u001b[0;31m---------------------------------------------------------------------------\u001b[0m",
      "\u001b[0;31mAttributeError\u001b[0m                            Traceback (most recent call last)",
      "\u001b[1;32m/home/astro/Documents/GitHub/ALMASim/tester.ipynb Cell 7\u001b[0m line \u001b[0;36m2\n\u001b[1;32m      <a href='vscode-notebook-cell://ssh-remote%2Bastro-workstation/home/astro/Documents/GitHub/ALMASim/tester.ipynb#X14sdnNjb2RlLXJlbW90ZQ%3D%3D?line=0'>1</a>\u001b[0m \u001b[39mimport\u001b[39;00m \u001b[39mastropy\u001b[39;00m\n\u001b[0;32m----> <a href='vscode-notebook-cell://ssh-remote%2Bastro-workstation/home/astro/Documents/GitHub/ALMASim/tester.ipynb#X14sdnNjb2RlLXJlbW90ZQ%3D%3D?line=1'>2</a>\u001b[0m astropy\u001b[39m.\u001b[39;49mcosmology\u001b[39m.\u001b[39;49mluminosity_distance(z)\n",
      "File \u001b[0;32m~/almasim/lib/python3.8/site-packages/astropy/cosmology/__init__.py:44\u001b[0m, in \u001b[0;36m__getattr__\u001b[0;34m(name)\u001b[0m\n\u001b[1;32m     35\u001b[0m \u001b[39m\u001b[39m\u001b[39m\"\"\"Get realizations using lazy import from\u001b[39;00m\n\u001b[1;32m     36\u001b[0m \u001b[39m`PEP 562 <https://www.python.org/dev/peps/pep-0562/>`_.\u001b[39;00m\n\u001b[1;32m     37\u001b[0m \n\u001b[0;32m   (...)\u001b[0m\n\u001b[1;32m     41\u001b[0m \u001b[39m    If \"name\" is not in :mod:`astropy.cosmology.realizations`\u001b[39;00m\n\u001b[1;32m     42\u001b[0m \u001b[39m\"\"\"\u001b[39;00m\n\u001b[1;32m     43\u001b[0m \u001b[39mif\u001b[39;00m name \u001b[39mnot\u001b[39;00m \u001b[39min\u001b[39;00m available:\n\u001b[0;32m---> 44\u001b[0m     \u001b[39mraise\u001b[39;00m \u001b[39mAttributeError\u001b[39;00m(\u001b[39mf\u001b[39m\u001b[39m\"\u001b[39m\u001b[39mmodule \u001b[39m\u001b[39m{\u001b[39;00m\u001b[39m__name__\u001b[39m\u001b[39m!r}\u001b[39;00m\u001b[39m has no attribute \u001b[39m\u001b[39m{\u001b[39;00mname\u001b[39m!r}\u001b[39;00m\u001b[39m.\u001b[39m\u001b[39m\"\u001b[39m)\n\u001b[1;32m     46\u001b[0m \u001b[39mreturn\u001b[39;00m \u001b[39mgetattr\u001b[39m(realizations, name)\n",
      "\u001b[0;31mAttributeError\u001b[0m: module 'astropy.cosmology' has no attribute 'luminosity_distance'."
     ]
    }
   ],
   "source": [
    "import astropy\n",
    "astropy.cosmology.luminosity_distance(z)"
   ]
  },
  {
   "cell_type": "code",
   "execution_count": 27,
   "metadata": {},
   "outputs": [
    {
     "name": "stdout",
     "output_type": "stream",
     "text": [
      "[      0   17185   17185   17185   17185   17185   17185   17185   31342\n",
      "   31342   31342   31342   31342   41582   41582   41582   41582   41582\n",
      "   52618   52618   52618   52618   52618   60731   60731   60731   60731\n",
      "   69507   69507   69507   76086   76086   76086   83280   83280   83280\n",
      "   83280   88663   88663   88663   96500   96500   96500  102683  102683\n",
      "  102683  108012  108012  114388  114388  118679  121863  121863  125027\n",
      "  125027  128393  131047  131047  134847  137885  137885  140721  143884\n",
      "  146176  149169  149169  152031  154493  156809  158847  161162  163675\n",
      "  165727  168390  170540  172649  175238  177719  179886  181983  186927\n",
      "  188859  191079  192898  194946  199321  200803  202634  206226  207473\n",
      "  210763  212836  216016  217485  220557  223896  226194  227574  230235\n",
      "  233214  235692  237941  241153  243186  246232  248157  251299  254112\n",
      "  256507  259114  261959  264412  267323  269440  272322  274790  277687\n",
      "  280454  283011  285479  288014  290643  293439  296302  298892  301746\n",
      "  303710  306058  308598  310985  313954  316354  319144  321674  324127\n",
      "  326652  329105  331701  334727  337444  340106  342689  345250  347508\n",
      "  349624  352061  354239  356415  358582  360509  362551  365263  368436\n",
      "  371259  373951  376544  379147  381608  384103  386612  388818  391081\n",
      "  393117  395153  397418  399391  401192  403110  404769  406495  408393\n",
      "  409986  411783  413463  415113  416752  427505  444859  461678  478400\n",
      "  495000  511808  528494  544958  561124  577323  593372  609196  625305\n",
      "  641069  656694  672446  688078  703745  719236  734770  750602  766062\n",
      "  781608  796803  812059  827663  843037  858290  873733  888969  904400\n",
      "  919796  934980  950310  965277  980478  995619 1010703 1025968 1041094\n",
      " 1056097 1071111 1085973 1101014 1116130 1131152 1146158 1161130 1176115\n",
      " 1191122 1206019 1220907 1235709 1250679 1265681 1280727 1295524 1310395\n",
      " 1325061 1339764 1354558 1369149 1383878 1398444 1413130 1427919 1442856\n",
      " 1457531 1472279 1487089 1501825 1516619 1531339 1545882 1560715 1575268\n",
      " 1589916 1604391 1618808 1633374 1647727 1662226 1676683 1691380 1705879\n",
      " 1720515 1735096 1749745 1764410 1779111 1793662 1808292 1822874 1837582\n",
      " 1852196 1866993 1881434 1896099 1910530 1925114 1939701 1954027 1968487\n",
      " 1983176 1997716 2012142 2026612 2041033 2055391 2069776 2084257 2098898\n",
      " 2113426 2127936 2142393 2156806 2171221 2185647 2200167 2214583 2229031\n",
      " 2243540 2257996 2272446 2286849 2301318 2315688 2329934 2344229 2358599\n",
      " 2372830 2386992 2401210 2415496 2429852 2444250 2458705 2473195 2487494\n",
      " 2501907 2516296 2530536 2545008 2559488 2573844 2588262 2602575 2616863\n",
      " 2631180 2645536 2659913 2674281 2688342 2702635 2716821 2730958 2745377\n",
      " 2759444 2773547 2787815 2802032 2816234 2830469 2844642 2858694 2872830\n",
      " 2887106 2901221 2915324 2929332 2943522 2957508 2971589 2985410 2999274\n",
      " 3013277 3027313 3041180 3055098 3069069 3082909 3096877 3110806 3124654\n",
      " 3138378 3152243 3165960 3179833 3193861 3207770 3221696 3235679 3249535\n",
      " 3263551 3277372 3291235 3305251 3319404 3333332 3347336 3361310 3375460\n",
      " 3389651 3403782 3417924 3431947 3446172 3460373 3474518 3488463 3502699\n",
      " 3516854 3530814 3544831 3558821 3572716 3586693 3600502 3614367 3628432\n",
      " 3642451 3656287 3670151 3684151 3698178 3712229 3726054 3739881 3754038\n",
      " 3768000 3781934 3795915 3809676 3823666 3837788 3852004 3865912 3879898\n",
      " 3893924 3908011 3922137 3936214 3950305 3964263 3978156 3992208 4006237\n",
      " 4020374 4034451 4048554 4062588 4076681 4090752 4104778 4118836 4132720\n",
      " 4146679 4160707 4174590 4188540 4202575 4216565 4230630 4244614 4258634\n",
      " 4272710 4286707 4300890 4314981 4329070 4343069 4357242]\n"
     ]
    }
   ],
   "source": [
    "with h5py.File(sm.offsetPath(basePath, snapNum), \"r\") as f:\n",
    "    offsets = f[\"FileOffsets/\" + gName][()]\n",
    "print(offsets)"
   ]
  },
  {
   "cell_type": "code",
   "execution_count": 1,
   "metadata": {},
   "outputs": [
    {
     "name": "stdout",
     "output_type": "stream",
     "text": [
      "/home/astro/Documents/casa-data/atmospheric_errors/sim_0\n",
      "sim_0.alma.cycle9.0.10.noisy.ms\n",
      "/home/astro/Documents/casa-data/atmospheric_errors/sim_0/sim_0.alma.cycle9.0.10.noisy.ms\n",
      "/home/astro/Documents/casa-data/atmospheric_errors/sim_0_atmosphere.gcal\n"
     ]
    }
   ],
   "source": [
    "# Simulate atmospherics\n",
    "import simulator as sm\n",
    "import os\n",
    "project = '/home/astro/Documents/casa-data/atmospheric_errors/sim_0'\n",
    "project_folder = 'sim_0'\n",
    "cycle = 9\n",
    "antenna_name = 'alma.cycle{}.0.10'.format(cycle)\n",
    "cycle = 'cycle{}'.format(cycle)\n",
    "print(project)\n",
    "main_path = '/home/astro/Documents/GitHub/ALMASim'\n",
    "scale = 0.3\n",
    "ms_name = \"{}.{}.noisy.ms\".format(project_folder, antenna_name)\n",
    "print(ms_name)\n",
    "ms = os.path.join(project, ms_name)\n",
    "print(ms)\n",
    "antennalist = os.path.join(main_path, \"antenna_config\", cycle, antenna_name + '.cfg')\n",
    "\n",
    "\n",
    "sm.simulate_atmospheric_noise(project, scale, ms, antennalist)"
   ]
  },
  {
   "cell_type": "code",
   "execution_count": 5,
   "metadata": {},
   "outputs": [
    {
     "data": {
      "text/plain": [
       "True"
      ]
     },
     "execution_count": 5,
     "metadata": {},
     "output_type": "execute_result"
    }
   ],
   "source": [
    "gcaltable = '/home/astro/Documents/casa-data/atmospheric_errors/sim_0_atmosphere.gcal'\n",
    "from casatools import table \n",
    "tb = table()\n",
    "tb.open(gcaltable)"
   ]
  },
  {
   "cell_type": "code",
   "execution_count": 1,
   "metadata": {},
   "outputs": [
    {
     "ename": "ModuleNotFoundError",
     "evalue": "No module named 'Hdecompose'",
     "output_type": "error",
     "traceback": [
      "\u001b[0;31m---------------------------------------------------------------------------\u001b[0m",
      "\u001b[0;31mModuleNotFoundError\u001b[0m                       Traceback (most recent call last)",
      "\u001b[1;32m/Users/michele/Documents/GitHub/ALMASim/tester.ipynb Cell 4\u001b[0m line \u001b[0;36m<cell line: 1>\u001b[0;34m()\u001b[0m\n\u001b[0;32m----> <a href='vscode-notebook-cell:/Users/michele/Documents/GitHub/ALMASim/tester.ipynb#W4sZmlsZQ%3D%3D?line=0'>1</a>\u001b[0m \u001b[39mimport\u001b[39;00m \u001b[39msimulator\u001b[39;00m \u001b[39mas\u001b[39;00m \u001b[39msm\u001b[39;00m\n\u001b[1;32m      <a href='vscode-notebook-cell:/Users/michele/Documents/GitHub/ALMASim/tester.ipynb#W4sZmlsZQ%3D%3D?line=1'>2</a>\u001b[0m cycle \u001b[39m=\u001b[39m \u001b[39m9\u001b[39m\n\u001b[1;32m      <a href='vscode-notebook-cell:/Users/michele/Documents/GitHub/ALMASim/tester.ipynb#W4sZmlsZQ%3D%3D?line=2'>3</a>\u001b[0m \u001b[39mfor\u001b[39;00m config_number \u001b[39min\u001b[39;00m \u001b[39mrange\u001b[39m(\u001b[39m1\u001b[39m, \u001b[39m10\u001b[39m):\n",
      "File \u001b[0;32m~/Documents/GitHub/ALMASim/simulator.py:27\u001b[0m, in \u001b[0;36m<module>\u001b[0;34m\u001b[0m\n\u001b[1;32m     25\u001b[0m \u001b[39mfrom\u001b[39;00m \u001b[39mcasatools\u001b[39;00m \u001b[39mimport\u001b[39;00m table\n\u001b[1;32m     26\u001b[0m \u001b[39mfrom\u001b[39;00m \u001b[39mcasatools\u001b[39;00m \u001b[39mimport\u001b[39;00m simulator \u001b[39mas\u001b[39;00m casa_simulator\n\u001b[0;32m---> 27\u001b[0m \u001b[39mfrom\u001b[39;00m \u001b[39mHdecompose\u001b[39;00m\u001b[39m.\u001b[39;00m\u001b[39matomic_frac\u001b[39;00m \u001b[39mimport\u001b[39;00m atomic_frac\n\u001b[1;32m     28\u001b[0m \u001b[39mfrom\u001b[39;00m \u001b[39millustris_python\u001b[39;00m\u001b[39m.\u001b[39;00m\u001b[39msnapshot\u001b[39;00m \u001b[39mimport\u001b[39;00m getSnapOffsets, loadSubset\n\u001b[1;32m     29\u001b[0m \u001b[39mfrom\u001b[39;00m \u001b[39mmartini\u001b[39;00m \u001b[39mimport\u001b[39;00m DataCube, Martini\n",
      "\u001b[0;31mModuleNotFoundError\u001b[0m: No module named 'Hdecompose'"
     ]
    }
   ],
   "source": [
    "import simulator as sm\n",
    "cycle = 9\n",
    "for config_number in range(1, 10):\n",
    "    antenna_name = 'alma.cycle{}.0.{}'.format(cycle, config_number)\n",
    "    main_path = '/home/astro/Documents/GitHub/ALMASim'\n",
    "    antenna_path = os.path.join(main_path, \"antenna_config\", 'cycle{}'.format(cycle), antenna_name + '.cfg')\n",
    "    max_baseline = sm.get_max_baseline_from_antenna_config(antenna_path)\n",
    "    print(max_baseline)"
   ]
  },
  {
   "cell_type": "markdown",
   "metadata": {},
   "source": []
  }
 ],
 "metadata": {
  "kernelspec": {
   "display_name": "casa6.5",
   "language": "python",
   "name": "python3"
  },
  "language_info": {
   "codemirror_mode": {
    "name": "ipython",
    "version": 3
   },
   "file_extension": ".py",
   "mimetype": "text/x-python",
   "name": "python",
   "nbconvert_exporter": "python",
   "pygments_lexer": "ipython3",
   "version": "3.8.18"
  },
  "orig_nbformat": 4
 },
 "nbformat": 4,
 "nbformat_minor": 2
}
